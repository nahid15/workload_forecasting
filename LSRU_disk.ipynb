{
  "nbformat": 4,
  "nbformat_minor": 0,
  "metadata": {
    "kernelspec": {
      "display_name": "Python 3",
      "language": "python",
      "name": "python3"
    },
    "language_info": {
      "codemirror_mode": {
        "name": "ipython",
        "version": 3
      },
      "file_extension": ".py",
      "mimetype": "text/x-python",
      "name": "python",
      "nbconvert_exporter": "python",
      "pygments_lexer": "ipython3",
      "version": "3.6.6"
    },
    "colab": {
      "name": "LSRU_disk.ipynb",
      "provenance": [],
      "collapsed_sections": []
    }
  },
  "cells": [
    {
      "cell_type": "code",
      "metadata": {
        "_cell_guid": "79c7e3d0-c299-4dcb-8224-4455121ee9b0",
        "_uuid": "d629ff2d2480ee46fbb7e2d37f6b5fab8052498a",
        "colab": {
          "base_uri": "https://localhost:8080/"
        },
        "id": "M_xtp_aBz-p9",
        "outputId": "3061d071-cd1a-4a5b-f065-f3383952b994"
      },
      "source": [
        "import pandas as pd\n",
        "import tensorflow as tf\n",
        "print(tf.__version__)"
      ],
      "execution_count": 8,
      "outputs": [
        {
          "output_type": "stream",
          "text": [
            "2.4.1\n"
          ],
          "name": "stdout"
        }
      ]
    },
    {
      "cell_type": "code",
      "metadata": {
        "id": "8Y1t9rsO3aWR"
      },
      "source": [
        "import numpy as np\n",
        "import matplotlib.pyplot as plt"
      ],
      "execution_count": 9,
      "outputs": []
    },
    {
      "cell_type": "markdown",
      "metadata": {
        "id": "9S-Y7vyV3cSl"
      },
      "source": [
        "Definiation of global plot function:"
      ]
    },
    {
      "cell_type": "code",
      "metadata": {
        "id": "3MqC9v-vz-qH"
      },
      "source": [
        "def plot_series(time, series, format=\"-\", start=0, end=None):\n",
        "    plt.plot(time[start:end], series[start:end], format)\n",
        "    plt.xlabel(\"Time\", fontsize=15)\n",
        "    plt.ylabel(\"Disk Usages\", fontsize=15)\n",
        "    plt.grid(True)"
      ],
      "execution_count": 10,
      "outputs": []
    },
    {
      "cell_type": "markdown",
      "metadata": {
        "id": "5h1MusNAz-qI"
      },
      "source": [
        "# Read datasets\n",
        "Save theme to local location"
      ]
    },
    {
      "cell_type": "markdown",
      "metadata": {
        "id": "QxmWVC6b0fDc"
      },
      "source": [
        "###For kaggle after uploading dataset use bellow code to *read*"
      ]
    },
    {
      "cell_type": "code",
      "metadata": {
        "id": "D-5GqD830ePa"
      },
      "source": [
        "df = pd.read_csv(\"/kaggle/input/43.csv\")"
      ],
      "execution_count": null,
      "outputs": []
    },
    {
      "cell_type": "markdown",
      "metadata": {
        "id": "0pk8IIPv0v61"
      },
      "source": [
        "##In google colab use mount method or upload method for read dataset\n",
        "1. upload method\n"
      ]
    },
    {
      "cell_type": "code",
      "metadata": {
        "colab": {
          "resources": {
            "http://localhost:8080/nbextensions/google.colab/files.js": {
              "data": "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",
              "ok": true,
              "headers": [
                [
                  "content-type",
                  "application/javascript"
                ]
              ],
              "status": 200,
              "status_text": "OK"
            }
          },
          "base_uri": "https://localhost:8080/",
          "height": 77
        },
        "id": "O6dmPxcw1ft_",
        "outputId": "05b56b63-074a-4987-faf0-eef150a23b31"
      },
      "source": [
        "from google.colab import files\n",
        "uploaded = files.upload()"
      ],
      "execution_count": 11,
      "outputs": [
        {
          "output_type": "display_data",
          "data": {
            "text/html": [
              "\n",
              "     <input type=\"file\" id=\"files-9e0d7720-91a4-455a-84e4-d9f77878ab1c\" name=\"files[]\" multiple disabled\n",
              "        style=\"border:none\" />\n",
              "     <output id=\"result-9e0d7720-91a4-455a-84e4-d9f77878ab1c\">\n",
              "      Upload widget is only available when the cell has been executed in the\n",
              "      current browser session. Please rerun this cell to enable.\n",
              "      </output>\n",
              "      <script src=\"/nbextensions/google.colab/files.js\"></script> "
            ],
            "text/plain": [
              "<IPython.core.display.HTML object>"
            ]
          },
          "metadata": {
            "tags": []
          }
        },
        {
          "output_type": "stream",
          "text": [
            "Saving 43.csv to 43.csv\n"
          ],
          "name": "stdout"
        }
      ]
    },
    {
      "cell_type": "markdown",
      "metadata": {
        "id": "8yqg_opq1oR3"
      },
      "source": [
        " 2. mount method"
      ]
    },
    {
      "cell_type": "code",
      "metadata": {
        "id": "hMD7z88v1vJk"
      },
      "source": [
        "from google.colab import drive\n",
        "drive.mount('/content/drive')"
      ],
      "execution_count": null,
      "outputs": []
    },
    {
      "cell_type": "markdown",
      "metadata": {
        "id": "lFMstXZq17iu"
      },
      "source": [
        "Read CSV"
      ]
    },
    {
      "cell_type": "code",
      "metadata": {
        "colab": {
          "base_uri": "https://localhost:8080/",
          "height": 441
        },
        "id": "29b90d3pz-qJ",
        "outputId": "248c0f8d-fb3f-47b8-c251-07afac309044"
      },
      "source": [
        "df = pd.read_csv(\"43.csv\")\n",
        "df.to_csv(\"43.csv\")\n",
        "df"
      ],
      "execution_count": 12,
      "outputs": [
        {
          "output_type": "execute_result",
          "data": {
            "text/html": [
              "<div>\n",
              "<style scoped>\n",
              "    .dataframe tbody tr th:only-of-type {\n",
              "        vertical-align: middle;\n",
              "    }\n",
              "\n",
              "    .dataframe tbody tr th {\n",
              "        vertical-align: top;\n",
              "    }\n",
              "\n",
              "    .dataframe thead th {\n",
              "        text-align: right;\n",
              "    }\n",
              "</style>\n",
              "<table border=\"1\" class=\"dataframe\">\n",
              "  <thead>\n",
              "    <tr style=\"text-align: right;\">\n",
              "      <th></th>\n",
              "      <th>Timestamp [ms]</th>\n",
              "      <th>CPU cores</th>\n",
              "      <th>CPU capacity provisioned [MHZ]</th>\n",
              "      <th>CPU usage [MHZ]</th>\n",
              "      <th>CPU usage [%]</th>\n",
              "      <th>Memory capacity provisioned [KB]</th>\n",
              "      <th>Memory usage [KB]</th>\n",
              "      <th>Disk read throughput [KB/s]</th>\n",
              "      <th>Disk write throughput [KB/s]</th>\n",
              "      <th>Network received throughput [KB/s]</th>\n",
              "      <th>Network transmitted throughput [KB/s]</th>\n",
              "    </tr>\n",
              "  </thead>\n",
              "  <tbody>\n",
              "    <tr>\n",
              "      <th>0</th>\n",
              "      <td>1376314846</td>\n",
              "      <td>2</td>\n",
              "      <td>5851.998636</td>\n",
              "      <td>3.901332</td>\n",
              "      <td>0.066667</td>\n",
              "      <td>2097152.0</td>\n",
              "      <td>106254.133333</td>\n",
              "      <td>7.933333</td>\n",
              "      <td>1.066667</td>\n",
              "      <td>0.000000</td>\n",
              "      <td>0.000000</td>\n",
              "    </tr>\n",
              "    <tr>\n",
              "      <th>1</th>\n",
              "      <td>1376315146</td>\n",
              "      <td>2</td>\n",
              "      <td>5851.998636</td>\n",
              "      <td>0.000000</td>\n",
              "      <td>0.000000</td>\n",
              "      <td>2097152.0</td>\n",
              "      <td>79689.600000</td>\n",
              "      <td>0.000000</td>\n",
              "      <td>1.000000</td>\n",
              "      <td>0.000000</td>\n",
              "      <td>0.000000</td>\n",
              "    </tr>\n",
              "    <tr>\n",
              "      <th>2</th>\n",
              "      <td>1376315446</td>\n",
              "      <td>2</td>\n",
              "      <td>5851.998636</td>\n",
              "      <td>9.753331</td>\n",
              "      <td>0.166667</td>\n",
              "      <td>2097152.0</td>\n",
              "      <td>62912.000000</td>\n",
              "      <td>0.000000</td>\n",
              "      <td>0.066667</td>\n",
              "      <td>0.000000</td>\n",
              "      <td>0.000000</td>\n",
              "    </tr>\n",
              "    <tr>\n",
              "      <th>3</th>\n",
              "      <td>1376315746</td>\n",
              "      <td>2</td>\n",
              "      <td>5851.998636</td>\n",
              "      <td>0.000000</td>\n",
              "      <td>0.000000</td>\n",
              "      <td>2097152.0</td>\n",
              "      <td>97865.333333</td>\n",
              "      <td>0.000000</td>\n",
              "      <td>0.066667</td>\n",
              "      <td>0.000000</td>\n",
              "      <td>0.000000</td>\n",
              "    </tr>\n",
              "    <tr>\n",
              "      <th>4</th>\n",
              "      <td>1376316046</td>\n",
              "      <td>2</td>\n",
              "      <td>5851.998636</td>\n",
              "      <td>0.000000</td>\n",
              "      <td>0.000000</td>\n",
              "      <td>2097152.0</td>\n",
              "      <td>127225.333333</td>\n",
              "      <td>1.933333</td>\n",
              "      <td>0.333333</td>\n",
              "      <td>0.000000</td>\n",
              "      <td>0.000000</td>\n",
              "    </tr>\n",
              "    <tr>\n",
              "      <th>...</th>\n",
              "      <td>...</td>\n",
              "      <td>...</td>\n",
              "      <td>...</td>\n",
              "      <td>...</td>\n",
              "      <td>...</td>\n",
              "      <td>...</td>\n",
              "      <td>...</td>\n",
              "      <td>...</td>\n",
              "      <td>...</td>\n",
              "      <td>...</td>\n",
              "      <td>...</td>\n",
              "    </tr>\n",
              "    <tr>\n",
              "      <th>8627</th>\n",
              "      <td>1378905598</td>\n",
              "      <td>2</td>\n",
              "      <td>5851.998944</td>\n",
              "      <td>76.075986</td>\n",
              "      <td>1.300000</td>\n",
              "      <td>2097152.0</td>\n",
              "      <td>329950.133333</td>\n",
              "      <td>0.333333</td>\n",
              "      <td>561.866667</td>\n",
              "      <td>581.800000</td>\n",
              "      <td>18.400000</td>\n",
              "    </tr>\n",
              "    <tr>\n",
              "      <th>8628</th>\n",
              "      <td>1378905898</td>\n",
              "      <td>2</td>\n",
              "      <td>5851.998944</td>\n",
              "      <td>54.618657</td>\n",
              "      <td>0.933333</td>\n",
              "      <td>2097152.0</td>\n",
              "      <td>244665.333333</td>\n",
              "      <td>1.800000</td>\n",
              "      <td>1.133333</td>\n",
              "      <td>2.466667</td>\n",
              "      <td>1.066667</td>\n",
              "    </tr>\n",
              "    <tr>\n",
              "      <th>8629</th>\n",
              "      <td>1378906198</td>\n",
              "      <td>2</td>\n",
              "      <td>5851.998944</td>\n",
              "      <td>58.519989</td>\n",
              "      <td>1.000000</td>\n",
              "      <td>2097152.0</td>\n",
              "      <td>139808.800000</td>\n",
              "      <td>0.200000</td>\n",
              "      <td>0.866667</td>\n",
              "      <td>2.400000</td>\n",
              "      <td>1.066667</td>\n",
              "    </tr>\n",
              "    <tr>\n",
              "      <th>8630</th>\n",
              "      <td>1378906498</td>\n",
              "      <td>2</td>\n",
              "      <td>5851.998944</td>\n",
              "      <td>325.761275</td>\n",
              "      <td>5.566667</td>\n",
              "      <td>2097152.0</td>\n",
              "      <td>325755.733333</td>\n",
              "      <td>1029.666667</td>\n",
              "      <td>55.466667</td>\n",
              "      <td>2.466667</td>\n",
              "      <td>1.533333</td>\n",
              "    </tr>\n",
              "    <tr>\n",
              "      <th>8631</th>\n",
              "      <td>1378906798</td>\n",
              "      <td>2</td>\n",
              "      <td>5851.998944</td>\n",
              "      <td>76.075986</td>\n",
              "      <td>1.300000</td>\n",
              "      <td>2097152.0</td>\n",
              "      <td>721418.400000</td>\n",
              "      <td>0.200000</td>\n",
              "      <td>0.666667</td>\n",
              "      <td>2.466667</td>\n",
              "      <td>1.000000</td>\n",
              "    </tr>\n",
              "  </tbody>\n",
              "</table>\n",
              "<p>8632 rows × 11 columns</p>\n",
              "</div>"
            ],
            "text/plain": [
              "      Timestamp [ms]  ...  Network transmitted throughput [KB/s]\n",
              "0         1376314846  ...                               0.000000\n",
              "1         1376315146  ...                               0.000000\n",
              "2         1376315446  ...                               0.000000\n",
              "3         1376315746  ...                               0.000000\n",
              "4         1376316046  ...                               0.000000\n",
              "...              ...  ...                                    ...\n",
              "8627      1378905598  ...                              18.400000\n",
              "8628      1378905898  ...                               1.066667\n",
              "8629      1378906198  ...                               1.066667\n",
              "8630      1378906498  ...                               1.533333\n",
              "8631      1378906798  ...                               1.000000\n",
              "\n",
              "[8632 rows x 11 columns]"
            ]
          },
          "metadata": {
            "tags": []
          },
          "execution_count": 12
        }
      ]
    },
    {
      "cell_type": "markdown",
      "metadata": {
        "id": "2mRHOEkTz-qK"
      },
      "source": [
        "Dataset information\n",
        "* row[0]=time_step; \n",
        "* row[4]=Cpu_usages; \n",
        "* row[7]=RAM_usage; \n",
        "* row[8]=Disk_read; \n",
        "* row[9]=Disk_write; \n",
        "* row[11]=Bandwidth;"
      ]
    },
    {
      "cell_type": "markdown",
      "metadata": {
        "id": "fxyPhbvw27Nd"
      },
      "source": [
        "Normalize dataset:"
      ]
    },
    {
      "cell_type": "code",
      "metadata": {
        "colab": {
          "base_uri": "https://localhost:8080/",
          "height": 441
        },
        "id": "v8vaAJVjz-qL",
        "outputId": "2c55b971-5dbb-44dd-da0b-82d264bcdf66"
      },
      "source": [
        "Sum_disk=(df[\"Disk read throughput [KB/s]\"] + df[\"Disk write throughput [KB/s]\"])\n",
        "df[\"Disk I/O\"]=Sum_disk\n",
        "df[\"Disk I/O\"]=((df[\"Disk I/O\"]-df[\"Disk I/O\"].min())/(df[\"Disk I/O\"].max()-df[\"Disk I/O\"].min()))*20\n",
        "df.to_csv(\"43.csv\")\n",
        "df"
      ],
      "execution_count": 13,
      "outputs": [
        {
          "output_type": "execute_result",
          "data": {
            "text/html": [
              "<div>\n",
              "<style scoped>\n",
              "    .dataframe tbody tr th:only-of-type {\n",
              "        vertical-align: middle;\n",
              "    }\n",
              "\n",
              "    .dataframe tbody tr th {\n",
              "        vertical-align: top;\n",
              "    }\n",
              "\n",
              "    .dataframe thead th {\n",
              "        text-align: right;\n",
              "    }\n",
              "</style>\n",
              "<table border=\"1\" class=\"dataframe\">\n",
              "  <thead>\n",
              "    <tr style=\"text-align: right;\">\n",
              "      <th></th>\n",
              "      <th>Timestamp [ms]</th>\n",
              "      <th>CPU cores</th>\n",
              "      <th>CPU capacity provisioned [MHZ]</th>\n",
              "      <th>CPU usage [MHZ]</th>\n",
              "      <th>CPU usage [%]</th>\n",
              "      <th>Memory capacity provisioned [KB]</th>\n",
              "      <th>Memory usage [KB]</th>\n",
              "      <th>Disk read throughput [KB/s]</th>\n",
              "      <th>Disk write throughput [KB/s]</th>\n",
              "      <th>Network received throughput [KB/s]</th>\n",
              "      <th>Network transmitted throughput [KB/s]</th>\n",
              "      <th>Disk I/O</th>\n",
              "    </tr>\n",
              "  </thead>\n",
              "  <tbody>\n",
              "    <tr>\n",
              "      <th>0</th>\n",
              "      <td>1376314846</td>\n",
              "      <td>2</td>\n",
              "      <td>5851.998636</td>\n",
              "      <td>3.901332</td>\n",
              "      <td>0.066667</td>\n",
              "      <td>2097152.0</td>\n",
              "      <td>106254.133333</td>\n",
              "      <td>7.933333</td>\n",
              "      <td>1.066667</td>\n",
              "      <td>0.000000</td>\n",
              "      <td>0.000000</td>\n",
              "      <td>0.022571</td>\n",
              "    </tr>\n",
              "    <tr>\n",
              "      <th>1</th>\n",
              "      <td>1376315146</td>\n",
              "      <td>2</td>\n",
              "      <td>5851.998636</td>\n",
              "      <td>0.000000</td>\n",
              "      <td>0.000000</td>\n",
              "      <td>2097152.0</td>\n",
              "      <td>79689.600000</td>\n",
              "      <td>0.000000</td>\n",
              "      <td>1.000000</td>\n",
              "      <td>0.000000</td>\n",
              "      <td>0.000000</td>\n",
              "      <td>0.002508</td>\n",
              "    </tr>\n",
              "    <tr>\n",
              "      <th>2</th>\n",
              "      <td>1376315446</td>\n",
              "      <td>2</td>\n",
              "      <td>5851.998636</td>\n",
              "      <td>9.753331</td>\n",
              "      <td>0.166667</td>\n",
              "      <td>2097152.0</td>\n",
              "      <td>62912.000000</td>\n",
              "      <td>0.000000</td>\n",
              "      <td>0.066667</td>\n",
              "      <td>0.000000</td>\n",
              "      <td>0.000000</td>\n",
              "      <td>0.000167</td>\n",
              "    </tr>\n",
              "    <tr>\n",
              "      <th>3</th>\n",
              "      <td>1376315746</td>\n",
              "      <td>2</td>\n",
              "      <td>5851.998636</td>\n",
              "      <td>0.000000</td>\n",
              "      <td>0.000000</td>\n",
              "      <td>2097152.0</td>\n",
              "      <td>97865.333333</td>\n",
              "      <td>0.000000</td>\n",
              "      <td>0.066667</td>\n",
              "      <td>0.000000</td>\n",
              "      <td>0.000000</td>\n",
              "      <td>0.000167</td>\n",
              "    </tr>\n",
              "    <tr>\n",
              "      <th>4</th>\n",
              "      <td>1376316046</td>\n",
              "      <td>2</td>\n",
              "      <td>5851.998636</td>\n",
              "      <td>0.000000</td>\n",
              "      <td>0.000000</td>\n",
              "      <td>2097152.0</td>\n",
              "      <td>127225.333333</td>\n",
              "      <td>1.933333</td>\n",
              "      <td>0.333333</td>\n",
              "      <td>0.000000</td>\n",
              "      <td>0.000000</td>\n",
              "      <td>0.005684</td>\n",
              "    </tr>\n",
              "    <tr>\n",
              "      <th>...</th>\n",
              "      <td>...</td>\n",
              "      <td>...</td>\n",
              "      <td>...</td>\n",
              "      <td>...</td>\n",
              "      <td>...</td>\n",
              "      <td>...</td>\n",
              "      <td>...</td>\n",
              "      <td>...</td>\n",
              "      <td>...</td>\n",
              "      <td>...</td>\n",
              "      <td>...</td>\n",
              "      <td>...</td>\n",
              "    </tr>\n",
              "    <tr>\n",
              "      <th>8627</th>\n",
              "      <td>1378905598</td>\n",
              "      <td>2</td>\n",
              "      <td>5851.998944</td>\n",
              "      <td>76.075986</td>\n",
              "      <td>1.300000</td>\n",
              "      <td>2097152.0</td>\n",
              "      <td>329950.133333</td>\n",
              "      <td>0.333333</td>\n",
              "      <td>561.866667</td>\n",
              "      <td>581.800000</td>\n",
              "      <td>18.400000</td>\n",
              "      <td>1.409906</td>\n",
              "    </tr>\n",
              "    <tr>\n",
              "      <th>8628</th>\n",
              "      <td>1378905898</td>\n",
              "      <td>2</td>\n",
              "      <td>5851.998944</td>\n",
              "      <td>54.618657</td>\n",
              "      <td>0.933333</td>\n",
              "      <td>2097152.0</td>\n",
              "      <td>244665.333333</td>\n",
              "      <td>1.800000</td>\n",
              "      <td>1.133333</td>\n",
              "      <td>2.466667</td>\n",
              "      <td>1.066667</td>\n",
              "      <td>0.007356</td>\n",
              "    </tr>\n",
              "    <tr>\n",
              "      <th>8629</th>\n",
              "      <td>1378906198</td>\n",
              "      <td>2</td>\n",
              "      <td>5851.998944</td>\n",
              "      <td>58.519989</td>\n",
              "      <td>1.000000</td>\n",
              "      <td>2097152.0</td>\n",
              "      <td>139808.800000</td>\n",
              "      <td>0.200000</td>\n",
              "      <td>0.866667</td>\n",
              "      <td>2.400000</td>\n",
              "      <td>1.066667</td>\n",
              "      <td>0.002675</td>\n",
              "    </tr>\n",
              "    <tr>\n",
              "      <th>8630</th>\n",
              "      <td>1378906498</td>\n",
              "      <td>2</td>\n",
              "      <td>5851.998944</td>\n",
              "      <td>325.761275</td>\n",
              "      <td>5.566667</td>\n",
              "      <td>2097152.0</td>\n",
              "      <td>325755.733333</td>\n",
              "      <td>1029.666667</td>\n",
              "      <td>55.466667</td>\n",
              "      <td>2.466667</td>\n",
              "      <td>1.533333</td>\n",
              "      <td>2.721338</td>\n",
              "    </tr>\n",
              "    <tr>\n",
              "      <th>8631</th>\n",
              "      <td>1378906798</td>\n",
              "      <td>2</td>\n",
              "      <td>5851.998944</td>\n",
              "      <td>76.075986</td>\n",
              "      <td>1.300000</td>\n",
              "      <td>2097152.0</td>\n",
              "      <td>721418.400000</td>\n",
              "      <td>0.200000</td>\n",
              "      <td>0.666667</td>\n",
              "      <td>2.466667</td>\n",
              "      <td>1.000000</td>\n",
              "      <td>0.002173</td>\n",
              "    </tr>\n",
              "  </tbody>\n",
              "</table>\n",
              "<p>8632 rows × 12 columns</p>\n",
              "</div>"
            ],
            "text/plain": [
              "      Timestamp [ms]  ...  Disk I/O\n",
              "0         1376314846  ...  0.022571\n",
              "1         1376315146  ...  0.002508\n",
              "2         1376315446  ...  0.000167\n",
              "3         1376315746  ...  0.000167\n",
              "4         1376316046  ...  0.005684\n",
              "...              ...  ...       ...\n",
              "8627      1378905598  ...  1.409906\n",
              "8628      1378905898  ...  0.007356\n",
              "8629      1378906198  ...  0.002675\n",
              "8630      1378906498  ...  2.721338\n",
              "8631      1378906798  ...  0.002173\n",
              "\n",
              "[8632 rows x 12 columns]"
            ]
          },
          "metadata": {
            "tags": []
          },
          "execution_count": 13
        }
      ]
    },
    {
      "cell_type": "markdown",
      "metadata": {
        "id": "MjwMO9G63MyV"
      },
      "source": [
        "Read csv and copy datas into lists:"
      ]
    },
    {
      "cell_type": "code",
      "metadata": {
        "id": "P4Z-dsR3z-qN"
      },
      "source": [
        "import csv\n",
        "time_step = []\n",
        "BW_usage = []\n",
        "\n",
        "with open('43.csv') as csvfile:\n",
        "  reader = csv.reader(csvfile, delimiter=',')\n",
        "  next(reader)\n",
        "  for row in reader:\n",
        "    BW_usage.append(float(row[12]))\n",
        "    time_step.append(int(row[0]))\n"
      ],
      "execution_count": 14,
      "outputs": []
    },
    {
      "cell_type": "markdown",
      "metadata": {
        "id": "yQUYxyEIz-qO"
      },
      "source": [
        "# Visualize data set"
      ]
    },
    {
      "cell_type": "code",
      "metadata": {
        "colab": {
          "base_uri": "https://localhost:8080/",
          "height": 393
        },
        "id": "ojicqB-4z-qO",
        "outputId": "b79a7794-20ec-4253-f21a-f9d1325c2f8c"
      },
      "source": [
        "series = np.array(BW_usage)\n",
        "time = np.array(time_step)\n",
        "plt.figure(figsize=(10, 6))\n",
        "#plt.title(\"Bandwidth Usages dataset\",fontsize=16)\n",
        "\n",
        "plot_series(time, series)\n",
        " \n",
        "plt.savefig('Raw_Data.png', dpi = 720)"
      ],
      "execution_count": 15,
      "outputs": [
        {
          "output_type": "display_data",
          "data": {
            "image/png": "[encoded data removed]",
            "text/plain": [
              "<Figure size 720x432 with 1 Axes>"
            ]
          },
          "metadata": {
            "tags": [],
            "needs_background": "light"
          }
        }
      ]
    },
    {
      "cell_type": "markdown",
      "metadata": {
        "id": "itWIxZImz-qP"
      },
      "source": [
        "# *Split dataset as train and validation set*"
      ]
    },
    {
      "cell_type": "code",
      "metadata": {
        "id": "vxmTVnDuz-qR"
      },
      "source": [
        "split_time = 7500\n",
        "time_train = time[:split_time]\n",
        "x_train = series[:split_time]\n",
        "time_valid = time[split_time:]\n",
        "x_valid = series[split_time:]"
      ],
      "execution_count": 16,
      "outputs": []
    },
    {
      "cell_type": "markdown",
      "metadata": {
        "id": "FXw3UfRQ3wLd"
      },
      "source": [
        "Plot test data (not mandetory):"
      ]
    },
    {
      "cell_type": "code",
      "metadata": {
        "colab": {
          "base_uri": "https://localhost:8080/",
          "height": 393
        },
        "id": "yht5qVPIz-qR",
        "outputId": "22abdaf4-5042-42f1-dd51-c4060b069401"
      },
      "source": [
        "plt.figure(figsize=(10, 6))\n",
        "#plt.title(\"Test Data\",fontsize=16)\n",
        "plot_series(time_valid, x_valid)\n",
        "plt.savefig('test_data.png', dpi = 720) "
      ],
      "execution_count": 17,
      "outputs": [
        {
          "output_type": "display_data",
          "data": {
            "image/png": "[encoded data removed]",
            "text/plain": [
              "<Figure size 720x432 with 1 Axes>"
            ]
          },
          "metadata": {
            "tags": [],
            "needs_background": "light"
          }
        }
      ]
    },
    {
      "cell_type": "markdown",
      "metadata": {
        "id": "NjWrUrznz-qS"
      },
      "source": [
        "# Window function & forcasting funtion"
      ]
    },
    {
      "cell_type": "code",
      "metadata": {
        "id": "lmf7vDah3tat"
      },
      "source": [
        "window_size = 30\n",
        "batch_size = 32\n",
        "shuffle_buffer_size = 1000"
      ],
      "execution_count": 18,
      "outputs": []
    },
    {
      "cell_type": "code",
      "metadata": {
        "id": "m5aizLQdz-qS"
      },
      "source": [
        "#window function defination\n",
        "def windowed_dataset(series, window_size, batch_size, shuffle_buffer):\n",
        "    series = tf.expand_dims(series, axis=-1)\n",
        "    ds = tf.data.Dataset.from_tensor_slices(series)\n",
        "    ds = ds.window(window_size + 1, shift=1, drop_remainder=True)\n",
        "    ds = ds.flat_map(lambda w: w.batch(window_size + 1))\n",
        "    ds = ds.shuffle(shuffle_buffer)\n",
        "    ds = ds.map(lambda w: (w[:-1], w[1:]))\n",
        "    return ds.batch(batch_size).prefetch(1)\n",
        "\n",
        "# forecasting function defination\n",
        "def model_forecast(model, series, window_size):\n",
        "    ds = tf.data.Dataset.from_tensor_slices(series)\n",
        "    ds = ds.window(window_size, shift=1, drop_remainder=True)\n",
        "    ds = ds.flat_map(lambda w: w.batch(window_size))\n",
        "    ds = ds.batch(32).prefetch(1)\n",
        "    forecast = model.predict(ds)\n",
        "    return forecast"
      ],
      "execution_count": 19,
      "outputs": []
    },
    {
      "cell_type": "markdown",
      "metadata": {
        "id": "WsXN7hZiz-qT"
      },
      "source": [
        "# Finding Optimal Learning rate using \"Huber Loss\""
      ]
    },
    {
      "cell_type": "code",
      "metadata": {
        "colab": {
          "base_uri": "https://localhost:8080/"
        },
        "id": "Fayx0ZECz-qT",
        "outputId": "6cc356a2-a61f-47bf-90d5-1886faaebdb2"
      },
      "source": [
        "tf.keras.backend.clear_session()\n",
        "tf.random.set_seed(51)\n",
        "np.random.seed(51)\n",
        "window_size = 64\n",
        "batch_size = 125\n",
        "train_set = windowed_dataset(x_train, window_size, batch_size, shuffle_buffer_size)\n",
        "print(train_set)\n",
        "print(x_train.shape)\n",
        "\n",
        "model = tf.keras.models.Sequential([\n",
        "  tf.keras.layers.Conv1D(filters=64, kernel_size=5,\n",
        "                      strides=1, padding=\"causal\",\n",
        "                      activation=\"relu\",\n",
        "                      input_shape=[None, 1]),\n",
        "  tf.keras.layers.LSTM(64, return_sequences=True),\n",
        "  tf.keras.layers.GRU(64, return_sequences=True),\n",
        "  tf.keras.layers.Dense(30, activation=\"relu\"),\n",
        "  tf.keras.layers.Dense(15, activation=\"relu\"),\n",
        "  tf.keras.layers.Dense(1),\n",
        "  tf.keras.layers.Lambda(lambda x: x * 100)\n",
        "])\n",
        "\n",
        "lr_schedule = tf.keras.callbacks.LearningRateScheduler(\n",
        "    lambda epoch: 1e-8 * 10**(epoch / 20))\n",
        "optimizer = tf.keras.optimizers.SGD(lr=1e-8, momentum=0.9)\n",
        "model.compile(loss=tf.keras.losses.Huber(),\n",
        "              optimizer=optimizer,\n",
        "              metrics=[\"mae\"])\n",
        "history = model.fit(train_set, epochs=100, callbacks=[lr_schedule])"
      ],
      "execution_count": 73,
      "outputs": [
        {
          "output_type": "stream",
          "text": [
            "<PrefetchDataset shapes: ((None, None, 1), (None, None, 1)), types: (tf.float64, tf.float64)>\n",
            "(7500,)\n",
            "Epoch 1/100\n",
            "60/60 [==============================] - 13s 150ms/step - loss: 3.0502 - mae: 3.3932\n",
            "Epoch 2/100\n",
            "60/60 [==============================] - 9s 148ms/step - loss: 2.9864 - mae: 3.3249\n",
            "Epoch 3/100\n",
            "60/60 [==============================] - 9s 148ms/step - loss: 2.9354 - mae: 3.2805\n",
            "Epoch 4/100\n",
            "60/60 [==============================] - 9s 149ms/step - loss: 2.8531 - mae: 3.2038\n",
            "Epoch 5/100\n",
            "60/60 [==============================] - 9s 149ms/step - loss: 2.7992 - mae: 3.1576\n",
            "Epoch 6/100\n",
            "60/60 [==============================] - 9s 149ms/step - loss: 2.7356 - mae: 3.1027\n",
            "Epoch 7/100\n",
            "60/60 [==============================] - 9s 149ms/step - loss: 2.6660 - mae: 3.0448\n",
            "Epoch 8/100\n",
            "60/60 [==============================] - 9s 150ms/step - loss: 2.6068 - mae: 2.9997\n",
            "Epoch 9/100\n",
            "60/60 [==============================] - 9s 149ms/step - loss: 2.5481 - mae: 2.9522\n",
            "Epoch 10/100\n",
            "60/60 [==============================] - 9s 149ms/step - loss: 2.4771 - mae: 2.8889\n",
            "Epoch 11/100\n",
            "60/60 [==============================] - 9s 148ms/step - loss: 2.3933 - mae: 2.8105\n",
            "Epoch 12/100\n",
            "60/60 [==============================] - 9s 149ms/step - loss: 2.3231 - mae: 2.7442\n",
            "Epoch 13/100\n",
            "60/60 [==============================] - 9s 148ms/step - loss: 2.2352 - mae: 2.6581\n",
            "Epoch 14/100\n",
            "60/60 [==============================] - 9s 150ms/step - loss: 2.1477 - mae: 2.5697\n",
            "Epoch 15/100\n",
            "60/60 [==============================] - 9s 149ms/step - loss: 2.0381 - mae: 2.4579\n",
            "Epoch 16/100\n",
            "60/60 [==============================] - 9s 149ms/step - loss: 1.9429 - mae: 2.3597\n",
            "Epoch 17/100\n",
            "60/60 [==============================] - 9s 149ms/step - loss: 1.8292 - mae: 2.2421\n",
            "Epoch 18/100\n",
            "60/60 [==============================] - 9s 149ms/step - loss: 1.7110 - mae: 2.1175\n",
            "Epoch 19/100\n",
            "60/60 [==============================] - 9s 149ms/step - loss: 1.5980 - mae: 1.9963\n",
            "Epoch 20/100\n",
            "60/60 [==============================] - 9s 149ms/step - loss: 1.4686 - mae: 1.8592\n",
            "Epoch 21/100\n",
            "60/60 [==============================] - 9s 149ms/step - loss: 1.3532 - mae: 1.7356\n",
            "Epoch 22/100\n",
            "60/60 [==============================] - 9s 149ms/step - loss: 1.2209 - mae: 1.5947\n",
            "Epoch 23/100\n",
            "60/60 [==============================] - 9s 150ms/step - loss: 1.0894 - mae: 1.4541\n",
            "Epoch 24/100\n",
            "60/60 [==============================] - 9s 149ms/step - loss: 0.9572 - mae: 1.3088\n",
            "Epoch 25/100\n",
            "60/60 [==============================] - 9s 148ms/step - loss: 0.8355 - mae: 1.1743\n",
            "Epoch 26/100\n",
            "60/60 [==============================] - 9s 149ms/step - loss: 0.7224 - mae: 1.0440\n",
            "Epoch 27/100\n",
            "60/60 [==============================] - 9s 149ms/step - loss: 0.6272 - mae: 0.9309\n",
            "Epoch 28/100\n",
            "60/60 [==============================] - 9s 149ms/step - loss: 0.5439 - mae: 0.8301\n",
            "Epoch 29/100\n",
            "60/60 [==============================] - 9s 149ms/step - loss: 0.4706 - mae: 0.7436\n",
            "Epoch 30/100\n",
            "60/60 [==============================] - 9s 150ms/step - loss: 0.4101 - mae: 0.6777\n",
            "Epoch 31/100\n",
            "60/60 [==============================] - 9s 149ms/step - loss: 0.3540 - mae: 0.6209\n",
            "Epoch 32/100\n",
            "60/60 [==============================] - 9s 149ms/step - loss: 0.3051 - mae: 0.5712\n",
            "Epoch 33/100\n",
            "60/60 [==============================] - 9s 150ms/step - loss: 0.2685 - mae: 0.5285\n",
            "Epoch 34/100\n",
            "60/60 [==============================] - 9s 150ms/step - loss: 0.2433 - mae: 0.4922\n",
            "Epoch 35/100\n",
            "60/60 [==============================] - 9s 151ms/step - loss: 0.2240 - mae: 0.4568\n",
            "Epoch 36/100\n",
            "60/60 [==============================] - 9s 149ms/step - loss: 0.2127 - mae: 0.4323\n",
            "Epoch 37/100\n",
            "60/60 [==============================] - 9s 152ms/step - loss: 0.2056 - mae: 0.4193\n",
            "Epoch 38/100\n",
            "60/60 [==============================] - 9s 149ms/step - loss: 0.2024 - mae: 0.4130\n",
            "Epoch 39/100\n",
            "60/60 [==============================] - 9s 150ms/step - loss: 0.2008 - mae: 0.4089\n",
            "Epoch 40/100\n",
            "60/60 [==============================] - 9s 149ms/step - loss: 0.1998 - mae: 0.4065\n",
            "Epoch 41/100\n",
            "60/60 [==============================] - 9s 150ms/step - loss: 0.1975 - mae: 0.4018\n",
            "Epoch 42/100\n",
            "60/60 [==============================] - 9s 151ms/step - loss: 0.1936 - mae: 0.3963\n",
            "Epoch 43/100\n",
            "60/60 [==============================] - 9s 150ms/step - loss: 0.1927 - mae: 0.3942\n",
            "Epoch 44/100\n",
            "60/60 [==============================] - 9s 150ms/step - loss: 0.1946 - mae: 0.3963\n",
            "Epoch 45/100\n",
            "60/60 [==============================] - 9s 151ms/step - loss: 0.1907 - mae: 0.3903\n",
            "Epoch 46/100\n",
            "60/60 [==============================] - 9s 151ms/step - loss: 0.1886 - mae: 0.3873\n",
            "Epoch 47/100\n",
            "60/60 [==============================] - 9s 153ms/step - loss: 0.1866 - mae: 0.3841\n",
            "Epoch 48/100\n",
            "60/60 [==============================] - 9s 153ms/step - loss: 0.1846 - mae: 0.3807\n",
            "Epoch 49/100\n",
            "60/60 [==============================] - 9s 151ms/step - loss: 0.1836 - mae: 0.3792\n",
            "Epoch 50/100\n",
            "60/60 [==============================] - 9s 151ms/step - loss: 0.1806 - mae: 0.3749\n",
            "Epoch 51/100\n",
            "60/60 [==============================] - 9s 149ms/step - loss: 0.1784 - mae: 0.3707\n",
            "Epoch 52/100\n",
            "60/60 [==============================] - 9s 150ms/step - loss: 0.1757 - mae: 0.3663\n",
            "Epoch 53/100\n",
            "60/60 [==============================] - 9s 152ms/step - loss: 0.1735 - mae: 0.3627\n",
            "Epoch 54/100\n",
            "60/60 [==============================] - 10s 155ms/step - loss: 0.1706 - mae: 0.3579\n",
            "Epoch 55/100\n",
            "60/60 [==============================] - 9s 152ms/step - loss: 0.1668 - mae: 0.3514\n",
            "Epoch 56/100\n",
            "60/60 [==============================] - 9s 151ms/step - loss: 0.1658 - mae: 0.3473\n",
            "Epoch 57/100\n",
            "60/60 [==============================] - 9s 151ms/step - loss: 0.1612 - mae: 0.3391\n",
            "Epoch 58/100\n",
            "60/60 [==============================] - 9s 151ms/step - loss: 0.1582 - mae: 0.3340\n",
            "Epoch 59/100\n",
            "60/60 [==============================] - 9s 151ms/step - loss: 0.1581 - mae: 0.3336\n",
            "Epoch 60/100\n",
            "60/60 [==============================] - 9s 153ms/step - loss: 0.1547 - mae: 0.3279\n",
            "Epoch 61/100\n",
            "60/60 [==============================] - 9s 154ms/step - loss: 0.1545 - mae: 0.3266\n",
            "Epoch 62/100\n",
            "60/60 [==============================] - 9s 154ms/step - loss: 0.1516 - mae: 0.3224\n",
            "Epoch 63/100\n",
            "60/60 [==============================] - 9s 153ms/step - loss: 0.1485 - mae: 0.3168\n",
            "Epoch 64/100\n",
            "60/60 [==============================] - 9s 153ms/step - loss: 0.1451 - mae: 0.3117\n",
            "Epoch 65/100\n",
            "60/60 [==============================] - 9s 152ms/step - loss: 0.1421 - mae: 0.3011\n",
            "Epoch 66/100\n",
            "60/60 [==============================] - 9s 153ms/step - loss: 0.1409 - mae: 0.2970\n",
            "Epoch 67/100\n",
            "60/60 [==============================] - 9s 152ms/step - loss: 0.1376 - mae: 0.2928\n",
            "Epoch 68/100\n",
            "60/60 [==============================] - 9s 152ms/step - loss: 0.1366 - mae: 0.2907\n",
            "Epoch 69/100\n",
            "60/60 [==============================] - 9s 152ms/step - loss: 0.1339 - mae: 0.2872\n",
            "Epoch 70/100\n",
            "60/60 [==============================] - 9s 150ms/step - loss: 0.1326 - mae: 0.2841\n",
            "Epoch 71/100\n",
            "60/60 [==============================] - 9s 151ms/step - loss: 0.1307 - mae: 0.2813\n",
            "Epoch 72/100\n",
            "60/60 [==============================] - 9s 151ms/step - loss: 0.1288 - mae: 0.2772\n",
            "Epoch 73/100\n",
            "60/60 [==============================] - 9s 151ms/step - loss: 0.1263 - mae: 0.2732\n",
            "Epoch 74/100\n",
            "60/60 [==============================] - 9s 151ms/step - loss: 0.1243 - mae: 0.2712\n",
            "Epoch 75/100\n",
            "60/60 [==============================] - 9s 152ms/step - loss: 0.1242 - mae: 0.2696\n",
            "Epoch 76/100\n",
            "60/60 [==============================] - 9s 153ms/step - loss: 0.1210 - mae: 0.2668\n",
            "Epoch 77/100\n",
            "60/60 [==============================] - 9s 152ms/step - loss: 0.1190 - mae: 0.2623\n",
            "Epoch 78/100\n",
            "60/60 [==============================] - 9s 152ms/step - loss: 0.1168 - mae: 0.2578\n",
            "Epoch 79/100\n",
            "60/60 [==============================] - 9s 151ms/step - loss: 0.1163 - mae: 0.2585\n",
            "Epoch 80/100\n",
            "60/60 [==============================] - 9s 152ms/step - loss: 0.1139 - mae: 0.2551\n",
            "Epoch 81/100\n",
            "60/60 [==============================] - 9s 152ms/step - loss: 0.1116 - mae: 0.2515\n",
            "Epoch 82/100\n",
            "60/60 [==============================] - 9s 151ms/step - loss: 0.1095 - mae: 0.2450\n",
            "Epoch 83/100\n",
            "60/60 [==============================] - 9s 152ms/step - loss: 0.1144 - mae: 0.2797\n",
            "Epoch 84/100\n",
            "60/60 [==============================] - 9s 151ms/step - loss: 0.1195 - mae: 0.3049\n",
            "Epoch 85/100\n",
            "60/60 [==============================] - 9s 151ms/step - loss: 0.1443 - mae: 0.3673\n",
            "Epoch 86/100\n",
            "60/60 [==============================] - 9s 153ms/step - loss: 0.1930 - mae: 0.4586\n",
            "Epoch 87/100\n",
            "60/60 [==============================] - 9s 153ms/step - loss: 0.1968 - mae: 0.4326\n",
            "Epoch 88/100\n",
            "60/60 [==============================] - 9s 152ms/step - loss: 0.1287 - mae: 0.3109\n",
            "Epoch 89/100\n",
            "60/60 [==============================] - 9s 152ms/step - loss: 0.2480 - mae: 0.5820\n",
            "Epoch 90/100\n",
            "60/60 [==============================] - 9s 152ms/step - loss: 0.2153 - mae: 0.5041\n",
            "Epoch 91/100\n",
            "60/60 [==============================] - 9s 152ms/step - loss: 0.8515 - mae: 1.2622\n",
            "Epoch 92/100\n",
            "60/60 [==============================] - 9s 153ms/step - loss: 0.1861 - mae: 0.4267\n",
            "Epoch 93/100\n",
            "60/60 [==============================] - 9s 152ms/step - loss: 0.2816 - mae: 0.5717\n",
            "Epoch 94/100\n",
            "60/60 [==============================] - 9s 152ms/step - loss: 1.0835 - mae: 1.5056\n",
            "Epoch 95/100\n",
            "60/60 [==============================] - 9s 152ms/step - loss: 3.0073 - mae: 3.4835\n",
            "Epoch 96/100\n",
            "60/60 [==============================] - 9s 152ms/step - loss: 5.6176 - mae: 6.0910\n",
            "Epoch 97/100\n",
            "60/60 [==============================] - 9s 152ms/step - loss: 3.2713 - mae: 3.7489\n",
            "Epoch 98/100\n",
            "60/60 [==============================] - 9s 152ms/step - loss: 4.5359 - mae: 5.0157\n",
            "Epoch 99/100\n",
            "60/60 [==============================] - 9s 152ms/step - loss: 8.6820 - mae: 9.1800\n",
            "Epoch 100/100\n",
            "60/60 [==============================] - 9s 152ms/step - loss: 13.1627 - mae: 13.6627\n"
          ],
          "name": "stdout"
        }
      ]
    },
    {
      "cell_type": "markdown",
      "metadata": {
        "id": "j8PbLM4Jz-qU"
      },
      "source": [
        "# Ploting learning rate vs Loss curve"
      ]
    },
    {
      "cell_type": "code",
      "metadata": {
        "colab": {
          "base_uri": "https://localhost:8080/"
        },
        "id": "pRNbGDiFz-qV",
        "outputId": "8ffd3a7a-9b24-42a4-e658-603d35384b20"
      },
      "source": [
        "# Checking what is in history data\n",
        "print('\\nhistory dict:', history.history)"
      ],
      "execution_count": 74,
      "outputs": [
        {
          "output_type": "stream",
          "text": [
            "\n",
            "history dict: {'loss': [3.0127599239349365, 2.9448964595794678, 2.878164768218994, 2.8134658336639404, 2.7500150203704834, 2.687680721282959, 2.6261374950408936, 2.564655065536499, 2.5012712478637695, 2.4339420795440674, 2.360854387283325, 2.281672716140747, 2.1956865787506104, 2.1020328998565674, 2.0026650428771973, 1.8978993892669678, 1.7876237630844116, 1.6716448068618774, 1.5509735345840454, 1.4273192882537842, 1.301169514656067, 1.172691822052002, 1.0443907976150513, 0.9184605479240417, 0.7997771501541138, 0.6930216550827026, 0.5996865034103394, 0.5185851454734802, 0.4501008093357086, 0.39075538516044617, 0.33720171451568604, 0.29114651679992676, 0.25536057353019714, 0.22905370593070984, 0.2109706550836563, 0.19944104552268982, 0.1932542771100998, 0.18991366028785706, 0.18772152066230774, 0.18595798313617706, 0.18439693748950958, 0.18293072283267975, 0.1814134567975998, 0.1798851191997528, 0.17828331887722015, 0.17659986019134521, 0.17485187947750092, 0.1727590411901474, 0.17046873271465302, 0.16831068694591522, 0.1659148782491684, 0.16331538558006287, 0.16013562679290771, 0.15722428262233734, 0.15392392873764038, 0.1502619981765747, 0.14772860705852509, 0.14581838250160217, 0.14412550628185272, 0.14233332872390747, 0.14064869284629822, 0.13875903189182281, 0.13675110042095184, 0.13384568691253662, 0.13023798167705536, 0.12826040387153625, 0.12649381160736084, 0.12491115927696228, 0.12335947901010513, 0.12185300141572952, 0.12045987695455551, 0.11780355125665665, 0.11602119356393814, 0.11460570245981216, 0.11300565302371979, 0.11105024069547653, 0.10949400812387466, 0.10780712962150574, 0.10640488564968109, 0.1048038974404335, 0.10342352837324142, 0.10149508714675903, 0.1062956377863884, 0.10616614669561386, 0.12625817954540253, 0.18297359347343445, 0.20048388838768005, 0.11769965291023254, 0.22152189910411835, 0.18758800625801086, 0.7643961310386658, 0.1489296704530716, 0.3197338879108429, 2.0744175910949707, 2.458841562271118, 7.238450527191162, 2.5866541862487793, 3.4765071868896484, 10.562479019165039, 13.281509399414062], 'mae': [3.350578784942627, 3.2816669940948486, 3.221571445465088, 3.1635217666625977, 3.1079533100128174, 3.055379629135132, 3.007624387741089, 2.9604651927948, 2.907867908477783, 2.8480446338653564, 2.779989004135132, 2.703949213027954, 2.619086265563965, 2.5240659713745117, 2.4223287105560303, 2.314206838607788, 2.1996254920959473, 2.0764713287353516, 1.9473994970321655, 1.8155161142349243, 1.6811699867248535, 1.5437779426574707, 1.4055471420288086, 1.2668300867080688, 1.134749174118042, 1.0102972984313965, 0.8996910452842712, 0.801750123500824, 0.7215614914894104, 0.6565567255020142, 0.6015394330024719, 0.5546827912330627, 0.5130910873413086, 0.47394269704818726, 0.4390365779399872, 0.415651798248291, 0.404087096452713, 0.39730215072631836, 0.3924863338470459, 0.38881102204322815, 0.3858049213886261, 0.38306862115859985, 0.3802698254585266, 0.3779688775539398, 0.37522417306900024, 0.3725665211677551, 0.3694336712360382, 0.36576393246650696, 0.36290988326072693, 0.3597036302089691, 0.3558926582336426, 0.3518441319465637, 0.3464900255203247, 0.34144270420074463, 0.3352351486682892, 0.32851189374923706, 0.3233935832977295, 0.31945353746414185, 0.3169419765472412, 0.31327855587005615, 0.31027013063430786, 0.3068711459636688, 0.30298367142677307, 0.2977242171764374, 0.286882221698761, 0.28250664472579956, 0.2799137830734253, 0.27730894088745117, 0.2748173773288727, 0.27198314666748047, 0.26976415514945984, 0.2649412453174591, 0.2618390917778015, 0.2597406208515167, 0.2575109302997589, 0.2543386220932007, 0.2515529990196228, 0.24801968038082123, 0.24670815467834473, 0.2443881332874298, 0.242705300450325, 0.23888592422008514, 0.27459517121315, 0.2716384828090668, 0.32897844910621643, 0.4432711601257324, 0.45682069659233093, 0.2953781485557556, 0.5401279330253601, 0.47120511531829834, 1.1647087335586548, 0.3489777743816376, 0.6585854887962341, 2.5194571018218994, 2.941814661026001, 7.73138427734375, 3.0620970726013184, 3.941821336746216, 11.061407089233398, 13.781506538391113], 'lr': [1e-08, 1.1220185e-08, 1.2589254e-08, 1.41253755e-08, 1.5848931e-08, 1.7782794e-08, 1.9952623e-08, 2.2387212e-08, 2.5118863e-08, 2.8183829e-08, 3.1622776e-08, 3.548134e-08, 3.981072e-08, 4.4668358e-08, 5.011872e-08, 5.6234132e-08, 6.309573e-08, 7.079458e-08, 7.943282e-08, 8.9125095e-08, 1e-07, 1.12201846e-07, 1.2589254e-07, 1.4125375e-07, 1.5848931e-07, 1.7782794e-07, 1.9952623e-07, 2.2387212e-07, 2.5118865e-07, 2.8183828e-07, 3.1622776e-07, 3.5481338e-07, 3.9810718e-07, 4.466836e-07, 5.0118723e-07, 5.623413e-07, 6.3095735e-07, 7.079458e-07, 7.9432823e-07, 8.912509e-07, 1e-06, 1.1220185e-06, 1.2589254e-06, 1.4125376e-06, 1.5848932e-06, 1.7782794e-06, 1.9952622e-06, 2.2387212e-06, 2.5118864e-06, 2.8183829e-06, 3.1622776e-06, 3.548134e-06, 3.9810716e-06, 4.466836e-06, 5.0118724e-06, 5.6234135e-06, 6.3095736e-06, 7.0794576e-06, 7.943282e-06, 8.91251e-06, 1e-05, 1.1220184e-05, 1.2589254e-05, 1.4125376e-05, 1.5848931e-05, 1.7782793e-05, 1.9952624e-05, 2.2387212e-05, 2.5118865e-05, 2.818383e-05, 3.1622778e-05, 3.548134e-05, 3.981072e-05, 4.466836e-05, 5.0118724e-05, 5.6234134e-05, 6.309574e-05, 7.079458e-05, 7.943282e-05, 8.91251e-05, 1e-04, 0.000112201844, 0.00012589255, 0.00014125375, 0.00015848932, 0.00017782794, 0.00019952623, 0.00022387212, 0.00025118864, 0.0002818383, 0.00031622776, 0.00035481338, 0.00039810716, 0.00044668358, 0.0005011872, 0.0005623413, 0.00063095737, 0.0007079458, 0.0007943282, 0.00089125097]}\n"
          ],
          "name": "stdout"
        }
      ]
    },
    {
      "cell_type": "markdown",
      "metadata": {
        "id": "tiPhuhJO4gpl"
      },
      "source": [
        "Finding minimum loss:"
      ]
    },
    {
      "cell_type": "code",
      "metadata": {
        "colab": {
          "base_uri": "https://localhost:8080/"
        },
        "id": "4XTVXU8_z-qV",
        "outputId": "0404e737-2a20-4bd1-b094-e479ecb0f3ad"
      },
      "source": [
        "min_loss=min(history.history[\"loss\"])\n",
        "min_loss_index=history.history[\"loss\"].index(min_loss)\n",
        "min_lr=(history.history[\"lr\"])[min_loss_index]\n",
        "min_lr\n"
      ],
      "execution_count": 75,
      "outputs": [
        {
          "output_type": "execute_result",
          "data": {
            "text/plain": [
              "0.000112201844"
            ]
          },
          "metadata": {
            "tags": []
          },
          "execution_count": 75
        }
      ]
    },
    {
      "cell_type": "markdown",
      "metadata": {
        "id": "sqtqnIZI4keX"
      },
      "source": [
        "ploting mimnimum loss point"
      ]
    },
    {
      "cell_type": "code",
      "metadata": {
        "colab": {
          "base_uri": "https://localhost:8080/",
          "height": 401
        },
        "id": "B3tO6NWNz-qW",
        "outputId": "ef301871-bcf5-41ba-abda-adff8c696653"
      },
      "source": [
        "plt.figure(figsize=(10, 6))\n",
        "plt.semilogx(history.history[\"lr\"], history.history[\"loss\"],'r')\n",
        "plt.axis([1e-8, 3e-2, 0, 50])\n",
        "plt.xlabel(\"Learning rate\", fontsize=15)\n",
        "plt.ylabel(\"Loss\", fontsize=15)\n",
        "#plt.grid()\n",
        "s='Min_lr: '+str(min_lr)\n",
        "plt.axvline(x=min_lr, linewidth=2,color=\"b\",ls=\"--\")\n",
        "plt.annotate(s, xy=(min_lr, min_loss), xytext=(1E-7, 25),arrowprops=dict(facecolor='black', shrink=0.05 ,width=1.0, headwidth=5.0),fontsize=15)\n",
        "#plt.savefig('lr_vs_loss.png', dpi = 720) \n",
        "plt.show()"
      ],
      "execution_count": 76,
      "outputs": [
        {
          "output_type": "display_data",
          "data": {
            "image/png": "[encoded data removed]",
            "text/plain": [
              "<Figure size 720x432 with 1 Axes>"
            ]
          },
          "metadata": {
            "tags": [],
            "needs_background": "light"
          }
        }
      ]
    },
    {
      "cell_type": "markdown",
      "metadata": {
        "id": "yWMCZAEhz-qX"
      },
      "source": [
        "# Training The Model "
      ]
    },
    {
      "cell_type": "code",
      "metadata": {
        "colab": {
          "base_uri": "https://localhost:8080/"
        },
        "id": "ASXXZ4W1z-qX",
        "outputId": "369fcfd1-c045-4f59-f04a-1536c913abf4"
      },
      "source": [
        "tf.keras.backend.clear_session()\n",
        "tf.random.set_seed(51)\n",
        "np.random.seed(51)\n",
        "train_set = windowed_dataset(x_train, window_size=60, batch_size=124, shuffle_buffer=shuffle_buffer_size)\n",
        "model = tf.keras.models.Sequential([\n",
        "  tf.keras.layers.Conv1D(filters=65, kernel_size=5,\n",
        "                      strides=1, padding=\"causal\",\n",
        "                      activation=\"relu\",\n",
        "                      input_shape=[None, 1]),\n",
        "  tf.keras.layers.LSTM(64, return_sequences=True),\n",
        "  tf.keras.layers.GRU(64, return_sequences=True),\n",
        "  tf.keras.layers.Dense(30, activation=\"relu\"),\n",
        "  tf.keras.layers.Dense(15, activation=\"relu\"),\n",
        "  tf.keras.layers.Dense(1),\n",
        "  tf.keras.layers.Lambda(lambda x: x * 10)\n",
        "])\n",
        "\n",
        "\n",
        "\n",
        "optimizer = tf.keras.optimizers.SGD(min_lr, momentum=0.9)\n",
        "model.compile(loss=tf.keras.losses.Huber(),\n",
        "              optimizer=optimizer,\n",
        "              metrics=[\"mae\",\"mse\",\"msle\",\"mape\"])\n",
        "history = model.fit(train_set,epochs=300)"
      ],
      "execution_count": 91,
      "outputs": [
        {
          "output_type": "stream",
          "text": [
            "Epoch 1/300\n",
            "60/60 [==============================] - 13s 149ms/step - loss: 0.3147 - mae: 0.5195 - mse: 1.0712 - msle: 0.2081 - mape: 7077148.1230\n",
            "Epoch 2/300\n",
            "60/60 [==============================] - 9s 141ms/step - loss: 0.2856 - mae: 0.5059 - mse: 0.9236 - msle: 0.1686 - mape: 11058848.5164\n",
            "Epoch 3/300\n",
            "60/60 [==============================] - 9s 142ms/step - loss: 0.2727 - mae: 0.4910 - mse: 0.8588 - msle: 0.1523 - mape: 11244023.1803\n",
            "Epoch 4/300\n",
            "60/60 [==============================] - 9s 144ms/step - loss: 0.2631 - mae: 0.4810 - mse: 0.8079 - msle: 0.1442 - mape: 11362085.9344\n",
            "Epoch 5/300\n",
            "60/60 [==============================] - 9s 140ms/step - loss: 0.2566 - mae: 0.4697 - mse: 0.7779 - msle: 0.1376 - mape: 10351679.8607\n",
            "Epoch 6/300\n",
            "60/60 [==============================] - 9s 141ms/step - loss: 0.2500 - mae: 0.4663 - mse: 0.7451 - msle: 0.1329 - mape: 11264342.8361\n",
            "Epoch 7/300\n",
            "60/60 [==============================] - 9s 145ms/step - loss: 0.2440 - mae: 0.4599 - mse: 0.7199 - msle: 0.1287 - mape: 11240465.7049\n",
            "Epoch 8/300\n",
            "60/60 [==============================] - 9s 148ms/step - loss: 0.2388 - mae: 0.4546 - mse: 0.7006 - msle: 0.1251 - mape: 11345817.4098\n",
            "Epoch 9/300\n",
            "60/60 [==============================] - 9s 145ms/step - loss: 0.2340 - mae: 0.4491 - mse: 0.6837 - msle: 0.1220 - mape: 11130920.4918\n",
            "Epoch 10/300\n",
            "60/60 [==============================] - 9s 147ms/step - loss: 0.2274 - mae: 0.4415 - mse: 0.6547 - msle: 0.1185 - mape: 11047129.2623\n",
            "Epoch 11/300\n",
            "60/60 [==============================] - 9s 146ms/step - loss: 0.2200 - mae: 0.4315 - mse: 0.6290 - msle: 0.1147 - mape: 10728753.9180\n",
            "Epoch 12/300\n",
            "60/60 [==============================] - 9s 148ms/step - loss: 0.2141 - mae: 0.4248 - mse: 0.6065 - msle: 0.1121 - mape: 10660622.8197\n",
            "Epoch 13/300\n",
            "60/60 [==============================] - 9s 145ms/step - loss: 0.2079 - mae: 0.4153 - mse: 0.5943 - msle: 0.1090 - mape: 10597203.3934\n",
            "Epoch 14/300\n",
            "60/60 [==============================] - 9s 144ms/step - loss: 0.2015 - mae: 0.4059 - mse: 0.5758 - msle: 0.1060 - mape: 10379018.3811\n",
            "Epoch 15/300\n",
            "60/60 [==============================] - 9s 146ms/step - loss: 0.1932 - mae: 0.3945 - mse: 0.5404 - msle: 0.1026 - mape: 9940502.6516\n",
            "Epoch 16/300\n",
            "60/60 [==============================] - 9s 147ms/step - loss: 0.1853 - mae: 0.3814 - mse: 0.5234 - msle: 0.0995 - mape: 9675840.2213\n",
            "Epoch 17/300\n",
            "60/60 [==============================] - 9s 144ms/step - loss: 0.1748 - mae: 0.3643 - mse: 0.4934 - msle: 0.0944 - mape: 9126818.8033\n",
            "Epoch 18/300\n",
            "60/60 [==============================] - 9s 145ms/step - loss: 0.1681 - mae: 0.3485 - mse: 0.4757 - msle: 0.0906 - mape: 8375512.2951\n",
            "Epoch 19/300\n",
            "60/60 [==============================] - 9s 143ms/step - loss: 0.1650 - mae: 0.3404 - mse: 0.4736 - msle: 0.0889 - mape: 8176075.8156\n",
            "Epoch 20/300\n",
            "60/60 [==============================] - 9s 141ms/step - loss: 0.1604 - mae: 0.3304 - mse: 0.4589 - msle: 0.0868 - mape: 7640251.7705\n",
            "Epoch 21/300\n",
            "60/60 [==============================] - 9s 143ms/step - loss: 0.1599 - mae: 0.3258 - mse: 0.4707 - msle: 0.0863 - mape: 7624670.3730\n",
            "Epoch 22/300\n",
            "60/60 [==============================] - 9s 142ms/step - loss: 0.1557 - mae: 0.3170 - mse: 0.4551 - msle: 0.0842 - mape: 7170090.1516\n",
            "Epoch 23/300\n",
            "60/60 [==============================] - 9s 142ms/step - loss: 0.1524 - mae: 0.3100 - mse: 0.4401 - msle: 0.0825 - mape: 6843917.1352\n",
            "Epoch 24/300\n",
            "60/60 [==============================] - 9s 141ms/step - loss: 0.1501 - mae: 0.3050 - mse: 0.4359 - msle: 0.0814 - mape: 6784188.1762\n",
            "Epoch 25/300\n",
            "60/60 [==============================] - 9s 140ms/step - loss: 0.1486 - mae: 0.3007 - mse: 0.4323 - msle: 0.0806 - mape: 6462956.1393\n",
            "Epoch 26/300\n",
            "60/60 [==============================] - 9s 142ms/step - loss: 0.1469 - mae: 0.2961 - mse: 0.4308 - msle: 0.0797 - mape: 6262400.7500\n",
            "Epoch 27/300\n",
            "60/60 [==============================] - 9s 141ms/step - loss: 0.1460 - mae: 0.2944 - mse: 0.4272 - msle: 0.0793 - mape: 6214125.8525\n",
            "Epoch 28/300\n",
            "60/60 [==============================] - 9s 142ms/step - loss: 0.1453 - mae: 0.2920 - mse: 0.4295 - msle: 0.0788 - mape: 5994458.1967\n",
            "Epoch 29/300\n",
            "60/60 [==============================] - 9s 141ms/step - loss: 0.1436 - mae: 0.2884 - mse: 0.4255 - msle: 0.0779 - mape: 5840360.7828\n",
            "Epoch 30/300\n",
            "60/60 [==============================] - 9s 143ms/step - loss: 0.1431 - mae: 0.2866 - mse: 0.4223 - msle: 0.0777 - mape: 5771507.5082\n",
            "Epoch 31/300\n",
            "60/60 [==============================] - 9s 143ms/step - loss: 0.1415 - mae: 0.2841 - mse: 0.4165 - msle: 0.0769 - mape: 5897442.8361\n",
            "Epoch 32/300\n",
            "60/60 [==============================] - 9s 142ms/step - loss: 0.1397 - mae: 0.2811 - mse: 0.4094 - msle: 0.0761 - mape: 5679038.2787\n",
            "Epoch 33/300\n",
            "60/60 [==============================] - 9s 143ms/step - loss: 0.1398 - mae: 0.2800 - mse: 0.4150 - msle: 0.0760 - mape: 5569414.6762\n",
            "Epoch 34/300\n",
            "60/60 [==============================] - 9s 142ms/step - loss: 0.1391 - mae: 0.2784 - mse: 0.4094 - msle: 0.0759 - mape: 5398792.0820\n",
            "Epoch 35/300\n",
            "60/60 [==============================] - 9s 143ms/step - loss: 0.1378 - mae: 0.2754 - mse: 0.4055 - msle: 0.0752 - mape: 5221722.2213\n",
            "Epoch 36/300\n",
            "60/60 [==============================] - 9s 141ms/step - loss: 0.1373 - mae: 0.2749 - mse: 0.4051 - msle: 0.0750 - mape: 5211926.0287\n",
            "Epoch 37/300\n",
            "60/60 [==============================] - 9s 141ms/step - loss: 0.1368 - mae: 0.2738 - mse: 0.4041 - msle: 0.0746 - mape: 5264736.8402\n",
            "Epoch 38/300\n",
            "60/60 [==============================] - 9s 142ms/step - loss: 0.1360 - mae: 0.2709 - mse: 0.4028 - msle: 0.0742 - mape: 5023824.2807\n",
            "Epoch 39/300\n",
            "60/60 [==============================] - 9s 142ms/step - loss: 0.1355 - mae: 0.2703 - mse: 0.4017 - msle: 0.0740 - mape: 5040528.4057\n",
            "Epoch 40/300\n",
            "60/60 [==============================] - 9s 141ms/step - loss: 0.1359 - mae: 0.2709 - mse: 0.4047 - msle: 0.0741 - mape: 5336630.0471\n",
            "Epoch 41/300\n",
            "60/60 [==============================] - 9s 141ms/step - loss: 0.1347 - mae: 0.2687 - mse: 0.4008 - msle: 0.0735 - mape: 5003758.7766\n",
            "Epoch 42/300\n",
            "60/60 [==============================] - 9s 142ms/step - loss: 0.1324 - mae: 0.2653 - mse: 0.3883 - msle: 0.0725 - mape: 4863044.9529\n",
            "Epoch 43/300\n",
            "60/60 [==============================] - 9s 142ms/step - loss: 0.1319 - mae: 0.2636 - mse: 0.3857 - msle: 0.0723 - mape: 4769642.0102\n",
            "Epoch 44/300\n",
            "60/60 [==============================] - 9s 144ms/step - loss: 0.1341 - mae: 0.2672 - mse: 0.4026 - msle: 0.0730 - mape: 5086453.4754\n",
            "Epoch 45/300\n",
            "60/60 [==============================] - 9s 143ms/step - loss: 0.1324 - mae: 0.2640 - mse: 0.3901 - msle: 0.0725 - mape: 4874095.1352\n",
            "Epoch 46/300\n",
            "60/60 [==============================] - 9s 141ms/step - loss: 0.1314 - mae: 0.2625 - mse: 0.3892 - msle: 0.0720 - mape: 4805014.3648\n",
            "Epoch 47/300\n",
            "60/60 [==============================] - 9s 142ms/step - loss: 0.1307 - mae: 0.2615 - mse: 0.3857 - msle: 0.0716 - mape: 4733112.6393\n",
            "Epoch 48/300\n",
            "60/60 [==============================] - 9s 143ms/step - loss: 0.1304 - mae: 0.2606 - mse: 0.3863 - msle: 0.0715 - mape: 4802441.9857\n",
            "Epoch 49/300\n",
            "60/60 [==============================] - 9s 141ms/step - loss: 0.1313 - mae: 0.2609 - mse: 0.3914 - msle: 0.0719 - mape: 4613920.9795\n",
            "Epoch 50/300\n",
            "60/60 [==============================] - 9s 140ms/step - loss: 0.1302 - mae: 0.2599 - mse: 0.3860 - msle: 0.0714 - mape: 4538061.6230\n",
            "Epoch 51/300\n",
            "60/60 [==============================] - 9s 141ms/step - loss: 0.1301 - mae: 0.2590 - mse: 0.3880 - msle: 0.0713 - mape: 4538037.5676\n",
            "Epoch 52/300\n",
            "60/60 [==============================] - 9s 141ms/step - loss: 0.1297 - mae: 0.2579 - mse: 0.3881 - msle: 0.0709 - mape: 4498558.3217\n",
            "Epoch 53/300\n",
            "60/60 [==============================] - 9s 141ms/step - loss: 0.1298 - mae: 0.2580 - mse: 0.3865 - msle: 0.0711 - mape: 4614598.6209\n",
            "Epoch 54/300\n",
            "60/60 [==============================] - 9s 143ms/step - loss: 0.1290 - mae: 0.2569 - mse: 0.3835 - msle: 0.0708 - mape: 4504731.9816\n",
            "Epoch 55/300\n",
            "60/60 [==============================] - 9s 144ms/step - loss: 0.1284 - mae: 0.2562 - mse: 0.3788 - msle: 0.0705 - mape: 4576209.9939\n",
            "Epoch 56/300\n",
            "60/60 [==============================] - 9s 145ms/step - loss: 0.1304 - mae: 0.2575 - mse: 0.3948 - msle: 0.0712 - mape: 4411406.7459\n",
            "Epoch 57/300\n",
            "60/60 [==============================] - 9s 141ms/step - loss: 0.1289 - mae: 0.2560 - mse: 0.3874 - msle: 0.0706 - mape: 4467888.8893\n",
            "Epoch 58/300\n",
            "60/60 [==============================] - 9s 141ms/step - loss: 0.1272 - mae: 0.2539 - mse: 0.3746 - msle: 0.0700 - mape: 4385441.1742\n",
            "Epoch 59/300\n",
            "60/60 [==============================] - 9s 141ms/step - loss: 0.1284 - mae: 0.2550 - mse: 0.3851 - msle: 0.0704 - mape: 4398431.6701\n",
            "Epoch 60/300\n",
            "60/60 [==============================] - 9s 141ms/step - loss: 0.1271 - mae: 0.2526 - mse: 0.3764 - msle: 0.0698 - mape: 4229611.2418\n",
            "Epoch 61/300\n",
            "60/60 [==============================] - 9s 142ms/step - loss: 0.1280 - mae: 0.2540 - mse: 0.3856 - msle: 0.0701 - mape: 4444041.4119\n",
            "Epoch 62/300\n",
            "60/60 [==============================] - 9s 142ms/step - loss: 0.1271 - mae: 0.2525 - mse: 0.3770 - msle: 0.0698 - mape: 4289094.4262\n",
            "Epoch 63/300\n",
            "60/60 [==============================] - 9s 141ms/step - loss: 0.1261 - mae: 0.2514 - mse: 0.3752 - msle: 0.0692 - mape: 4364254.1947\n",
            "Epoch 64/300\n",
            "60/60 [==============================] - 9s 141ms/step - loss: 0.1251 - mae: 0.2492 - mse: 0.3688 - msle: 0.0688 - mape: 4265399.7520\n",
            "Epoch 65/300\n",
            "60/60 [==============================] - 9s 141ms/step - loss: 0.1258 - mae: 0.2503 - mse: 0.3727 - msle: 0.0692 - mape: 4279702.4098\n",
            "Epoch 66/300\n",
            "60/60 [==============================] - 9s 141ms/step - loss: 0.1270 - mae: 0.2507 - mse: 0.3824 - msle: 0.0696 - mape: 4230031.6680\n",
            "Epoch 67/300\n",
            "60/60 [==============================] - 9s 140ms/step - loss: 0.1255 - mae: 0.2481 - mse: 0.3739 - msle: 0.0690 - mape: 4108386.6721\n",
            "Epoch 68/300\n",
            "60/60 [==============================] - 9s 142ms/step - loss: 0.1259 - mae: 0.2484 - mse: 0.3784 - msle: 0.0690 - mape: 4237021.1557\n",
            "Epoch 69/300\n",
            "60/60 [==============================] - 9s 142ms/step - loss: 0.1246 - mae: 0.2465 - mse: 0.3716 - msle: 0.0682 - mape: 4139057.3033\n",
            "Epoch 70/300\n",
            "60/60 [==============================] - 9s 142ms/step - loss: 0.1251 - mae: 0.2470 - mse: 0.3734 - msle: 0.0686 - mape: 3993359.2234\n",
            "Epoch 71/300\n",
            "60/60 [==============================] - 9s 143ms/step - loss: 0.1245 - mae: 0.2466 - mse: 0.3703 - msle: 0.0683 - mape: 4039700.7500\n",
            "Epoch 72/300\n",
            "60/60 [==============================] - 9s 142ms/step - loss: 0.1252 - mae: 0.2468 - mse: 0.3779 - msle: 0.0684 - mape: 4002973.5840\n",
            "Epoch 73/300\n",
            "60/60 [==============================] - 9s 141ms/step - loss: 0.1243 - mae: 0.2461 - mse: 0.3687 - msle: 0.0681 - mape: 4124550.9816\n",
            "Epoch 74/300\n",
            "60/60 [==============================] - 9s 141ms/step - loss: 0.1237 - mae: 0.2446 - mse: 0.3692 - msle: 0.0678 - mape: 4055177.3811\n",
            "Epoch 75/300\n",
            "60/60 [==============================] - 9s 141ms/step - loss: 0.1252 - mae: 0.2466 - mse: 0.3793 - msle: 0.0683 - mape: 4047183.9098\n",
            "Epoch 76/300\n",
            "60/60 [==============================] - 9s 142ms/step - loss: 0.1236 - mae: 0.2453 - mse: 0.3705 - msle: 0.0676 - mape: 4069760.7705\n",
            "Epoch 77/300\n",
            "60/60 [==============================] - 9s 141ms/step - loss: 0.1235 - mae: 0.2446 - mse: 0.3676 - msle: 0.0676 - mape: 3988574.8463\n",
            "Epoch 78/300\n",
            "60/60 [==============================] - 9s 141ms/step - loss: 0.1232 - mae: 0.2442 - mse: 0.3678 - msle: 0.0674 - mape: 3969274.2152\n",
            "Epoch 79/300\n",
            "60/60 [==============================] - 9s 141ms/step - loss: 0.1237 - mae: 0.2444 - mse: 0.3724 - msle: 0.0676 - mape: 3968445.3197\n",
            "Epoch 80/300\n",
            "60/60 [==============================] - 9s 141ms/step - loss: 0.1232 - mae: 0.2440 - mse: 0.3698 - msle: 0.0674 - mape: 4088860.8484\n",
            "Epoch 81/300\n",
            "60/60 [==============================] - 9s 142ms/step - loss: 0.1222 - mae: 0.2424 - mse: 0.3643 - msle: 0.0669 - mape: 3975565.6619\n",
            "Epoch 82/300\n",
            "60/60 [==============================] - 9s 141ms/step - loss: 0.1228 - mae: 0.2434 - mse: 0.3666 - msle: 0.0671 - mape: 3886045.9693\n",
            "Epoch 83/300\n",
            "60/60 [==============================] - 9s 142ms/step - loss: 0.1232 - mae: 0.2434 - mse: 0.3723 - msle: 0.0672 - mape: 3879694.8238\n",
            "Epoch 84/300\n",
            "60/60 [==============================] - 9s 141ms/step - loss: 0.1221 - mae: 0.2425 - mse: 0.3638 - msle: 0.0668 - mape: 3982045.6537\n",
            "Epoch 85/300\n",
            "60/60 [==============================] - 9s 141ms/step - loss: 0.1226 - mae: 0.2422 - mse: 0.3712 - msle: 0.0668 - mape: 3849104.4775\n",
            "Epoch 86/300\n",
            "60/60 [==============================] - 9s 142ms/step - loss: 0.1221 - mae: 0.2422 - mse: 0.3678 - msle: 0.0666 - mape: 3929980.7807\n",
            "Epoch 87/300\n",
            "60/60 [==============================] - 9s 144ms/step - loss: 0.1214 - mae: 0.2409 - mse: 0.3630 - msle: 0.0663 - mape: 3741831.4734\n",
            "Epoch 88/300\n",
            "60/60 [==============================] - 9s 142ms/step - loss: 0.1220 - mae: 0.2412 - mse: 0.3684 - msle: 0.0665 - mape: 3855011.3955\n",
            "Epoch 89/300\n",
            "60/60 [==============================] - 9s 141ms/step - loss: 0.1216 - mae: 0.2406 - mse: 0.3652 - msle: 0.0664 - mape: 3837739.9836\n",
            "Epoch 90/300\n",
            "60/60 [==============================] - 9s 142ms/step - loss: 0.1219 - mae: 0.2416 - mse: 0.3679 - msle: 0.0666 - mape: 3902825.0533\n",
            "Epoch 91/300\n",
            "60/60 [==============================] - 9s 142ms/step - loss: 0.1212 - mae: 0.2398 - mse: 0.3661 - msle: 0.0661 - mape: 3718314.6967\n",
            "Epoch 92/300\n",
            "60/60 [==============================] - 9s 141ms/step - loss: 0.1218 - mae: 0.2415 - mse: 0.3668 - msle: 0.0665 - mape: 3813151.5123\n",
            "Epoch 93/300\n",
            "60/60 [==============================] - 9s 141ms/step - loss: 0.1199 - mae: 0.2389 - mse: 0.3549 - msle: 0.0656 - mape: 3836713.1619\n",
            "Epoch 94/300\n",
            "60/60 [==============================] - 9s 142ms/step - loss: 0.1217 - mae: 0.2411 - mse: 0.3677 - msle: 0.0663 - mape: 3816852.1619\n",
            "Epoch 95/300\n",
            "60/60 [==============================] - 9s 143ms/step - loss: 0.1207 - mae: 0.2395 - mse: 0.3614 - msle: 0.0659 - mape: 3581656.1250\n",
            "Epoch 96/300\n",
            "60/60 [==============================] - 9s 143ms/step - loss: 0.1205 - mae: 0.2390 - mse: 0.3626 - msle: 0.0658 - mape: 3519044.6721\n",
            "Epoch 97/300\n",
            "60/60 [==============================] - 9s 143ms/step - loss: 0.1207 - mae: 0.2391 - mse: 0.3616 - msle: 0.0659 - mape: 3711941.5143\n",
            "Epoch 98/300\n",
            "60/60 [==============================] - 9s 141ms/step - loss: 0.1213 - mae: 0.2403 - mse: 0.3696 - msle: 0.0660 - mape: 3672461.1148\n",
            "Epoch 99/300\n",
            "60/60 [==============================] - 9s 141ms/step - loss: 0.1209 - mae: 0.2394 - mse: 0.3667 - msle: 0.0658 - mape: 3684649.5471\n",
            "Epoch 100/300\n",
            "60/60 [==============================] - 9s 142ms/step - loss: 0.1207 - mae: 0.2396 - mse: 0.3626 - msle: 0.0658 - mape: 3628284.6947\n",
            "Epoch 101/300\n",
            "60/60 [==============================] - 9s 141ms/step - loss: 0.1195 - mae: 0.2377 - mse: 0.3581 - msle: 0.0651 - mape: 3565423.0492\n",
            "Epoch 102/300\n",
            "60/60 [==============================] - 9s 141ms/step - loss: 0.1199 - mae: 0.2378 - mse: 0.3590 - msle: 0.0654 - mape: 3665379.2213\n",
            "Epoch 103/300\n",
            "60/60 [==============================] - 9s 143ms/step - loss: 0.1203 - mae: 0.2387 - mse: 0.3615 - msle: 0.0655 - mape: 3644560.1742\n",
            "Epoch 104/300\n",
            "60/60 [==============================] - 9s 142ms/step - loss: 0.1192 - mae: 0.2369 - mse: 0.3564 - msle: 0.0650 - mape: 3659948.9795\n",
            "Epoch 105/300\n",
            "60/60 [==============================] - 9s 143ms/step - loss: 0.1191 - mae: 0.2370 - mse: 0.3553 - msle: 0.0650 - mape: 3670554.2008\n",
            "Epoch 106/300\n",
            "60/60 [==============================] - 9s 142ms/step - loss: 0.1183 - mae: 0.2364 - mse: 0.3510 - msle: 0.0646 - mape: 3817001.8996\n",
            "Epoch 107/300\n",
            "60/60 [==============================] - 9s 141ms/step - loss: 0.1197 - mae: 0.2378 - mse: 0.3589 - msle: 0.0652 - mape: 3572694.6988\n",
            "Epoch 108/300\n",
            "60/60 [==============================] - 9s 142ms/step - loss: 0.1179 - mae: 0.2352 - mse: 0.3514 - msle: 0.0642 - mape: 3427021.3033\n",
            "Epoch 109/300\n",
            "60/60 [==============================] - 9s 142ms/step - loss: 0.1176 - mae: 0.2349 - mse: 0.3497 - msle: 0.0641 - mape: 3524805.4037\n",
            "Epoch 110/300\n",
            "60/60 [==============================] - 9s 141ms/step - loss: 0.1183 - mae: 0.2355 - mse: 0.3539 - msle: 0.0644 - mape: 3504872.7889\n",
            "Epoch 111/300\n",
            "60/60 [==============================] - 9s 142ms/step - loss: 0.1188 - mae: 0.2361 - mse: 0.3565 - msle: 0.0647 - mape: 3473401.4467\n",
            "Epoch 112/300\n",
            "60/60 [==============================] - 9s 141ms/step - loss: 0.1175 - mae: 0.2344 - mse: 0.3500 - msle: 0.0639 - mape: 3491070.0000\n",
            "Epoch 113/300\n",
            "60/60 [==============================] - 9s 140ms/step - loss: 0.1183 - mae: 0.2352 - mse: 0.3562 - msle: 0.0641 - mape: 3444327.7275\n",
            "Epoch 114/300\n",
            "60/60 [==============================] - 9s 142ms/step - loss: 0.1193 - mae: 0.2373 - mse: 0.3629 - msle: 0.0647 - mape: 3532565.5143\n",
            "Epoch 115/300\n",
            "60/60 [==============================] - 9s 140ms/step - loss: 0.1176 - mae: 0.2350 - mse: 0.3512 - msle: 0.0640 - mape: 3549005.4693\n",
            "Epoch 116/300\n",
            "60/60 [==============================] - 9s 141ms/step - loss: 0.1187 - mae: 0.2363 - mse: 0.3570 - msle: 0.0644 - mape: 3524169.7848\n",
            "Epoch 117/300\n",
            "60/60 [==============================] - 9s 142ms/step - loss: 0.1179 - mae: 0.2352 - mse: 0.3534 - msle: 0.0641 - mape: 3504608.5881\n",
            "Epoch 118/300\n",
            "60/60 [==============================] - 9s 141ms/step - loss: 0.1176 - mae: 0.2351 - mse: 0.3523 - msle: 0.0639 - mape: 3474964.4344\n",
            "Epoch 119/300\n",
            "60/60 [==============================] - 9s 141ms/step - loss: 0.1180 - mae: 0.2357 - mse: 0.3540 - msle: 0.0641 - mape: 3531298.8402\n",
            "Epoch 120/300\n",
            "60/60 [==============================] - 9s 142ms/step - loss: 0.1172 - mae: 0.2341 - mse: 0.3501 - msle: 0.0636 - mape: 3474879.9529\n",
            "Epoch 121/300\n",
            "60/60 [==============================] - 9s 142ms/step - loss: 0.1176 - mae: 0.2340 - mse: 0.3565 - msle: 0.0637 - mape: 3410986.1045\n",
            "Epoch 122/300\n",
            "60/60 [==============================] - 9s 141ms/step - loss: 0.1169 - mae: 0.2339 - mse: 0.3476 - msle: 0.0635 - mape: 3435645.2295\n",
            "Epoch 123/300\n",
            "60/60 [==============================] - 9s 141ms/step - loss: 0.1173 - mae: 0.2345 - mse: 0.3522 - msle: 0.0635 - mape: 3431171.9980\n",
            "Epoch 124/300\n",
            "60/60 [==============================] - 9s 145ms/step - loss: 0.1174 - mae: 0.2342 - mse: 0.3529 - msle: 0.0636 - mape: 3499701.8094\n",
            "Epoch 125/300\n",
            "60/60 [==============================] - 9s 145ms/step - loss: 0.1177 - mae: 0.2343 - mse: 0.3547 - msle: 0.0637 - mape: 3459181.6598\n",
            "Epoch 126/300\n",
            "60/60 [==============================] - 9s 143ms/step - loss: 0.1168 - mae: 0.2337 - mse: 0.3497 - msle: 0.0633 - mape: 3325141.0061\n",
            "Epoch 127/300\n",
            "60/60 [==============================] - 9s 143ms/step - loss: 0.1168 - mae: 0.2334 - mse: 0.3516 - msle: 0.0632 - mape: 3439151.4406\n",
            "Epoch 128/300\n",
            "60/60 [==============================] - 9s 144ms/step - loss: 0.1172 - mae: 0.2341 - mse: 0.3546 - msle: 0.0634 - mape: 3446003.2377\n",
            "Epoch 129/300\n",
            "60/60 [==============================] - 9s 143ms/step - loss: 0.1161 - mae: 0.2328 - mse: 0.3485 - msle: 0.0629 - mape: 3505567.3381\n",
            "Epoch 130/300\n",
            "60/60 [==============================] - 9s 142ms/step - loss: 0.1159 - mae: 0.2326 - mse: 0.3456 - msle: 0.0628 - mape: 3385977.4037\n",
            "Epoch 131/300\n",
            "60/60 [==============================] - 9s 143ms/step - loss: 0.1166 - mae: 0.2331 - mse: 0.3513 - msle: 0.0630 - mape: 3469642.3975\n",
            "Epoch 132/300\n",
            "60/60 [==============================] - 9s 142ms/step - loss: 0.1169 - mae: 0.2333 - mse: 0.3528 - msle: 0.0631 - mape: 3397277.0984\n",
            "Epoch 133/300\n",
            "60/60 [==============================] - 9s 141ms/step - loss: 0.1152 - mae: 0.2309 - mse: 0.3420 - msle: 0.0623 - mape: 3404007.3463\n",
            "Epoch 134/300\n",
            "60/60 [==============================] - 9s 144ms/step - loss: 0.1166 - mae: 0.2331 - mse: 0.3523 - msle: 0.0628 - mape: 3451214.8115\n",
            "Epoch 135/300\n",
            "60/60 [==============================] - 9s 143ms/step - loss: 0.1165 - mae: 0.2326 - mse: 0.3520 - msle: 0.0628 - mape: 3494392.7684\n",
            "Epoch 136/300\n",
            "60/60 [==============================] - 9s 142ms/step - loss: 0.1152 - mae: 0.2317 - mse: 0.3443 - msle: 0.0622 - mape: 3416253.9939\n",
            "Epoch 137/300\n",
            "60/60 [==============================] - 9s 143ms/step - loss: 0.1136 - mae: 0.2290 - mse: 0.3379 - msle: 0.0613 - mape: 3306877.1680\n",
            "Epoch 138/300\n",
            "60/60 [==============================] - 9s 145ms/step - loss: 0.1146 - mae: 0.2300 - mse: 0.3415 - msle: 0.0619 - mape: 3311667.0369\n",
            "Epoch 139/300\n",
            "60/60 [==============================] - 9s 143ms/step - loss: 0.1144 - mae: 0.2304 - mse: 0.3402 - msle: 0.0616 - mape: 3671680.7480\n",
            "Epoch 140/300\n",
            "60/60 [==============================] - 9s 142ms/step - loss: 0.1152 - mae: 0.2311 - mse: 0.3482 - msle: 0.0618 - mape: 3479921.0799\n",
            "Epoch 141/300\n",
            "60/60 [==============================] - 9s 143ms/step - loss: 0.1152 - mae: 0.2306 - mse: 0.3467 - msle: 0.0618 - mape: 3336749.7480\n",
            "Epoch 142/300\n",
            "60/60 [==============================] - 9s 142ms/step - loss: 0.1148 - mae: 0.2312 - mse: 0.3418 - msle: 0.0618 - mape: 3436608.0102\n",
            "Epoch 143/300\n",
            "60/60 [==============================] - 9s 143ms/step - loss: 0.1146 - mae: 0.2300 - mse: 0.3437 - msle: 0.0615 - mape: 3406807.4221\n",
            "Epoch 144/300\n",
            "60/60 [==============================] - 9s 144ms/step - loss: 0.1153 - mae: 0.2313 - mse: 0.3492 - msle: 0.0617 - mape: 3376356.3217\n",
            "Epoch 145/300\n",
            "60/60 [==============================] - 9s 146ms/step - loss: 0.1147 - mae: 0.2312 - mse: 0.3441 - msle: 0.0614 - mape: 3567623.2992\n",
            "Epoch 146/300\n",
            "60/60 [==============================] - 9s 145ms/step - loss: 0.1137 - mae: 0.2302 - mse: 0.3364 - msle: 0.0610 - mape: 3524862.6578\n",
            "Epoch 147/300\n",
            "60/60 [==============================] - 9s 144ms/step - loss: 0.1145 - mae: 0.2315 - mse: 0.3432 - msle: 0.0612 - mape: 3458895.5594\n",
            "Epoch 148/300\n",
            "60/60 [==============================] - 9s 143ms/step - loss: 0.1150 - mae: 0.2315 - mse: 0.3481 - msle: 0.0614 - mape: 3415747.5348\n",
            "Epoch 149/300\n",
            "60/60 [==============================] - 9s 142ms/step - loss: 0.1135 - mae: 0.2296 - mse: 0.3371 - msle: 0.0607 - mape: 3249913.7992\n",
            "Epoch 150/300\n",
            "60/60 [==============================] - 9s 142ms/step - loss: 0.1123 - mae: 0.2287 - mse: 0.3305 - msle: 0.0601 - mape: 3451035.0635\n",
            "Epoch 151/300\n",
            "60/60 [==============================] - 9s 143ms/step - loss: 0.1128 - mae: 0.2287 - mse: 0.3358 - msle: 0.0603 - mape: 3362136.3217\n",
            "Epoch 152/300\n",
            "60/60 [==============================] - 9s 143ms/step - loss: 0.1132 - mae: 0.2296 - mse: 0.3372 - msle: 0.0604 - mape: 3541340.7664\n",
            "Epoch 153/300\n",
            "60/60 [==============================] - 9s 142ms/step - loss: 0.1127 - mae: 0.2290 - mse: 0.3350 - msle: 0.0602 - mape: 3392910.6352\n",
            "Epoch 154/300\n",
            "60/60 [==============================] - 9s 142ms/step - loss: 0.1130 - mae: 0.2289 - mse: 0.3357 - msle: 0.0604 - mape: 3388326.9549\n",
            "Epoch 155/300\n",
            "60/60 [==============================] - 9s 142ms/step - loss: 0.1134 - mae: 0.2288 - mse: 0.3421 - msle: 0.0604 - mape: 3280842.9406\n",
            "Epoch 156/300\n",
            "60/60 [==============================] - 9s 145ms/step - loss: 0.1130 - mae: 0.2282 - mse: 0.3387 - msle: 0.0603 - mape: 3191629.4344\n",
            "Epoch 157/300\n",
            "60/60 [==============================] - 9s 143ms/step - loss: 0.1117 - mae: 0.2279 - mse: 0.3288 - msle: 0.0597 - mape: 3355285.7172\n",
            "Epoch 158/300\n",
            "60/60 [==============================] - 9s 144ms/step - loss: 0.1135 - mae: 0.2289 - mse: 0.3426 - msle: 0.0604 - mape: 3229138.4262\n",
            "Epoch 159/300\n",
            "60/60 [==============================] - 9s 145ms/step - loss: 0.1137 - mae: 0.2288 - mse: 0.3435 - msle: 0.0605 - mape: 3142169.9795\n",
            "Epoch 160/300\n",
            "60/60 [==============================] - 9s 145ms/step - loss: 0.1118 - mae: 0.2272 - mse: 0.3314 - msle: 0.0596 - mape: 3331115.0656\n",
            "Epoch 161/300\n",
            "60/60 [==============================] - 9s 144ms/step - loss: 0.1127 - mae: 0.2284 - mse: 0.3383 - msle: 0.0599 - mape: 3229032.2254\n",
            "Epoch 162/300\n",
            "60/60 [==============================] - 9s 144ms/step - loss: 0.1117 - mae: 0.2268 - mse: 0.3335 - msle: 0.0594 - mape: 3059568.9754\n",
            "Epoch 163/300\n",
            "60/60 [==============================] - 9s 143ms/step - loss: 0.1115 - mae: 0.2266 - mse: 0.3292 - msle: 0.0595 - mape: 3056983.1865\n",
            "Epoch 164/300\n",
            "60/60 [==============================] - 9s 142ms/step - loss: 0.1118 - mae: 0.2276 - mse: 0.3344 - msle: 0.0594 - mape: 3234424.4447\n",
            "Epoch 165/300\n",
            "60/60 [==============================] - 9s 144ms/step - loss: 0.1118 - mae: 0.2268 - mse: 0.3325 - msle: 0.0595 - mape: 3074645.8525\n",
            "Epoch 166/300\n",
            "60/60 [==============================] - 9s 144ms/step - loss: 0.1108 - mae: 0.2258 - mse: 0.3286 - msle: 0.0590 - mape: 3260904.1496\n",
            "Epoch 167/300\n",
            "60/60 [==============================] - 9s 142ms/step - loss: 0.1121 - mae: 0.2271 - mse: 0.3377 - msle: 0.0595 - mape: 3080043.3770\n",
            "Epoch 168/300\n",
            "60/60 [==============================] - 9s 143ms/step - loss: 0.1126 - mae: 0.2281 - mse: 0.3401 - msle: 0.0597 - mape: 3234846.1332\n",
            "Epoch 169/300\n",
            "60/60 [==============================] - 9s 142ms/step - loss: 0.1112 - mae: 0.2261 - mse: 0.3325 - msle: 0.0593 - mape: 3131502.5225\n",
            "Epoch 170/300\n",
            "60/60 [==============================] - 9s 144ms/step - loss: 0.1117 - mae: 0.2266 - mse: 0.3351 - msle: 0.0593 - mape: 3193500.2254\n",
            "Epoch 171/300\n",
            "60/60 [==============================] - 9s 143ms/step - loss: 0.1113 - mae: 0.2266 - mse: 0.3319 - msle: 0.0592 - mape: 3028562.7746\n",
            "Epoch 172/300\n",
            "60/60 [==============================] - 9s 143ms/step - loss: 0.1111 - mae: 0.2254 - mse: 0.3309 - msle: 0.0590 - mape: 3004250.6352\n",
            "Epoch 173/300\n",
            "60/60 [==============================] - 9s 142ms/step - loss: 0.1120 - mae: 0.2270 - mse: 0.3404 - msle: 0.0593 - mape: 3087521.6762\n",
            "Epoch 174/300\n",
            "60/60 [==============================] - 9s 142ms/step - loss: 0.1113 - mae: 0.2252 - mse: 0.3363 - msle: 0.0590 - mape: 2924815.0123\n",
            "Epoch 175/300\n",
            "60/60 [==============================] - 9s 143ms/step - loss: 0.1110 - mae: 0.2258 - mse: 0.3332 - msle: 0.0590 - mape: 3169406.9795\n",
            "Epoch 176/300\n",
            "60/60 [==============================] - 9s 143ms/step - loss: 0.1109 - mae: 0.2250 - mse: 0.3334 - msle: 0.0589 - mape: 3055167.2602\n",
            "Epoch 177/300\n",
            "60/60 [==============================] - 9s 142ms/step - loss: 0.1103 - mae: 0.2246 - mse: 0.3287 - msle: 0.0586 - mape: 3079483.0943\n",
            "Epoch 178/300\n",
            "60/60 [==============================] - 9s 143ms/step - loss: 0.1110 - mae: 0.2252 - mse: 0.3334 - msle: 0.0589 - mape: 2997091.9939\n",
            "Epoch 179/300\n",
            "60/60 [==============================] - 9s 145ms/step - loss: 0.1104 - mae: 0.2249 - mse: 0.3302 - msle: 0.0586 - mape: 3125728.9344\n",
            "Epoch 180/300\n",
            "60/60 [==============================] - 9s 144ms/step - loss: 0.1109 - mae: 0.2247 - mse: 0.3320 - msle: 0.0589 - mape: 2932931.8770\n",
            "Epoch 181/300\n",
            "60/60 [==============================] - 9s 143ms/step - loss: 0.1093 - mae: 0.2228 - mse: 0.3225 - msle: 0.0582 - mape: 2989019.7070\n",
            "Epoch 182/300\n",
            "60/60 [==============================] - 9s 146ms/step - loss: 0.1096 - mae: 0.2244 - mse: 0.3239 - msle: 0.0584 - mape: 3132211.9262\n",
            "Epoch 183/300\n",
            "60/60 [==============================] - 9s 143ms/step - loss: 0.1106 - mae: 0.2245 - mse: 0.3319 - msle: 0.0587 - mape: 2981324.1086\n",
            "Epoch 184/300\n",
            "60/60 [==============================] - 9s 143ms/step - loss: 0.1105 - mae: 0.2245 - mse: 0.3296 - msle: 0.0588 - mape: 2998659.2357\n",
            "Epoch 185/300\n",
            "60/60 [==============================] - 9s 144ms/step - loss: 0.1096 - mae: 0.2236 - mse: 0.3265 - msle: 0.0581 - mape: 2938229.1209\n",
            "Epoch 186/300\n",
            "60/60 [==============================] - 9s 143ms/step - loss: 0.1103 - mae: 0.2240 - mse: 0.3302 - msle: 0.0586 - mape: 2999169.2029\n",
            "Epoch 187/300\n",
            "60/60 [==============================] - 9s 142ms/step - loss: 0.1104 - mae: 0.2244 - mse: 0.3317 - msle: 0.0585 - mape: 2931771.5246\n",
            "Epoch 188/300\n",
            "60/60 [==============================] - 9s 143ms/step - loss: 0.1095 - mae: 0.2231 - mse: 0.3249 - msle: 0.0583 - mape: 2837400.5697\n",
            "Epoch 189/300\n",
            "60/60 [==============================] - 9s 142ms/step - loss: 0.1099 - mae: 0.2238 - mse: 0.3279 - msle: 0.0584 - mape: 2982749.4119\n",
            "Epoch 190/300\n",
            "60/60 [==============================] - 9s 143ms/step - loss: 0.1079 - mae: 0.2209 - mse: 0.3166 - msle: 0.0576 - mape: 2880992.6291\n",
            "Epoch 191/300\n",
            "60/60 [==============================] - 9s 144ms/step - loss: 0.1100 - mae: 0.2237 - mse: 0.3308 - msle: 0.0582 - mape: 3051141.2992\n",
            "Epoch 192/300\n",
            "60/60 [==============================] - 9s 144ms/step - loss: 0.1089 - mae: 0.2222 - mse: 0.3234 - msle: 0.0578 - mape: 2930654.0574\n",
            "Epoch 193/300\n",
            "60/60 [==============================] - 9s 145ms/step - loss: 0.1089 - mae: 0.2222 - mse: 0.3228 - msle: 0.0579 - mape: 2925625.7131\n",
            "Epoch 194/300\n",
            "60/60 [==============================] - 9s 142ms/step - loss: 0.1088 - mae: 0.2218 - mse: 0.3246 - msle: 0.0578 - mape: 2862671.9488\n",
            "Epoch 195/300\n",
            "60/60 [==============================] - 9s 143ms/step - loss: 0.1089 - mae: 0.2235 - mse: 0.3229 - msle: 0.0579 - mape: 2974265.3709\n",
            "Epoch 196/300\n",
            "60/60 [==============================] - 9s 144ms/step - loss: 0.1101 - mae: 0.2240 - mse: 0.3320 - msle: 0.0583 - mape: 2956630.5881\n",
            "Epoch 197/300\n",
            "60/60 [==============================] - 9s 144ms/step - loss: 0.1093 - mae: 0.2220 - mse: 0.3268 - msle: 0.0580 - mape: 2808539.7910\n",
            "Epoch 198/300\n",
            "60/60 [==============================] - 9s 144ms/step - loss: 0.1089 - mae: 0.2220 - mse: 0.3266 - msle: 0.0578 - mape: 2749180.9939\n",
            "Epoch 199/300\n",
            "60/60 [==============================] - 9s 144ms/step - loss: 0.1083 - mae: 0.2211 - mse: 0.3223 - msle: 0.0575 - mape: 2761777.7992\n",
            "Epoch 200/300\n",
            "60/60 [==============================] - 9s 144ms/step - loss: 0.1084 - mae: 0.2214 - mse: 0.3234 - msle: 0.0575 - mape: 2877409.1189\n",
            "Epoch 201/300\n",
            "60/60 [==============================] - 9s 144ms/step - loss: 0.1083 - mae: 0.2216 - mse: 0.3222 - msle: 0.0576 - mape: 2912755.6742\n",
            "Epoch 202/300\n",
            "60/60 [==============================] - 9s 144ms/step - loss: 0.1076 - mae: 0.2203 - mse: 0.3184 - msle: 0.0571 - mape: 2891991.2090\n",
            "Epoch 203/300\n",
            "60/60 [==============================] - 9s 143ms/step - loss: 0.1100 - mae: 0.2239 - mse: 0.3341 - msle: 0.0582 - mape: 2949347.1516\n",
            "Epoch 204/300\n",
            "60/60 [==============================] - 9s 142ms/step - loss: 0.1083 - mae: 0.2215 - mse: 0.3231 - msle: 0.0576 - mape: 2919045.7480\n",
            "Epoch 205/300\n",
            "60/60 [==============================] - 9s 143ms/step - loss: 0.1093 - mae: 0.2229 - mse: 0.3303 - msle: 0.0578 - mape: 2892989.7254\n",
            "Epoch 206/300\n",
            "60/60 [==============================] - 9s 144ms/step - loss: 0.1078 - mae: 0.2206 - mse: 0.3202 - msle: 0.0572 - mape: 2782758.7643\n",
            "Epoch 207/300\n",
            "60/60 [==============================] - 9s 145ms/step - loss: 0.1083 - mae: 0.2210 - mse: 0.3263 - msle: 0.0573 - mape: 2893236.0246\n",
            "Epoch 208/300\n",
            "60/60 [==============================] - 9s 145ms/step - loss: 0.1088 - mae: 0.2214 - mse: 0.3279 - msle: 0.0576 - mape: 2892494.3996\n",
            "Epoch 209/300\n",
            "60/60 [==============================] - 9s 145ms/step - loss: 0.1076 - mae: 0.2200 - mse: 0.3188 - msle: 0.0571 - mape: 2761736.1230\n",
            "Epoch 210/300\n",
            "60/60 [==============================] - 9s 145ms/step - loss: 0.1079 - mae: 0.2214 - mse: 0.3228 - msle: 0.0573 - mape: 2831682.3586\n",
            "Epoch 211/300\n",
            "60/60 [==============================] - 9s 147ms/step - loss: 0.1071 - mae: 0.2193 - mse: 0.3150 - msle: 0.0570 - mape: 2794159.6762\n",
            "Epoch 212/300\n",
            "60/60 [==============================] - 9s 147ms/step - loss: 0.1082 - mae: 0.2211 - mse: 0.3233 - msle: 0.0574 - mape: 2810557.0369\n",
            "Epoch 213/300\n",
            "60/60 [==============================] - 9s 148ms/step - loss: 0.1074 - mae: 0.2198 - mse: 0.3191 - msle: 0.0570 - mape: 2764408.0000\n",
            "Epoch 214/300\n",
            "60/60 [==============================] - 9s 144ms/step - loss: 0.1075 - mae: 0.2195 - mse: 0.3204 - msle: 0.0570 - mape: 2798953.6742\n",
            "Epoch 215/300\n",
            "60/60 [==============================] - 9s 145ms/step - loss: 0.1076 - mae: 0.2198 - mse: 0.3218 - msle: 0.0571 - mape: 2660147.0451\n",
            "Epoch 216/300\n",
            "60/60 [==============================] - 9s 145ms/step - loss: 0.1069 - mae: 0.2198 - mse: 0.3166 - msle: 0.0567 - mape: 2802997.9467\n",
            "Epoch 217/300\n",
            "60/60 [==============================] - 9s 145ms/step - loss: 0.1066 - mae: 0.2187 - mse: 0.3156 - msle: 0.0566 - mape: 2719616.4365\n",
            "Epoch 218/300\n",
            "60/60 [==============================] - 9s 146ms/step - loss: 0.1074 - mae: 0.2205 - mse: 0.3191 - msle: 0.0570 - mape: 2920363.2828\n",
            "Epoch 219/300\n",
            "60/60 [==============================] - 9s 146ms/step - loss: 0.1066 - mae: 0.2188 - mse: 0.3174 - msle: 0.0566 - mape: 2811395.7807\n",
            "Epoch 220/300\n",
            "60/60 [==============================] - 9s 146ms/step - loss: 0.1081 - mae: 0.2206 - mse: 0.3252 - msle: 0.0572 - mape: 2857896.7152\n",
            "Epoch 221/300\n",
            "60/60 [==============================] - 9s 145ms/step - loss: 0.1076 - mae: 0.2204 - mse: 0.3232 - msle: 0.0570 - mape: 2915785.7869\n",
            "Epoch 222/300\n",
            "60/60 [==============================] - 9s 146ms/step - loss: 0.1074 - mae: 0.2199 - mse: 0.3222 - msle: 0.0569 - mape: 2821845.6660\n",
            "Epoch 223/300\n",
            "60/60 [==============================] - 9s 148ms/step - loss: 0.1077 - mae: 0.2205 - mse: 0.3254 - msle: 0.0570 - mape: 2705668.5082\n",
            "Epoch 224/300\n",
            "60/60 [==============================] - 9s 148ms/step - loss: 0.1075 - mae: 0.2205 - mse: 0.3234 - msle: 0.0570 - mape: 2882928.4775\n",
            "Epoch 225/300\n",
            "60/60 [==============================] - 9s 146ms/step - loss: 0.1067 - mae: 0.2195 - mse: 0.3176 - msle: 0.0567 - mape: 2792340.8443\n",
            "Epoch 226/300\n",
            "60/60 [==============================] - 9s 149ms/step - loss: 0.1067 - mae: 0.2200 - mse: 0.3193 - msle: 0.0566 - mape: 2990994.0328\n",
            "Epoch 227/300\n",
            "60/60 [==============================] - 9s 148ms/step - loss: 0.1071 - mae: 0.2199 - mse: 0.3220 - msle: 0.0567 - mape: 2846985.1250\n",
            "Epoch 228/300\n",
            "60/60 [==============================] - 9s 148ms/step - loss: 0.1077 - mae: 0.2197 - mse: 0.3235 - msle: 0.0569 - mape: 2858907.8012\n",
            "Epoch 229/300\n",
            "60/60 [==============================] - 9s 147ms/step - loss: 0.1073 - mae: 0.2195 - mse: 0.3215 - msle: 0.0568 - mape: 2753208.3012\n",
            "Epoch 230/300\n",
            "60/60 [==============================] - 9s 146ms/step - loss: 0.1068 - mae: 0.2189 - mse: 0.3216 - msle: 0.0565 - mape: 2737282.0328\n",
            "Epoch 231/300\n",
            "60/60 [==============================] - 9s 145ms/step - loss: 0.1057 - mae: 0.2182 - mse: 0.3125 - msle: 0.0561 - mape: 2793577.6209\n",
            "Epoch 232/300\n",
            "60/60 [==============================] - 9s 143ms/step - loss: 0.1063 - mae: 0.2192 - mse: 0.3166 - msle: 0.0565 - mape: 2887672.6025\n",
            "Epoch 233/300\n",
            "60/60 [==============================] - 9s 143ms/step - loss: 0.1063 - mae: 0.2184 - mse: 0.3173 - msle: 0.0563 - mape: 2833279.0389\n",
            "Epoch 234/300\n",
            "60/60 [==============================] - 9s 144ms/step - loss: 0.1053 - mae: 0.2174 - mse: 0.3104 - msle: 0.0559 - mape: 2720015.1701\n",
            "Epoch 235/300\n",
            "60/60 [==============================] - 9s 142ms/step - loss: 0.1064 - mae: 0.2193 - mse: 0.3177 - msle: 0.0564 - mape: 2886811.1721\n",
            "Epoch 236/300\n",
            "60/60 [==============================] - 9s 145ms/step - loss: 0.1051 - mae: 0.2173 - mse: 0.3094 - msle: 0.0558 - mape: 2917640.6803\n",
            "Epoch 237/300\n",
            "60/60 [==============================] - 9s 144ms/step - loss: 0.1073 - mae: 0.2194 - mse: 0.3258 - msle: 0.0566 - mape: 2750219.4652\n",
            "Epoch 238/300\n",
            "60/60 [==============================] - 9s 144ms/step - loss: 0.1066 - mae: 0.2190 - mse: 0.3206 - msle: 0.0563 - mape: 2758633.5574\n",
            "Epoch 239/300\n",
            "60/60 [==============================] - 9s 146ms/step - loss: 0.1066 - mae: 0.2191 - mse: 0.3208 - msle: 0.0564 - mape: 2884895.9508\n",
            "Epoch 240/300\n",
            "60/60 [==============================] - 9s 147ms/step - loss: 0.1052 - mae: 0.2178 - mse: 0.3129 - msle: 0.0558 - mape: 2900898.7500\n",
            "Epoch 241/300\n",
            "60/60 [==============================] - 9s 144ms/step - loss: 0.1067 - mae: 0.2191 - mse: 0.3226 - msle: 0.0563 - mape: 2842425.2561\n",
            "Epoch 242/300\n",
            "60/60 [==============================] - 9s 144ms/step - loss: 0.1061 - mae: 0.2178 - mse: 0.3175 - msle: 0.0561 - mape: 2607987.4221\n",
            "Epoch 243/300\n",
            "60/60 [==============================] - 9s 146ms/step - loss: 0.1046 - mae: 0.2169 - mse: 0.3063 - msle: 0.0556 - mape: 2900616.7295\n",
            "Epoch 244/300\n",
            "60/60 [==============================] - 9s 148ms/step - loss: 0.1063 - mae: 0.2191 - mse: 0.3213 - msle: 0.0561 - mape: 2802560.6988\n",
            "Epoch 245/300\n",
            "60/60 [==============================] - 9s 146ms/step - loss: 0.1053 - mae: 0.2169 - mse: 0.3134 - msle: 0.0558 - mape: 2675604.2582\n",
            "Epoch 246/300\n",
            "60/60 [==============================] - 9s 144ms/step - loss: 0.1061 - mae: 0.2183 - mse: 0.3212 - msle: 0.0560 - mape: 2689329.3955\n",
            "Epoch 247/300\n",
            "60/60 [==============================] - 9s 145ms/step - loss: 0.1052 - mae: 0.2168 - mse: 0.3129 - msle: 0.0558 - mape: 2677320.9877\n",
            "Epoch 248/300\n",
            "60/60 [==============================] - 9s 144ms/step - loss: 0.1053 - mae: 0.2171 - mse: 0.3159 - msle: 0.0557 - mape: 2673674.2275\n",
            "Epoch 249/300\n",
            "60/60 [==============================] - 9s 145ms/step - loss: 0.1055 - mae: 0.2172 - mse: 0.3171 - msle: 0.0558 - mape: 2742432.3238\n",
            "Epoch 250/300\n",
            "60/60 [==============================] - 9s 145ms/step - loss: 0.1044 - mae: 0.2164 - mse: 0.3087 - msle: 0.0555 - mape: 2731154.9447\n",
            "Epoch 251/300\n",
            "60/60 [==============================] - 9s 146ms/step - loss: 0.1047 - mae: 0.2163 - mse: 0.3116 - msle: 0.0556 - mape: 2695311.7807\n",
            "Epoch 252/300\n",
            "60/60 [==============================] - 9s 146ms/step - loss: 0.1058 - mae: 0.2180 - mse: 0.3193 - msle: 0.0558 - mape: 2751971.5553\n",
            "Epoch 253/300\n",
            "60/60 [==============================] - 9s 148ms/step - loss: 0.1059 - mae: 0.2180 - mse: 0.3210 - msle: 0.0559 - mape: 2750144.1537\n",
            "Epoch 254/300\n",
            "60/60 [==============================] - 9s 148ms/step - loss: 0.1048 - mae: 0.2173 - mse: 0.3118 - msle: 0.0556 - mape: 2772901.5287\n",
            "Epoch 255/300\n",
            "60/60 [==============================] - 9s 148ms/step - loss: 0.1050 - mae: 0.2169 - mse: 0.3143 - msle: 0.0555 - mape: 2817044.4365\n",
            "Epoch 256/300\n",
            "60/60 [==============================] - 9s 147ms/step - loss: 0.1042 - mae: 0.2157 - mse: 0.3084 - msle: 0.0553 - mape: 2642015.7643\n",
            "Epoch 257/300\n",
            "60/60 [==============================] - 9s 147ms/step - loss: 0.1049 - mae: 0.2169 - mse: 0.3149 - msle: 0.0554 - mape: 2742434.1045\n",
            "Epoch 258/300\n",
            "60/60 [==============================] - 9s 146ms/step - loss: 0.1051 - mae: 0.2172 - mse: 0.3144 - msle: 0.0557 - mape: 2750603.9488\n",
            "Epoch 259/300\n",
            "60/60 [==============================] - 9s 147ms/step - loss: 0.1044 - mae: 0.2163 - mse: 0.3100 - msle: 0.0553 - mape: 2668814.8012\n",
            "Epoch 260/300\n",
            "60/60 [==============================] - 9s 147ms/step - loss: 0.1043 - mae: 0.2165 - mse: 0.3102 - msle: 0.0552 - mape: 2807334.4939\n",
            "Epoch 261/300\n",
            "60/60 [==============================] - 9s 147ms/step - loss: 0.1039 - mae: 0.2156 - mse: 0.3101 - msle: 0.0549 - mape: 2744134.2623\n",
            "Epoch 262/300\n",
            "60/60 [==============================] - 9s 145ms/step - loss: 0.1041 - mae: 0.2158 - mse: 0.3095 - msle: 0.0550 - mape: 2718117.9221\n",
            "Epoch 263/300\n",
            "60/60 [==============================] - 9s 148ms/step - loss: 0.1041 - mae: 0.2164 - mse: 0.3105 - msle: 0.0550 - mape: 2932993.1660\n",
            "Epoch 264/300\n",
            "60/60 [==============================] - 9s 146ms/step - loss: 0.1039 - mae: 0.2156 - mse: 0.3098 - msle: 0.0549 - mape: 2728177.9119\n",
            "Epoch 265/300\n",
            "60/60 [==============================] - 9s 147ms/step - loss: 0.1040 - mae: 0.2155 - mse: 0.3106 - msle: 0.0548 - mape: 2711172.7807\n",
            "Epoch 266/300\n",
            "60/60 [==============================] - 9s 148ms/step - loss: 0.1035 - mae: 0.2153 - mse: 0.3072 - msle: 0.0547 - mape: 2793157.9324\n",
            "Epoch 267/300\n",
            "60/60 [==============================] - 9s 148ms/step - loss: 0.1039 - mae: 0.2156 - mse: 0.3084 - msle: 0.0550 - mape: 2635104.0799\n",
            "Epoch 268/300\n",
            "60/60 [==============================] - 9s 148ms/step - loss: 0.1053 - mae: 0.2171 - mse: 0.3190 - msle: 0.0554 - mape: 2704685.1168\n",
            "Epoch 269/300\n",
            "60/60 [==============================] - 9s 145ms/step - loss: 0.1035 - mae: 0.2148 - mse: 0.3097 - msle: 0.0546 - mape: 2688759.6803\n",
            "Epoch 270/300\n",
            "60/60 [==============================] - 9s 147ms/step - loss: 0.1047 - mae: 0.2167 - mse: 0.3152 - msle: 0.0552 - mape: 2667007.8689\n",
            "Epoch 271/300\n",
            "60/60 [==============================] - 9s 145ms/step - loss: 0.1037 - mae: 0.2157 - mse: 0.3087 - msle: 0.0548 - mape: 2880008.6557\n",
            "Epoch 272/300\n",
            "60/60 [==============================] - 9s 146ms/step - loss: 0.1040 - mae: 0.2164 - mse: 0.3119 - msle: 0.0549 - mape: 2800740.7930\n",
            "Epoch 273/300\n",
            "60/60 [==============================] - 9s 146ms/step - loss: 0.1039 - mae: 0.2156 - mse: 0.3118 - msle: 0.0547 - mape: 2763297.6783\n",
            "Epoch 274/300\n",
            "60/60 [==============================] - 9s 146ms/step - loss: 0.1035 - mae: 0.2154 - mse: 0.3096 - msle: 0.0547 - mape: 2733728.9672\n",
            "Epoch 275/300\n",
            "60/60 [==============================] - 9s 146ms/step - loss: 0.1046 - mae: 0.2165 - mse: 0.3171 - msle: 0.0551 - mape: 2763444.9631\n",
            "Epoch 276/300\n",
            "60/60 [==============================] - 9s 145ms/step - loss: 0.1035 - mae: 0.2158 - mse: 0.3082 - msle: 0.0547 - mape: 2717754.3033\n",
            "Epoch 277/300\n",
            "60/60 [==============================] - 9s 146ms/step - loss: 0.1033 - mae: 0.2150 - mse: 0.3088 - msle: 0.0545 - mape: 2727962.6578\n",
            "Epoch 278/300\n",
            "60/60 [==============================] - 9s 145ms/step - loss: 0.1036 - mae: 0.2155 - mse: 0.3099 - msle: 0.0545 - mape: 2705587.5184\n",
            "Epoch 279/300\n",
            "60/60 [==============================] - 9s 146ms/step - loss: 0.1040 - mae: 0.2159 - mse: 0.3129 - msle: 0.0548 - mape: 2789280.6639\n",
            "Epoch 280/300\n",
            "60/60 [==============================] - 9s 147ms/step - loss: 0.1039 - mae: 0.2156 - mse: 0.3131 - msle: 0.0547 - mape: 2731725.5656\n",
            "Epoch 281/300\n",
            "60/60 [==============================] - 9s 148ms/step - loss: 0.1028 - mae: 0.2143 - mse: 0.3070 - msle: 0.0543 - mape: 2712683.3238\n",
            "Epoch 282/300\n",
            "60/60 [==============================] - 9s 148ms/step - loss: 0.1028 - mae: 0.2147 - mse: 0.3051 - msle: 0.0544 - mape: 2707307.7869\n",
            "Epoch 283/300\n",
            "60/60 [==============================] - 9s 148ms/step - loss: 0.1023 - mae: 0.2135 - mse: 0.3053 - msle: 0.0540 - mape: 2675700.0676\n",
            "Epoch 284/300\n",
            "60/60 [==============================] - 9s 147ms/step - loss: 0.1042 - mae: 0.2165 - mse: 0.3176 - msle: 0.0548 - mape: 2684263.7910\n",
            "Epoch 285/300\n",
            "60/60 [==============================] - 9s 147ms/step - loss: 0.1029 - mae: 0.2150 - mse: 0.3064 - msle: 0.0545 - mape: 2788236.3033\n",
            "Epoch 286/300\n",
            "60/60 [==============================] - 9s 146ms/step - loss: 0.1033 - mae: 0.2154 - mse: 0.3096 - msle: 0.0545 - mape: 2705774.3607\n",
            "Epoch 287/300\n",
            "60/60 [==============================] - 9s 147ms/step - loss: 0.1025 - mae: 0.2142 - mse: 0.3060 - msle: 0.0541 - mape: 2720287.2705\n",
            "Epoch 288/300\n",
            "60/60 [==============================] - 9s 146ms/step - loss: 0.1024 - mae: 0.2143 - mse: 0.3056 - msle: 0.0541 - mape: 2711289.6475\n",
            "Epoch 289/300\n",
            "60/60 [==============================] - 9s 147ms/step - loss: 0.1033 - mae: 0.2151 - mse: 0.3115 - msle: 0.0544 - mape: 2630266.5615\n",
            "Epoch 290/300\n",
            "60/60 [==============================] - 9s 147ms/step - loss: 0.1026 - mae: 0.2143 - mse: 0.3081 - msle: 0.0542 - mape: 2704421.4836\n",
            "Epoch 291/300\n",
            "60/60 [==============================] - 9s 148ms/step - loss: 0.1034 - mae: 0.2157 - mse: 0.3120 - msle: 0.0545 - mape: 2750719.2684\n",
            "Epoch 292/300\n",
            "60/60 [==============================] - 9s 145ms/step - loss: 0.1020 - mae: 0.2142 - mse: 0.3025 - msle: 0.0541 - mape: 2675350.5410\n",
            "Epoch 293/300\n",
            "60/60 [==============================] - 9s 146ms/step - loss: 0.1020 - mae: 0.2142 - mse: 0.3025 - msle: 0.0540 - mape: 2755118.6598\n",
            "Epoch 294/300\n",
            "60/60 [==============================] - 9s 147ms/step - loss: 0.1030 - mae: 0.2153 - mse: 0.3090 - msle: 0.0544 - mape: 2678340.2848\n",
            "Epoch 295/300\n",
            "60/60 [==============================] - 9s 146ms/step - loss: 0.1033 - mae: 0.2157 - mse: 0.3108 - msle: 0.0546 - mape: 2758303.1947\n",
            "Epoch 296/300\n",
            "60/60 [==============================] - 9s 147ms/step - loss: 0.1023 - mae: 0.2147 - mse: 0.3043 - msle: 0.0542 - mape: 2714688.0758\n",
            "Epoch 297/300\n",
            "60/60 [==============================] - 9s 146ms/step - loss: 0.1028 - mae: 0.2143 - mse: 0.3096 - msle: 0.0543 - mape: 2595840.2531\n",
            "Epoch 298/300\n",
            "60/60 [==============================] - 9s 146ms/step - loss: 0.1018 - mae: 0.2131 - mse: 0.3062 - msle: 0.0537 - mape: 2669804.0943\n",
            "Epoch 299/300\n",
            "60/60 [==============================] - 9s 146ms/step - loss: 0.1021 - mae: 0.2137 - mse: 0.3053 - msle: 0.0541 - mape: 2582354.5164\n",
            "Epoch 300/300\n",
            "60/60 [==============================] - 9s 146ms/step - loss: 0.1023 - mae: 0.2138 - mse: 0.3072 - msle: 0.0540 - mape: 2601431.8627\n"
          ],
          "name": "stdout"
        }
      ]
    },
    {
      "cell_type": "code",
      "metadata": {
        "colab": {
          "base_uri": "https://localhost:8080/"
        },
        "id": "eoNyAALoz-qY",
        "outputId": "e2e81ae2-dc7e-4354-9d4f-703082c2e720"
      },
      "source": [
        "#minimum mae error\n",
        "min(history.history[\"mae\"])"
      ],
      "execution_count": 92,
      "outputs": [
        {
          "output_type": "execute_result",
          "data": {
            "text/plain": [
              "0.20629280805587769"
            ]
          },
          "metadata": {
            "tags": []
          },
          "execution_count": 92
        }
      ]
    },
    {
      "cell_type": "markdown",
      "metadata": {
        "id": "ld7CpV-E5EKO"
      },
      "source": [
        "model summary:"
      ]
    },
    {
      "cell_type": "code",
      "metadata": {
        "colab": {
          "base_uri": "https://localhost:8080/"
        },
        "id": "6IUnB2VGz-qa",
        "outputId": "f30b827d-3c92-4d02-efa8-f75dcacbd30b"
      },
      "source": [
        "model.summary()"
      ],
      "execution_count": 93,
      "outputs": [
        {
          "output_type": "stream",
          "text": [
            "Model: \"sequential\"\n",
            "_________________________________________________________________\n",
            "Layer (type)                 Output Shape              Param #   \n",
            "=================================================================\n",
            "conv1d (Conv1D)              (None, None, 65)          390       \n",
            "_________________________________________________________________\n",
            "lstm (LSTM)                  (None, None, 64)          33280     \n",
            "_________________________________________________________________\n",
            "gru (GRU)                    (None, None, 64)          24960     \n",
            "_________________________________________________________________\n",
            "dense (Dense)                (None, None, 30)          1950      \n",
            "_________________________________________________________________\n",
            "dense_1 (Dense)              (None, None, 15)          465       \n",
            "_________________________________________________________________\n",
            "dense_2 (Dense)              (None, None, 1)           16        \n",
            "_________________________________________________________________\n",
            "lambda (Lambda)              (None, None, 1)           0         \n",
            "=================================================================\n",
            "Total params: 61,061\n",
            "Trainable params: 61,061\n",
            "Non-trainable params: 0\n",
            "_________________________________________________________________\n"
          ],
          "name": "stdout"
        }
      ]
    },
    {
      "cell_type": "markdown",
      "metadata": {
        "id": "Gf4pYbE4z-qa"
      },
      "source": [
        "Forecasting workload"
      ]
    },
    {
      "cell_type": "code",
      "metadata": {
        "id": "ywFMlqvFz-qa"
      },
      "source": [
        "rnn_forecast = model_forecast(model, series[..., np.newaxis], window_size)\n",
        "rnn_forecast = rnn_forecast[split_time - window_size:-1, -1, 0]"
      ],
      "execution_count": 94,
      "outputs": []
    },
    {
      "cell_type": "markdown",
      "metadata": {
        "id": "R-AfRGA15WQO"
      },
      "source": [
        "visualization of full workload prediction"
      ]
    },
    {
      "cell_type": "code",
      "metadata": {
        "colab": {
          "base_uri": "https://localhost:8080/",
          "height": 393
        },
        "id": "pIhvqwJrz-qa",
        "outputId": "88f6423d-fe19-4601-b47b-3b99c49baf30"
      },
      "source": [
        "plt.figure(figsize=(10, 6))\n",
        "#plt.title(\"Prediction of dataset\",fontsize=16)\n",
        "\n",
        "plot_series(time_valid, x_valid)\n",
        "plot_series(time_valid, rnn_forecast,'r' )\n",
        "plt.legend(('Actual workloads', 'Predicted Workloads'),loc='upper right',fontsize=12)\n",
        "plt.savefig('BW prediction.png', dpi = 720) "
      ],
      "execution_count": 95,
      "outputs": [
        {
          "output_type": "display_data",
          "data": {
            "image/png": "[encoded data removed]",
            "text/plain": [
              "<Figure size 720x432 with 1 Axes>"
            ]
          },
          "metadata": {
            "tags": [],
            "needs_background": "light"
          }
        }
      ]
    },
    {
      "cell_type": "markdown",
      "metadata": {
        "id": "WL1YcWo35fDG"
      },
      "source": [
        "Visualizing short time workload prediction"
      ]
    },
    {
      "cell_type": "code",
      "metadata": {
        "colab": {
          "base_uri": "https://localhost:8080/",
          "height": 393
        },
        "id": "UGAC6RGAz-qa",
        "outputId": "7e8b38a2-5941-4d2d-821b-60f97bd4f482"
      },
      "source": [
        "plt.figure(figsize=(10, 6))\n",
        "plot_series(time_valid[0:72], x_valid[0:72])\n",
        "plot_series(time_valid[0:72], rnn_forecast[0:72],'r' )\n",
        "plt.legend(('Actual workloads', 'Predicted Workloads'),fontsize=12)\n",
        "plt.savefig('6 hr BW pred.png', dpi = 720) "
      ],
      "execution_count": 96,
      "outputs": [
        {
          "output_type": "display_data",
          "data": {
            "image/png": "[encoded data removed]",
            "text/plain": [
              "<Figure size 720x432 with 1 Axes>"
            ]
          },
          "metadata": {
            "tags": [],
            "needs_background": "light"
          }
        }
      ]
    },
    {
      "cell_type": "markdown",
      "metadata": {
        "id": "ZV2TS6MB5k19"
      },
      "source": [
        "Visualizing medium time ahead workload prediction"
      ]
    },
    {
      "cell_type": "code",
      "metadata": {
        "colab": {
          "base_uri": "https://localhost:8080/",
          "height": 393
        },
        "id": "QeqazSBbz-qa",
        "outputId": "8a4fb6c8-8405-4dc5-977b-cd75b12a8992"
      },
      "source": [
        "plt.figure(figsize=(10, 6))\n",
        "plot_series(time_valid[0:288], x_valid[0:288])\n",
        "plot_series(time_valid[0:288], rnn_forecast[0:288],'r' )\n",
        "plt.legend(('Actual workloads', 'Predicted Workloads'),fontsize=12)\n",
        "plt.savefig('24 hr bw pred.png', dpi = 720) "
      ],
      "execution_count": 97,
      "outputs": [
        {
          "output_type": "display_data",
          "data": {
            "image/png": "[encoded data removed]",
            "text/plain": [
              "<Figure size 720x432 with 1 Axes>"
            ]
          },
          "metadata": {
            "tags": [],
            "needs_background": "light"
          }
        }
      ]
    },
    {
      "cell_type": "markdown",
      "metadata": {
        "id": "jFRp9CkS6Dau"
      },
      "source": [
        "Visualization of long time ahead prediction"
      ]
    },
    {
      "cell_type": "code",
      "metadata": {
        "colab": {
          "base_uri": "https://localhost:8080/",
          "height": 393
        },
        "id": "wOiJ7Wxvz-qb",
        "outputId": "36b14e5d-9198-41f2-84b2-b799375e41b8"
      },
      "source": [
        "plt.figure(figsize=(10, 6))\n",
        "plot_series(time_valid[0:864], x_valid[0:864])\n",
        "plot_series(time_valid[0:864], rnn_forecast[0:864],'r' )\n",
        "plt.legend(('Actual workloads', 'Predicted Workloads'),fontsize=12)\n",
        "plt.savefig('3 day disk pred.png', dpi = 720) "
      ],
      "execution_count": 98,
      "outputs": [
        {
          "output_type": "display_data",
          "data": {
            "image/png": "[encoded data removed]",
            "text/plain": [
              "<Figure size 720x432 with 1 Axes>"
            ]
          },
          "metadata": {
            "tags": [],
            "needs_background": "light"
          }
        }
      ]
    },
    {
      "cell_type": "markdown",
      "metadata": {
        "id": "otL1iCAXz-qb"
      },
      "source": [
        "# Error output"
      ]
    },
    {
      "cell_type": "code",
      "metadata": {
        "colab": {
          "base_uri": "https://localhost:8080/"
        },
        "id": "EzBlD4LNz-qc",
        "outputId": "67f3f2eb-dcd5-4e41-81c7-a1b9e0cbc227"
      },
      "source": [
        "tf.keras.metrics.mean_absolute_error(x_valid, rnn_forecast).numpy()"
      ],
      "execution_count": 99,
      "outputs": [
        {
          "output_type": "execute_result",
          "data": {
            "text/plain": [
              "0.2589052"
            ]
          },
          "metadata": {
            "tags": []
          },
          "execution_count": 99
        }
      ]
    },
    {
      "cell_type": "code",
      "metadata": {
        "colab": {
          "base_uri": "https://localhost:8080/"
        },
        "id": "pZTqtdLaz-qc",
        "outputId": "204a2630-5ab5-4047-80a8-14b3705e1733"
      },
      "source": [
        "tf.keras.metrics.mse(x_valid, rnn_forecast).numpy()"
      ],
      "execution_count": 100,
      "outputs": [
        {
          "output_type": "execute_result",
          "data": {
            "text/plain": [
              "0.6309771"
            ]
          },
          "metadata": {
            "tags": []
          },
          "execution_count": 100
        }
      ]
    },
    {
      "cell_type": "code",
      "metadata": {
        "colab": {
          "base_uri": "https://localhost:8080/"
        },
        "id": "HsCSHvGOz-qc",
        "outputId": "0d6b8385-e0a8-4bfe-9593-8cba3fc95329"
      },
      "source": [
        "tf.keras.metrics.msle(x_valid, rnn_forecast).numpy()"
      ],
      "execution_count": 101,
      "outputs": [
        {
          "output_type": "execute_result",
          "data": {
            "text/plain": [
              "0.05931422"
            ]
          },
          "metadata": {
            "tags": []
          },
          "execution_count": 101
        }
      ]
    },
    {
      "cell_type": "code",
      "metadata": {
        "colab": {
          "base_uri": "https://localhost:8080/"
        },
        "id": "JE5RVHqBz-qd",
        "outputId": "8f468769-7de3-4ae6-fd16-cb678cf60b50"
      },
      "source": [
        "tf.keras.metrics.mape(x_valid, rnn_forecast).numpy()"
      ],
      "execution_count": 102,
      "outputs": [
        {
          "output_type": "execute_result",
          "data": {
            "text/plain": [
              "1524.1217"
            ]
          },
          "metadata": {
            "tags": []
          },
          "execution_count": 102
        }
      ]
    },
    {
      "cell_type": "markdown",
      "metadata": {
        "id": "tYPjGxRxz-qd"
      },
      "source": [
        "# Epoch vs Loss curve"
      ]
    },
    {
      "cell_type": "code",
      "metadata": {
        "colab": {
          "base_uri": "https://localhost:8080/"
        },
        "id": "OPYc5yJ6z-qd",
        "outputId": "820c497c-3ba5-437f-ff08-a1168d472972"
      },
      "source": [
        "tf.keras.backend.clear_session()\n",
        "tf.random.set_seed(51)\n",
        "np.random.seed(51)\n",
        "valid_set = windowed_dataset(x_valid, window_size=64, batch_size=125, shuffle_buffer=shuffle_buffer_size)\n",
        "history1 = model.fit(valid_set,epochs=300)"
      ],
      "execution_count": 103,
      "outputs": [
        {
          "output_type": "stream",
          "text": [
            "Epoch 1/300\n",
            "9/9 [==============================] - 3s 152ms/step - loss: 0.1336 - mae: 0.2656 - mse: 0.6583 - msle: 0.0618 - mape: 1589.4811\n",
            "Epoch 2/300\n",
            "9/9 [==============================] - 1s 144ms/step - loss: 0.1332 - mae: 0.2630 - mse: 0.6568 - msle: 0.0616 - mape: 1526.6237\n",
            "Epoch 3/300\n",
            "9/9 [==============================] - 2s 149ms/step - loss: 0.1329 - mae: 0.2631 - mse: 0.6559 - msle: 0.0615 - mape: 1533.5662\n",
            "Epoch 4/300\n",
            "9/9 [==============================] - 2s 147ms/step - loss: 0.1327 - mae: 0.2639 - mse: 0.6552 - msle: 0.0614 - mape: 1564.9360\n",
            "Epoch 5/300\n",
            "9/9 [==============================] - 1s 145ms/step - loss: 0.1325 - mae: 0.2631 - mse: 0.6547 - msle: 0.0612 - mape: 1550.1157\n",
            "Epoch 6/300\n",
            "9/9 [==============================] - 1s 142ms/step - loss: 0.1323 - mae: 0.2637 - mse: 0.6536 - msle: 0.0613 - mape: 1579.5037\n",
            "Epoch 7/300\n",
            "9/9 [==============================] - 1s 144ms/step - loss: 0.1321 - mae: 0.2626 - mse: 0.6530 - msle: 0.0611 - mape: 1555.2611\n",
            "Epoch 8/300\n",
            "9/9 [==============================] - 1s 143ms/step - loss: 0.1319 - mae: 0.2625 - mse: 0.6523 - msle: 0.0610 - mape: 1561.5809\n",
            "Epoch 9/300\n",
            "9/9 [==============================] - 2s 145ms/step - loss: 0.1317 - mae: 0.2625 - mse: 0.6515 - msle: 0.0610 - mape: 1569.1437\n",
            "Epoch 10/300\n",
            "9/9 [==============================] - 2s 146ms/step - loss: 0.1316 - mae: 0.2614 - mse: 0.6510 - msle: 0.0608 - mape: 1545.7972\n",
            "Epoch 11/300\n",
            "9/9 [==============================] - 2s 147ms/step - loss: 0.1314 - mae: 0.2621 - mse: 0.6501 - msle: 0.0609 - mape: 1574.4077\n",
            "Epoch 12/300\n",
            "9/9 [==============================] - 2s 146ms/step - loss: 0.1313 - mae: 0.2608 - mse: 0.6497 - msle: 0.0607 - mape: 1543.4139\n",
            "Epoch 13/300\n",
            "9/9 [==============================] - 1s 144ms/step - loss: 0.1312 - mae: 0.2616 - mse: 0.6489 - msle: 0.0608 - mape: 1571.9724\n",
            "Epoch 14/300\n",
            "9/9 [==============================] - 1s 145ms/step - loss: 0.1310 - mae: 0.2612 - mse: 0.6483 - msle: 0.0607 - mape: 1563.7273\n",
            "Epoch 15/300\n",
            "9/9 [==============================] - 1s 143ms/step - loss: 0.1309 - mae: 0.2603 - mse: 0.6479 - msle: 0.0605 - mape: 1539.5459\n",
            "Epoch 16/300\n",
            "9/9 [==============================] - 2s 145ms/step - loss: 0.1308 - mae: 0.2612 - mse: 0.6469 - msle: 0.0606 - mape: 1572.0554\n",
            "Epoch 17/300\n",
            "9/9 [==============================] - 1s 146ms/step - loss: 0.1307 - mae: 0.2602 - mse: 0.6465 - msle: 0.0605 - mape: 1544.2273\n",
            "Epoch 18/300\n",
            "9/9 [==============================] - 2s 146ms/step - loss: 0.1305 - mae: 0.2604 - mse: 0.6459 - msle: 0.0604 - mape: 1553.8717\n",
            "Epoch 19/300\n",
            "9/9 [==============================] - 1s 145ms/step - loss: 0.1304 - mae: 0.2602 - mse: 0.6455 - msle: 0.0603 - mape: 1551.1769\n",
            "Epoch 20/300\n",
            "9/9 [==============================] - 1s 141ms/step - loss: 0.1303 - mae: 0.2616 - mse: 0.6446 - msle: 0.0605 - mape: 1594.4346\n",
            "Epoch 21/300\n",
            "9/9 [==============================] - 2s 146ms/step - loss: 0.1302 - mae: 0.2594 - mse: 0.6444 - msle: 0.0602 - mape: 1533.7811\n",
            "Epoch 22/300\n",
            "9/9 [==============================] - 1s 145ms/step - loss: 0.1301 - mae: 0.2606 - mse: 0.6435 - msle: 0.0603 - mape: 1572.0383\n",
            "Epoch 23/300\n",
            "9/9 [==============================] - 2s 148ms/step - loss: 0.1300 - mae: 0.2592 - mse: 0.6434 - msle: 0.0601 - mape: 1531.3816\n",
            "Epoch 24/300\n",
            "9/9 [==============================] - 2s 146ms/step - loss: 0.1299 - mae: 0.2606 - mse: 0.6425 - msle: 0.0602 - mape: 1574.7156\n",
            "Epoch 25/300\n",
            "9/9 [==============================] - 2s 149ms/step - loss: 0.1298 - mae: 0.2601 - mse: 0.6420 - msle: 0.0601 - mape: 1563.2760\n",
            "Epoch 26/300\n",
            "9/9 [==============================] - 1s 145ms/step - loss: 0.1297 - mae: 0.2605 - mse: 0.6413 - msle: 0.0601 - mape: 1575.7604\n",
            "Epoch 27/300\n",
            "9/9 [==============================] - 1s 143ms/step - loss: 0.1296 - mae: 0.2597 - mse: 0.6410 - msle: 0.0600 - mape: 1554.9978\n",
            "Epoch 28/300\n",
            "9/9 [==============================] - 1s 145ms/step - loss: 0.1295 - mae: 0.2597 - mse: 0.6405 - msle: 0.0599 - mape: 1557.7513\n",
            "Epoch 29/300\n",
            "9/9 [==============================] - 1s 143ms/step - loss: 0.1295 - mae: 0.2604 - mse: 0.6398 - msle: 0.0600 - mape: 1580.8622\n",
            "Epoch 30/300\n",
            "9/9 [==============================] - 1s 143ms/step - loss: 0.1294 - mae: 0.2595 - mse: 0.6394 - msle: 0.0598 - mape: 1555.8324\n",
            "Epoch 31/300\n",
            "9/9 [==============================] - 1s 143ms/step - loss: 0.1293 - mae: 0.2598 - mse: 0.6388 - msle: 0.0598 - mape: 1566.4984\n",
            "Epoch 32/300\n",
            "9/9 [==============================] - 2s 148ms/step - loss: 0.1292 - mae: 0.2591 - mse: 0.6385 - msle: 0.0597 - mape: 1546.1235\n",
            "Epoch 33/300\n",
            "9/9 [==============================] - 1s 145ms/step - loss: 0.1291 - mae: 0.2599 - mse: 0.6378 - msle: 0.0597 - mape: 1575.3921\n",
            "Epoch 34/300\n",
            "9/9 [==============================] - 1s 144ms/step - loss: 0.1290 - mae: 0.2597 - mse: 0.6372 - msle: 0.0597 - mape: 1572.2019\n",
            "Epoch 35/300\n",
            "9/9 [==============================] - 1s 142ms/step - loss: 0.1289 - mae: 0.2592 - mse: 0.6369 - msle: 0.0596 - mape: 1556.5558\n",
            "Epoch 36/300\n",
            "9/9 [==============================] - 1s 142ms/step - loss: 0.1289 - mae: 0.2590 - mse: 0.6366 - msle: 0.0595 - mape: 1551.7507\n",
            "Epoch 37/300\n",
            "9/9 [==============================] - 1s 143ms/step - loss: 0.1288 - mae: 0.2599 - mse: 0.6358 - msle: 0.0596 - mape: 1583.6781\n",
            "Epoch 38/300\n",
            "9/9 [==============================] - 1s 143ms/step - loss: 0.1287 - mae: 0.2591 - mse: 0.6356 - msle: 0.0595 - mape: 1559.3832\n",
            "Epoch 39/300\n",
            "9/9 [==============================] - 2s 148ms/step - loss: 0.1286 - mae: 0.2593 - mse: 0.6352 - msle: 0.0595 - mape: 1569.4689\n",
            "Epoch 40/300\n",
            "9/9 [==============================] - 1s 145ms/step - loss: 0.1286 - mae: 0.2586 - mse: 0.6350 - msle: 0.0594 - mape: 1548.5610\n",
            "Epoch 41/300\n",
            "9/9 [==============================] - 2s 146ms/step - loss: 0.1285 - mae: 0.2592 - mse: 0.6345 - msle: 0.0594 - mape: 1569.6289\n",
            "Epoch 42/300\n",
            "9/9 [==============================] - 1s 145ms/step - loss: 0.1285 - mae: 0.2591 - mse: 0.6342 - msle: 0.0594 - mape: 1567.5035\n",
            "Epoch 43/300\n",
            "9/9 [==============================] - 1s 145ms/step - loss: 0.1284 - mae: 0.2587 - mse: 0.6338 - msle: 0.0593 - mape: 1559.0966\n",
            "Epoch 44/300\n",
            "9/9 [==============================] - 1s 145ms/step - loss: 0.1283 - mae: 0.2588 - mse: 0.6335 - msle: 0.0593 - mape: 1561.6105\n",
            "Epoch 45/300\n",
            "9/9 [==============================] - 1s 143ms/step - loss: 0.1283 - mae: 0.2586 - mse: 0.6331 - msle: 0.0593 - mape: 1557.2952\n",
            "Epoch 46/300\n",
            "9/9 [==============================] - 1s 147ms/step - loss: 0.1282 - mae: 0.2589 - mse: 0.6326 - msle: 0.0593 - mape: 1569.9668\n",
            "Epoch 47/300\n",
            "9/9 [==============================] - 1s 143ms/step - loss: 0.1282 - mae: 0.2587 - mse: 0.6324 - msle: 0.0592 - mape: 1562.1172\n",
            "Epoch 48/300\n",
            "9/9 [==============================] - 1s 142ms/step - loss: 0.1281 - mae: 0.2587 - mse: 0.6320 - msle: 0.0592 - mape: 1567.1522\n",
            "Epoch 49/300\n",
            "9/9 [==============================] - 1s 144ms/step - loss: 0.1280 - mae: 0.2582 - mse: 0.6318 - msle: 0.0591 - mape: 1551.8395\n",
            "Epoch 50/300\n",
            "9/9 [==============================] - 1s 144ms/step - loss: 0.1280 - mae: 0.2589 - mse: 0.6312 - msle: 0.0592 - mape: 1577.2406\n",
            "Epoch 51/300\n",
            "9/9 [==============================] - 1s 143ms/step - loss: 0.1279 - mae: 0.2586 - mse: 0.6310 - msle: 0.0592 - mape: 1570.6545\n",
            "Epoch 52/300\n",
            "9/9 [==============================] - 1s 147ms/step - loss: 0.1279 - mae: 0.2579 - mse: 0.6309 - msle: 0.0590 - mape: 1549.7119\n",
            "Epoch 53/300\n",
            "9/9 [==============================] - 1s 145ms/step - loss: 0.1278 - mae: 0.2588 - mse: 0.6303 - msle: 0.0591 - mape: 1578.5350\n",
            "Epoch 54/300\n",
            "9/9 [==============================] - 1s 144ms/step - loss: 0.1277 - mae: 0.2576 - mse: 0.6304 - msle: 0.0589 - mape: 1544.9678\n",
            "Epoch 55/300\n",
            "9/9 [==============================] - 1s 143ms/step - loss: 0.1277 - mae: 0.2587 - mse: 0.6298 - msle: 0.0590 - mape: 1579.8784\n",
            "Epoch 56/300\n",
            "9/9 [==============================] - 1s 142ms/step - loss: 0.1276 - mae: 0.2579 - mse: 0.6298 - msle: 0.0588 - mape: 1555.9257\n",
            "Epoch 57/300\n",
            "9/9 [==============================] - 1s 143ms/step - loss: 0.1276 - mae: 0.2588 - mse: 0.6292 - msle: 0.0589 - mape: 1584.2706\n",
            "Epoch 58/300\n",
            "9/9 [==============================] - 1s 143ms/step - loss: 0.1275 - mae: 0.2575 - mse: 0.6292 - msle: 0.0587 - mape: 1547.0353\n",
            "Epoch 59/300\n",
            "9/9 [==============================] - 1s 140ms/step - loss: 0.1275 - mae: 0.2587 - mse: 0.6285 - msle: 0.0588 - mape: 1586.5004\n",
            "Epoch 60/300\n",
            "9/9 [==============================] - 1s 147ms/step - loss: 0.1274 - mae: 0.2579 - mse: 0.6284 - msle: 0.0587 - mape: 1562.4928\n",
            "Epoch 61/300\n",
            "9/9 [==============================] - 1s 143ms/step - loss: 0.1273 - mae: 0.2578 - mse: 0.6282 - msle: 0.0586 - mape: 1559.9359\n",
            "Epoch 62/300\n",
            "9/9 [==============================] - 1s 141ms/step - loss: 0.1273 - mae: 0.2587 - mse: 0.6277 - msle: 0.0587 - mape: 1588.9844\n",
            "Epoch 63/300\n",
            "9/9 [==============================] - 2s 148ms/step - loss: 0.1272 - mae: 0.2578 - mse: 0.6276 - msle: 0.0585 - mape: 1563.6829\n",
            "Epoch 64/300\n",
            "9/9 [==============================] - 2s 147ms/step - loss: 0.1272 - mae: 0.2579 - mse: 0.6273 - msle: 0.0585 - mape: 1568.4993\n",
            "Epoch 65/300\n",
            "9/9 [==============================] - 1s 146ms/step - loss: 0.1271 - mae: 0.2580 - mse: 0.6271 - msle: 0.0585 - mape: 1573.7047\n",
            "Epoch 66/300\n",
            "9/9 [==============================] - 1s 146ms/step - loss: 0.1271 - mae: 0.2582 - mse: 0.6266 - msle: 0.0585 - mape: 1583.5519\n",
            "Epoch 67/300\n",
            "9/9 [==============================] - 1s 147ms/step - loss: 0.1270 - mae: 0.2574 - mse: 0.6265 - msle: 0.0584 - mape: 1561.6046\n",
            "Epoch 68/300\n",
            "9/9 [==============================] - 1s 144ms/step - loss: 0.1270 - mae: 0.2579 - mse: 0.6260 - msle: 0.0584 - mape: 1579.3740\n",
            "Epoch 69/300\n",
            "9/9 [==============================] - 2s 147ms/step - loss: 0.1269 - mae: 0.2573 - mse: 0.6260 - msle: 0.0583 - mape: 1560.1235\n",
            "Epoch 70/300\n",
            "9/9 [==============================] - 2s 145ms/step - loss: 0.1269 - mae: 0.2579 - mse: 0.6255 - msle: 0.0583 - mape: 1580.7715\n",
            "Epoch 71/300\n",
            "9/9 [==============================] - 2s 149ms/step - loss: 0.1268 - mae: 0.2580 - mse: 0.6251 - msle: 0.0583 - mape: 1586.9589\n",
            "Epoch 72/300\n",
            "9/9 [==============================] - 1s 146ms/step - loss: 0.1268 - mae: 0.2573 - mse: 0.6251 - msle: 0.0582 - mape: 1566.5476\n",
            "Epoch 73/300\n",
            "9/9 [==============================] - 1s 146ms/step - loss: 0.1267 - mae: 0.2577 - mse: 0.6246 - msle: 0.0582 - mape: 1579.2517\n",
            "Epoch 74/300\n",
            "9/9 [==============================] - 2s 145ms/step - loss: 0.1267 - mae: 0.2575 - mse: 0.6244 - msle: 0.0581 - mape: 1574.0436\n",
            "Epoch 75/300\n",
            "9/9 [==============================] - 2s 149ms/step - loss: 0.1266 - mae: 0.2572 - mse: 0.6243 - msle: 0.0580 - mape: 1567.2515\n",
            "Epoch 76/300\n",
            "9/9 [==============================] - 2s 148ms/step - loss: 0.1266 - mae: 0.2580 - mse: 0.6237 - msle: 0.0581 - mape: 1592.5696\n",
            "Epoch 77/300\n",
            "9/9 [==============================] - 2s 146ms/step - loss: 0.1265 - mae: 0.2572 - mse: 0.6236 - msle: 0.0580 - mape: 1571.3866\n",
            "Epoch 78/300\n",
            "9/9 [==============================] - 1s 144ms/step - loss: 0.1264 - mae: 0.2574 - mse: 0.6233 - msle: 0.0580 - mape: 1580.4320\n",
            "Epoch 79/300\n",
            "9/9 [==============================] - 1s 145ms/step - loss: 0.1264 - mae: 0.2573 - mse: 0.6230 - msle: 0.0580 - mape: 1576.9885\n",
            "Epoch 80/300\n",
            "9/9 [==============================] - 2s 150ms/step - loss: 0.1263 - mae: 0.2572 - mse: 0.6227 - msle: 0.0579 - mape: 1576.7572\n",
            "Epoch 81/300\n",
            "9/9 [==============================] - 2s 146ms/step - loss: 0.1263 - mae: 0.2573 - mse: 0.6225 - msle: 0.0579 - mape: 1580.6333\n",
            "Epoch 82/300\n",
            "9/9 [==============================] - 2s 148ms/step - loss: 0.1262 - mae: 0.2575 - mse: 0.6221 - msle: 0.0579 - mape: 1587.7471\n",
            "Epoch 83/300\n",
            "9/9 [==============================] - 2s 149ms/step - loss: 0.1262 - mae: 0.2571 - mse: 0.6219 - msle: 0.0578 - mape: 1579.5669\n",
            "Epoch 84/300\n",
            "9/9 [==============================] - 2s 147ms/step - loss: 0.1262 - mae: 0.2569 - mse: 0.6217 - msle: 0.0578 - mape: 1574.9048\n",
            "Epoch 85/300\n",
            "9/9 [==============================] - 2s 145ms/step - loss: 0.1261 - mae: 0.2567 - mse: 0.6215 - msle: 0.0577 - mape: 1569.5043\n",
            "Epoch 86/300\n",
            "9/9 [==============================] - 1s 145ms/step - loss: 0.1261 - mae: 0.2571 - mse: 0.6211 - msle: 0.0577 - mape: 1582.9069\n",
            "Epoch 87/300\n",
            "9/9 [==============================] - 2s 147ms/step - loss: 0.1260 - mae: 0.2572 - mse: 0.6208 - msle: 0.0577 - mape: 1588.0349\n",
            "Epoch 88/300\n",
            "9/9 [==============================] - 1s 145ms/step - loss: 0.1260 - mae: 0.2567 - mse: 0.6208 - msle: 0.0576 - mape: 1572.8053\n",
            "Epoch 89/300\n",
            "9/9 [==============================] - 2s 146ms/step - loss: 0.1259 - mae: 0.2570 - mse: 0.6204 - msle: 0.0576 - mape: 1583.3802\n",
            "Epoch 90/300\n",
            "9/9 [==============================] - 2s 146ms/step - loss: 0.1259 - mae: 0.2567 - mse: 0.6202 - msle: 0.0576 - mape: 1576.6053\n",
            "Epoch 91/300\n",
            "9/9 [==============================] - 2s 146ms/step - loss: 0.1258 - mae: 0.2567 - mse: 0.6199 - msle: 0.0576 - mape: 1579.4922\n",
            "Epoch 92/300\n",
            "9/9 [==============================] - 2s 149ms/step - loss: 0.1258 - mae: 0.2565 - mse: 0.6197 - msle: 0.0575 - mape: 1574.7778\n",
            "Epoch 93/300\n",
            "9/9 [==============================] - 2s 149ms/step - loss: 0.1257 - mae: 0.2571 - mse: 0.6193 - msle: 0.0576 - mape: 1594.5492\n",
            "Epoch 94/300\n",
            "9/9 [==============================] - 2s 146ms/step - loss: 0.1257 - mae: 0.2568 - mse: 0.6191 - msle: 0.0575 - mape: 1586.9741\n",
            "Epoch 95/300\n",
            "9/9 [==============================] - 1s 144ms/step - loss: 0.1256 - mae: 0.2564 - mse: 0.6190 - msle: 0.0574 - mape: 1573.6434\n",
            "Epoch 96/300\n",
            "9/9 [==============================] - 1s 145ms/step - loss: 0.1256 - mae: 0.2565 - mse: 0.6187 - msle: 0.0574 - mape: 1579.9167\n",
            "Epoch 97/300\n",
            "9/9 [==============================] - 1s 147ms/step - loss: 0.1255 - mae: 0.2569 - mse: 0.6182 - msle: 0.0575 - mape: 1594.3076\n",
            "Epoch 98/300\n",
            "9/9 [==============================] - 2s 147ms/step - loss: 0.1255 - mae: 0.2557 - mse: 0.6184 - msle: 0.0572 - mape: 1557.1697\n",
            "Epoch 99/300\n",
            "9/9 [==============================] - 1s 146ms/step - loss: 0.1255 - mae: 0.2571 - mse: 0.6179 - msle: 0.0574 - mape: 1602.2072\n",
            "Epoch 100/300\n",
            "9/9 [==============================] - 1s 145ms/step - loss: 0.1254 - mae: 0.2562 - mse: 0.6178 - msle: 0.0573 - mape: 1577.7344\n",
            "Epoch 101/300\n",
            "9/9 [==============================] - 2s 147ms/step - loss: 0.1254 - mae: 0.2563 - mse: 0.6175 - msle: 0.0573 - mape: 1580.4413\n",
            "Epoch 102/300\n",
            "9/9 [==============================] - 1s 148ms/step - loss: 0.1253 - mae: 0.2564 - mse: 0.6172 - msle: 0.0573 - mape: 1585.9268\n",
            "Epoch 103/300\n",
            "9/9 [==============================] - 2s 146ms/step - loss: 0.1253 - mae: 0.2566 - mse: 0.6170 - msle: 0.0573 - mape: 1591.2317\n",
            "Epoch 104/300\n",
            "9/9 [==============================] - 1s 147ms/step - loss: 0.1252 - mae: 0.2558 - mse: 0.6170 - msle: 0.0571 - mape: 1568.2378\n",
            "Epoch 105/300\n",
            "9/9 [==============================] - 2s 147ms/step - loss: 0.1252 - mae: 0.2569 - mse: 0.6164 - msle: 0.0573 - mape: 1605.2856\n",
            "Epoch 106/300\n",
            "9/9 [==============================] - 1s 144ms/step - loss: 0.1251 - mae: 0.2552 - mse: 0.6166 - msle: 0.0570 - mape: 1554.3499\n",
            "Epoch 107/300\n",
            "9/9 [==============================] - 2s 147ms/step - loss: 0.1251 - mae: 0.2563 - mse: 0.6161 - msle: 0.0572 - mape: 1591.7566\n",
            "Epoch 108/300\n",
            "9/9 [==============================] - 1s 146ms/step - loss: 0.1250 - mae: 0.2555 - mse: 0.6162 - msle: 0.0570 - mape: 1563.9296\n",
            "Epoch 109/300\n",
            "9/9 [==============================] - 1s 144ms/step - loss: 0.1250 - mae: 0.2569 - mse: 0.6155 - msle: 0.0572 - mape: 1610.0206\n",
            "Epoch 110/300\n",
            "9/9 [==============================] - 2s 149ms/step - loss: 0.1250 - mae: 0.2552 - mse: 0.6158 - msle: 0.0569 - mape: 1558.1416\n",
            "Epoch 111/300\n",
            "9/9 [==============================] - 2s 148ms/step - loss: 0.1249 - mae: 0.2563 - mse: 0.6153 - msle: 0.0570 - mape: 1594.2156\n",
            "Epoch 112/300\n",
            "9/9 [==============================] - 1s 146ms/step - loss: 0.1249 - mae: 0.2559 - mse: 0.6152 - msle: 0.0570 - mape: 1581.5001\n",
            "Epoch 113/300\n",
            "9/9 [==============================] - 2s 146ms/step - loss: 0.1248 - mae: 0.2557 - mse: 0.6149 - msle: 0.0569 - mape: 1577.0541\n",
            "Epoch 114/300\n",
            "9/9 [==============================] - 1s 146ms/step - loss: 0.1248 - mae: 0.2559 - mse: 0.6146 - msle: 0.0569 - mape: 1583.9348\n",
            "Epoch 115/300\n",
            "9/9 [==============================] - 2s 149ms/step - loss: 0.1247 - mae: 0.2557 - mse: 0.6144 - msle: 0.0569 - mape: 1580.9532\n",
            "Epoch 116/300\n",
            "9/9 [==============================] - 1s 145ms/step - loss: 0.1247 - mae: 0.2557 - mse: 0.6142 - msle: 0.0568 - mape: 1581.8121\n",
            "Epoch 117/300\n",
            "9/9 [==============================] - 2s 148ms/step - loss: 0.1246 - mae: 0.2557 - mse: 0.6140 - msle: 0.0568 - mape: 1581.6140\n",
            "Epoch 118/300\n",
            "9/9 [==============================] - 1s 145ms/step - loss: 0.1246 - mae: 0.2558 - mse: 0.6137 - msle: 0.0568 - mape: 1585.5387\n",
            "Epoch 119/300\n",
            "9/9 [==============================] - 1s 147ms/step - loss: 0.1245 - mae: 0.2560 - mse: 0.6133 - msle: 0.0568 - mape: 1592.5140\n",
            "Epoch 120/300\n",
            "9/9 [==============================] - 2s 147ms/step - loss: 0.1245 - mae: 0.2551 - mse: 0.6134 - msle: 0.0566 - mape: 1566.2769\n",
            "Epoch 121/300\n",
            "9/9 [==============================] - 1s 144ms/step - loss: 0.1245 - mae: 0.2558 - mse: 0.6130 - msle: 0.0567 - mape: 1588.9250\n",
            "Epoch 122/300\n",
            "9/9 [==============================] - 1s 145ms/step - loss: 0.1244 - mae: 0.2554 - mse: 0.6128 - msle: 0.0567 - mape: 1577.3253\n",
            "Epoch 123/300\n",
            "9/9 [==============================] - 1s 144ms/step - loss: 0.1244 - mae: 0.2559 - mse: 0.6125 - msle: 0.0567 - mape: 1596.8185\n",
            "Epoch 124/300\n",
            "9/9 [==============================] - 1s 146ms/step - loss: 0.1243 - mae: 0.2552 - mse: 0.6123 - msle: 0.0566 - mape: 1577.1001\n",
            "Epoch 125/300\n",
            "9/9 [==============================] - 2s 146ms/step - loss: 0.1243 - mae: 0.2547 - mse: 0.6122 - msle: 0.0565 - mape: 1562.6969\n",
            "Epoch 126/300\n",
            "9/9 [==============================] - 1s 146ms/step - loss: 0.1242 - mae: 0.2557 - mse: 0.6118 - msle: 0.0567 - mape: 1596.5938\n",
            "Epoch 127/300\n",
            "9/9 [==============================] - 1s 143ms/step - loss: 0.1242 - mae: 0.2551 - mse: 0.6117 - msle: 0.0565 - mape: 1577.3529\n",
            "Epoch 128/300\n",
            "9/9 [==============================] - 1s 144ms/step - loss: 0.1241 - mae: 0.2550 - mse: 0.6115 - msle: 0.0565 - mape: 1577.7400\n",
            "Epoch 129/300\n",
            "9/9 [==============================] - 1s 143ms/step - loss: 0.1241 - mae: 0.2550 - mse: 0.6113 - msle: 0.0565 - mape: 1577.0383\n",
            "Epoch 130/300\n",
            "9/9 [==============================] - 1s 145ms/step - loss: 0.1240 - mae: 0.2555 - mse: 0.6109 - msle: 0.0566 - mape: 1594.5925\n",
            "Epoch 131/300\n",
            "9/9 [==============================] - 2s 149ms/step - loss: 0.1240 - mae: 0.2547 - mse: 0.6109 - msle: 0.0564 - mape: 1568.7855\n",
            "Epoch 132/300\n",
            "9/9 [==============================] - 1s 143ms/step - loss: 0.1240 - mae: 0.2552 - mse: 0.6104 - msle: 0.0565 - mape: 1590.2411\n",
            "Epoch 133/300\n",
            "9/9 [==============================] - 2s 147ms/step - loss: 0.1239 - mae: 0.2546 - mse: 0.6103 - msle: 0.0564 - mape: 1572.4104\n",
            "Epoch 134/300\n",
            "9/9 [==============================] - 1s 146ms/step - loss: 0.1239 - mae: 0.2547 - mse: 0.6102 - msle: 0.0564 - mape: 1576.0444\n",
            "Epoch 135/300\n",
            "9/9 [==============================] - 2s 146ms/step - loss: 0.1238 - mae: 0.2550 - mse: 0.6099 - msle: 0.0564 - mape: 1586.3885\n",
            "Epoch 136/300\n",
            "9/9 [==============================] - 1s 143ms/step - loss: 0.1238 - mae: 0.2545 - mse: 0.6098 - msle: 0.0563 - mape: 1572.0929\n",
            "Epoch 137/300\n",
            "9/9 [==============================] - 1s 146ms/step - loss: 0.1237 - mae: 0.2551 - mse: 0.6093 - msle: 0.0565 - mape: 1593.0560\n",
            "Epoch 138/300\n",
            "9/9 [==============================] - 2s 147ms/step - loss: 0.1237 - mae: 0.2542 - mse: 0.6093 - msle: 0.0563 - mape: 1565.7554\n",
            "Epoch 139/300\n",
            "9/9 [==============================] - 2s 146ms/step - loss: 0.1237 - mae: 0.2549 - mse: 0.6090 - msle: 0.0563 - mape: 1588.3148\n",
            "Epoch 140/300\n",
            "9/9 [==============================] - 1s 145ms/step - loss: 0.1236 - mae: 0.2540 - mse: 0.6091 - msle: 0.0561 - mape: 1560.9556\n",
            "Epoch 141/300\n",
            "9/9 [==============================] - 2s 144ms/step - loss: 0.1236 - mae: 0.2549 - mse: 0.6085 - msle: 0.0564 - mape: 1593.4308\n",
            "Epoch 142/300\n",
            "9/9 [==============================] - 2s 148ms/step - loss: 0.1235 - mae: 0.2538 - mse: 0.6087 - msle: 0.0561 - mape: 1560.2814\n",
            "Epoch 143/300\n",
            "9/9 [==============================] - 1s 145ms/step - loss: 0.1235 - mae: 0.2546 - mse: 0.6082 - msle: 0.0563 - mape: 1588.4398\n",
            "Epoch 144/300\n",
            "9/9 [==============================] - 1s 144ms/step - loss: 0.1235 - mae: 0.2535 - mse: 0.6085 - msle: 0.0560 - mape: 1552.9539\n",
            "Epoch 145/300\n",
            "9/9 [==============================] - 1s 142ms/step - loss: 0.1234 - mae: 0.2549 - mse: 0.6077 - msle: 0.0563 - mape: 1601.0537\n",
            "Epoch 146/300\n",
            "9/9 [==============================] - 1s 145ms/step - loss: 0.1234 - mae: 0.2534 - mse: 0.6080 - msle: 0.0560 - mape: 1555.5287\n",
            "Epoch 147/300\n",
            "9/9 [==============================] - 1s 144ms/step - loss: 0.1233 - mae: 0.2543 - mse: 0.6075 - msle: 0.0562 - mape: 1585.3152\n",
            "Epoch 148/300\n",
            "9/9 [==============================] - 1s 145ms/step - loss: 0.1233 - mae: 0.2539 - mse: 0.6074 - msle: 0.0561 - mape: 1573.0156\n",
            "Epoch 149/300\n",
            "9/9 [==============================] - 1s 143ms/step - loss: 0.1233 - mae: 0.2535 - mse: 0.6073 - msle: 0.0560 - mape: 1562.2838\n",
            "Epoch 150/300\n",
            "9/9 [==============================] - 2s 146ms/step - loss: 0.1232 - mae: 0.2539 - mse: 0.6070 - msle: 0.0561 - mape: 1577.1772\n",
            "Epoch 151/300\n",
            "9/9 [==============================] - 2s 148ms/step - loss: 0.1232 - mae: 0.2536 - mse: 0.6069 - msle: 0.0560 - mape: 1568.9753\n",
            "Epoch 152/300\n",
            "9/9 [==============================] - 1s 145ms/step - loss: 0.1231 - mae: 0.2538 - mse: 0.6066 - msle: 0.0561 - mape: 1578.3324\n",
            "Epoch 153/300\n",
            "9/9 [==============================] - 1s 146ms/step - loss: 0.1231 - mae: 0.2533 - mse: 0.6066 - msle: 0.0559 - mape: 1562.5513\n",
            "Epoch 154/300\n",
            "9/9 [==============================] - 2s 148ms/step - loss: 0.1231 - mae: 0.2539 - mse: 0.6063 - msle: 0.0560 - mape: 1581.8849\n",
            "Epoch 155/300\n",
            "9/9 [==============================] - 1s 144ms/step - loss: 0.1230 - mae: 0.2531 - mse: 0.6063 - msle: 0.0559 - mape: 1559.4562\n",
            "Epoch 156/300\n",
            "9/9 [==============================] - 1s 146ms/step - loss: 0.1230 - mae: 0.2535 - mse: 0.6060 - msle: 0.0560 - mape: 1575.3927\n",
            "Epoch 157/300\n",
            "9/9 [==============================] - 2s 145ms/step - loss: 0.1229 - mae: 0.2533 - mse: 0.6059 - msle: 0.0559 - mape: 1569.0258\n",
            "Epoch 158/300\n",
            "9/9 [==============================] - 2s 146ms/step - loss: 0.1229 - mae: 0.2536 - mse: 0.6056 - msle: 0.0559 - mape: 1579.1537\n",
            "Epoch 159/300\n",
            "9/9 [==============================] - 2s 148ms/step - loss: 0.1229 - mae: 0.2528 - mse: 0.6056 - msle: 0.0558 - mape: 1555.0344\n",
            "Epoch 160/300\n",
            "9/9 [==============================] - 2s 145ms/step - loss: 0.1228 - mae: 0.2533 - mse: 0.6053 - msle: 0.0559 - mape: 1573.6067\n",
            "Epoch 161/300\n",
            "9/9 [==============================] - 1s 143ms/step - loss: 0.1228 - mae: 0.2532 - mse: 0.6052 - msle: 0.0558 - mape: 1572.3488\n",
            "Epoch 162/300\n",
            "9/9 [==============================] - 1s 145ms/step - loss: 0.1227 - mae: 0.2530 - mse: 0.6051 - msle: 0.0558 - mape: 1564.7689\n",
            "Epoch 163/300\n",
            "9/9 [==============================] - 2s 148ms/step - loss: 0.1227 - mae: 0.2527 - mse: 0.6051 - msle: 0.0557 - mape: 1558.2642\n",
            "Epoch 164/300\n",
            "9/9 [==============================] - 2s 148ms/step - loss: 0.1227 - mae: 0.2535 - mse: 0.6047 - msle: 0.0558 - mape: 1584.7938\n",
            "Epoch 165/300\n",
            "9/9 [==============================] - 1s 146ms/step - loss: 0.1226 - mae: 0.2528 - mse: 0.6046 - msle: 0.0558 - mape: 1566.2405\n",
            "Epoch 166/300\n",
            "9/9 [==============================] - 2s 147ms/step - loss: 0.1226 - mae: 0.2527 - mse: 0.6045 - msle: 0.0557 - mape: 1561.8611\n",
            "Epoch 167/300\n",
            "9/9 [==============================] - 1s 144ms/step - loss: 0.1226 - mae: 0.2528 - mse: 0.6044 - msle: 0.0556 - mape: 1565.2734\n",
            "Epoch 168/300\n",
            "9/9 [==============================] - 2s 148ms/step - loss: 0.1225 - mae: 0.2531 - mse: 0.6041 - msle: 0.0557 - mape: 1575.3217\n",
            "Epoch 169/300\n",
            "9/9 [==============================] - 2s 145ms/step - loss: 0.1225 - mae: 0.2523 - mse: 0.6042 - msle: 0.0556 - mape: 1551.6707\n",
            "Epoch 170/300\n",
            "9/9 [==============================] - 2s 148ms/step - loss: 0.1225 - mae: 0.2530 - mse: 0.6038 - msle: 0.0557 - mape: 1577.3602\n",
            "Epoch 171/300\n",
            "9/9 [==============================] - 2s 149ms/step - loss: 0.1224 - mae: 0.2524 - mse: 0.6040 - msle: 0.0555 - mape: 1555.1616\n",
            "Epoch 172/300\n",
            "9/9 [==============================] - 2s 147ms/step - loss: 0.1224 - mae: 0.2533 - mse: 0.6034 - msle: 0.0557 - mape: 1590.1660\n",
            "Epoch 173/300\n",
            "9/9 [==============================] - 2s 153ms/step - loss: 0.1224 - mae: 0.2518 - mse: 0.6037 - msle: 0.0554 - mape: 1541.1564\n",
            "Epoch 174/300\n",
            "9/9 [==============================] - 2s 147ms/step - loss: 0.1223 - mae: 0.2532 - mse: 0.6031 - msle: 0.0557 - mape: 1589.9822\n",
            "Epoch 175/300\n",
            "9/9 [==============================] - 2s 151ms/step - loss: 0.1223 - mae: 0.2519 - mse: 0.6036 - msle: 0.0554 - mape: 1544.7205\n",
            "Epoch 176/300\n",
            "9/9 [==============================] - 2s 150ms/step - loss: 0.1223 - mae: 0.2536 - mse: 0.6027 - msle: 0.0557 - mape: 1602.9836\n",
            "Epoch 177/300\n",
            "9/9 [==============================] - 2s 151ms/step - loss: 0.1222 - mae: 0.2519 - mse: 0.6031 - msle: 0.0554 - mape: 1549.2296\n",
            "Epoch 178/300\n",
            "9/9 [==============================] - 2s 148ms/step - loss: 0.1222 - mae: 0.2527 - mse: 0.6026 - msle: 0.0556 - mape: 1578.0607\n",
            "Epoch 179/300\n",
            "9/9 [==============================] - 2s 151ms/step - loss: 0.1221 - mae: 0.2520 - mse: 0.6027 - msle: 0.0554 - mape: 1555.2668\n",
            "Epoch 180/300\n",
            "9/9 [==============================] - 2s 149ms/step - loss: 0.1221 - mae: 0.2527 - mse: 0.6024 - msle: 0.0556 - mape: 1579.5601\n",
            "Epoch 181/300\n",
            "9/9 [==============================] - 2s 152ms/step - loss: 0.1221 - mae: 0.2520 - mse: 0.6026 - msle: 0.0553 - mape: 1553.8883\n",
            "Epoch 182/300\n",
            "9/9 [==============================] - 2s 149ms/step - loss: 0.1220 - mae: 0.2530 - mse: 0.6021 - msle: 0.0556 - mape: 1590.0565\n",
            "Epoch 183/300\n",
            "9/9 [==============================] - 2s 149ms/step - loss: 0.1220 - mae: 0.2518 - mse: 0.6022 - msle: 0.0553 - mape: 1553.5613\n",
            "Epoch 184/300\n",
            "9/9 [==============================] - 2s 151ms/step - loss: 0.1220 - mae: 0.2521 - mse: 0.6021 - msle: 0.0553 - mape: 1564.5469\n",
            "Epoch 185/300\n",
            "9/9 [==============================] - 2s 148ms/step - loss: 0.1219 - mae: 0.2523 - mse: 0.6018 - msle: 0.0554 - mape: 1573.5391\n",
            "Epoch 186/300\n",
            "9/9 [==============================] - 2s 147ms/step - loss: 0.1219 - mae: 0.2525 - mse: 0.6016 - msle: 0.0555 - mape: 1580.5946\n",
            "Epoch 187/300\n",
            "9/9 [==============================] - 2s 150ms/step - loss: 0.1219 - mae: 0.2512 - mse: 0.6020 - msle: 0.0552 - mape: 1538.2233\n",
            "Epoch 188/300\n",
            "9/9 [==============================] - 1s 147ms/step - loss: 0.1218 - mae: 0.2524 - mse: 0.6014 - msle: 0.0554 - mape: 1580.9778\n",
            "Epoch 189/300\n",
            "9/9 [==============================] - 1s 146ms/step - loss: 0.1218 - mae: 0.2516 - mse: 0.6015 - msle: 0.0553 - mape: 1555.8823\n",
            "Epoch 190/300\n",
            "9/9 [==============================] - 2s 147ms/step - loss: 0.1218 - mae: 0.2514 - mse: 0.6015 - msle: 0.0552 - mape: 1549.2008\n",
            "Epoch 191/300\n",
            "9/9 [==============================] - 2s 148ms/step - loss: 0.1217 - mae: 0.2524 - mse: 0.6011 - msle: 0.0554 - mape: 1584.7468\n",
            "Epoch 192/300\n",
            "9/9 [==============================] - 2s 146ms/step - loss: 0.1217 - mae: 0.2513 - mse: 0.6012 - msle: 0.0552 - mape: 1551.5674\n",
            "Epoch 193/300\n",
            "9/9 [==============================] - 1s 147ms/step - loss: 0.1217 - mae: 0.2522 - mse: 0.6008 - msle: 0.0553 - mape: 1581.6594\n",
            "Epoch 194/300\n",
            "9/9 [==============================] - 1s 143ms/step - loss: 0.1216 - mae: 0.2512 - mse: 0.6011 - msle: 0.0551 - mape: 1547.2220\n",
            "Epoch 195/300\n",
            "9/9 [==============================] - 1s 146ms/step - loss: 0.1216 - mae: 0.2524 - mse: 0.6005 - msle: 0.0554 - mape: 1589.7527\n",
            "Epoch 196/300\n",
            "9/9 [==============================] - 1s 144ms/step - loss: 0.1216 - mae: 0.2511 - mse: 0.6007 - msle: 0.0551 - mape: 1549.8815\n",
            "Epoch 197/300\n",
            "9/9 [==============================] - 2s 145ms/step - loss: 0.1215 - mae: 0.2515 - mse: 0.6005 - msle: 0.0552 - mape: 1563.8979\n",
            "Epoch 198/300\n",
            "9/9 [==============================] - 2s 149ms/step - loss: 0.1215 - mae: 0.2516 - mse: 0.6005 - msle: 0.0551 - mape: 1565.0065\n",
            "Epoch 199/300\n",
            "9/9 [==============================] - 2s 146ms/step - loss: 0.1215 - mae: 0.2517 - mse: 0.6002 - msle: 0.0552 - mape: 1573.6169\n",
            "Epoch 200/300\n",
            "9/9 [==============================] - 2s 147ms/step - loss: 0.1215 - mae: 0.2504 - mse: 0.6005 - msle: 0.0550 - mape: 1532.3168\n",
            "Epoch 201/300\n",
            "9/9 [==============================] - 2s 149ms/step - loss: 0.1214 - mae: 0.2518 - mse: 0.5999 - msle: 0.0552 - mape: 1578.6179\n",
            "Epoch 202/300\n",
            "9/9 [==============================] - 2s 148ms/step - loss: 0.1214 - mae: 0.2511 - mse: 0.6000 - msle: 0.0550 - mape: 1555.3518\n",
            "Epoch 203/300\n",
            "9/9 [==============================] - 1s 147ms/step - loss: 0.1214 - mae: 0.2513 - mse: 0.5999 - msle: 0.0551 - mape: 1565.2847\n",
            "Epoch 204/300\n",
            "9/9 [==============================] - 1s 146ms/step - loss: 0.1213 - mae: 0.2511 - mse: 0.5997 - msle: 0.0551 - mape: 1561.1434\n",
            "Epoch 205/300\n",
            "9/9 [==============================] - 1s 144ms/step - loss: 0.1213 - mae: 0.2508 - mse: 0.5997 - msle: 0.0550 - mape: 1552.8250\n",
            "Epoch 206/300\n",
            "9/9 [==============================] - 2s 147ms/step - loss: 0.1213 - mae: 0.2510 - mse: 0.5995 - msle: 0.0550 - mape: 1561.8942\n",
            "Epoch 207/300\n",
            "9/9 [==============================] - 1s 146ms/step - loss: 0.1212 - mae: 0.2508 - mse: 0.5994 - msle: 0.0550 - mape: 1554.5453\n",
            "Epoch 208/300\n",
            "9/9 [==============================] - 2s 148ms/step - loss: 0.1212 - mae: 0.2509 - mse: 0.5993 - msle: 0.0550 - mape: 1558.7130\n",
            "Epoch 209/300\n",
            "9/9 [==============================] - 2s 149ms/step - loss: 0.1212 - mae: 0.2507 - mse: 0.5992 - msle: 0.0549 - mape: 1553.9276\n",
            "Epoch 210/300\n",
            "9/9 [==============================] - 2s 150ms/step - loss: 0.1212 - mae: 0.2509 - mse: 0.5990 - msle: 0.0550 - mape: 1563.3634\n",
            "Epoch 211/300\n",
            "9/9 [==============================] - 2s 154ms/step - loss: 0.1211 - mae: 0.2505 - mse: 0.5990 - msle: 0.0549 - mape: 1548.6744\n",
            "Epoch 212/300\n",
            "9/9 [==============================] - 2s 148ms/step - loss: 0.1211 - mae: 0.2512 - mse: 0.5987 - msle: 0.0550 - mape: 1572.1639\n",
            "Epoch 213/300\n",
            "9/9 [==============================] - 2s 150ms/step - loss: 0.1211 - mae: 0.2501 - mse: 0.5989 - msle: 0.0548 - mape: 1539.8431\n",
            "Epoch 214/300\n",
            "9/9 [==============================] - 2s 150ms/step - loss: 0.1210 - mae: 0.2505 - mse: 0.5987 - msle: 0.0549 - mape: 1553.4489\n",
            "Epoch 215/300\n",
            "9/9 [==============================] - 2s 151ms/step - loss: 0.1210 - mae: 0.2507 - mse: 0.5985 - msle: 0.0549 - mape: 1559.4807\n",
            "Epoch 216/300\n",
            "9/9 [==============================] - 2s 149ms/step - loss: 0.1210 - mae: 0.2506 - mse: 0.5983 - msle: 0.0549 - mape: 1560.0242\n",
            "Epoch 217/300\n",
            "9/9 [==============================] - 2s 149ms/step - loss: 0.1210 - mae: 0.2502 - mse: 0.5984 - msle: 0.0548 - mape: 1547.5543\n",
            "Epoch 218/300\n",
            "9/9 [==============================] - 2s 149ms/step - loss: 0.1209 - mae: 0.2502 - mse: 0.5983 - msle: 0.0548 - mape: 1546.9758\n",
            "Epoch 219/300\n",
            "9/9 [==============================] - 2s 149ms/step - loss: 0.1209 - mae: 0.2508 - mse: 0.5979 - msle: 0.0550 - mape: 1569.8267\n",
            "Epoch 220/300\n",
            "9/9 [==============================] - 2s 149ms/step - loss: 0.1209 - mae: 0.2498 - mse: 0.5983 - msle: 0.0547 - mape: 1533.9385\n",
            "Epoch 221/300\n",
            "9/9 [==============================] - 2s 150ms/step - loss: 0.1209 - mae: 0.2511 - mse: 0.5976 - msle: 0.0550 - mape: 1580.9912\n",
            "Epoch 222/300\n",
            "9/9 [==============================] - 2s 148ms/step - loss: 0.1208 - mae: 0.2498 - mse: 0.5979 - msle: 0.0547 - mape: 1538.3104\n",
            "Epoch 223/300\n",
            "9/9 [==============================] - 2s 149ms/step - loss: 0.1208 - mae: 0.2501 - mse: 0.5977 - msle: 0.0547 - mape: 1549.4878\n",
            "Epoch 224/300\n",
            "9/9 [==============================] - 2s 150ms/step - loss: 0.1208 - mae: 0.2502 - mse: 0.5976 - msle: 0.0547 - mape: 1553.9879\n",
            "Epoch 225/300\n",
            "9/9 [==============================] - 2s 148ms/step - loss: 0.1207 - mae: 0.2504 - mse: 0.5974 - msle: 0.0548 - mape: 1560.2025\n",
            "Epoch 226/300\n",
            "9/9 [==============================] - 2s 148ms/step - loss: 0.1207 - mae: 0.2497 - mse: 0.5974 - msle: 0.0547 - mape: 1538.6569\n",
            "Epoch 227/300\n",
            "9/9 [==============================] - 2s 149ms/step - loss: 0.1207 - mae: 0.2505 - mse: 0.5970 - msle: 0.0548 - mape: 1567.5306\n",
            "Epoch 228/300\n",
            "9/9 [==============================] - 2s 149ms/step - loss: 0.1207 - mae: 0.2502 - mse: 0.5971 - msle: 0.0547 - mape: 1555.2341\n",
            "Epoch 229/300\n",
            "9/9 [==============================] - 2s 149ms/step - loss: 0.1206 - mae: 0.2498 - mse: 0.5969 - msle: 0.0547 - mape: 1547.1130\n",
            "Epoch 230/300\n",
            "9/9 [==============================] - 2s 148ms/step - loss: 0.1206 - mae: 0.2496 - mse: 0.5969 - msle: 0.0546 - mape: 1541.2264\n",
            "Epoch 231/300\n",
            "9/9 [==============================] - 2s 151ms/step - loss: 0.1206 - mae: 0.2501 - mse: 0.5967 - msle: 0.0547 - mape: 1558.1648\n",
            "Epoch 232/300\n",
            "9/9 [==============================] - 2s 147ms/step - loss: 0.1206 - mae: 0.2499 - mse: 0.5966 - msle: 0.0546 - mape: 1551.8196\n",
            "Epoch 233/300\n",
            "9/9 [==============================] - 2s 151ms/step - loss: 0.1205 - mae: 0.2499 - mse: 0.5965 - msle: 0.0546 - mape: 1553.4568\n",
            "Epoch 234/300\n",
            "9/9 [==============================] - 2s 147ms/step - loss: 0.1205 - mae: 0.2495 - mse: 0.5965 - msle: 0.0546 - mape: 1540.9796\n",
            "Epoch 235/300\n",
            "9/9 [==============================] - 2s 148ms/step - loss: 0.1205 - mae: 0.2503 - mse: 0.5961 - msle: 0.0547 - mape: 1569.3867\n",
            "Epoch 236/300\n",
            "9/9 [==============================] - 2s 148ms/step - loss: 0.1205 - mae: 0.2493 - mse: 0.5964 - msle: 0.0545 - mape: 1534.2979\n",
            "Epoch 237/300\n",
            "9/9 [==============================] - 2s 151ms/step - loss: 0.1204 - mae: 0.2499 - mse: 0.5961 - msle: 0.0546 - mape: 1557.1847\n",
            "Epoch 238/300\n",
            "9/9 [==============================] - 2s 153ms/step - loss: 0.1204 - mae: 0.2499 - mse: 0.5959 - msle: 0.0547 - mape: 1559.9377\n",
            "Epoch 239/300\n",
            "9/9 [==============================] - 1s 148ms/step - loss: 0.1204 - mae: 0.2490 - mse: 0.5961 - msle: 0.0544 - mape: 1528.5999\n",
            "Epoch 240/300\n",
            "9/9 [==============================] - 2s 148ms/step - loss: 0.1204 - mae: 0.2502 - mse: 0.5956 - msle: 0.0546 - mape: 1569.9771\n",
            "Epoch 241/300\n",
            "9/9 [==============================] - 1s 144ms/step - loss: 0.1203 - mae: 0.2490 - mse: 0.5960 - msle: 0.0544 - mape: 1529.3102\n",
            "Epoch 242/300\n",
            "9/9 [==============================] - 1s 146ms/step - loss: 0.1203 - mae: 0.2499 - mse: 0.5955 - msle: 0.0546 - mape: 1562.1571\n",
            "Epoch 243/300\n",
            "9/9 [==============================] - 2s 149ms/step - loss: 0.1203 - mae: 0.2492 - mse: 0.5955 - msle: 0.0545 - mape: 1542.8298\n",
            "Epoch 244/300\n",
            "9/9 [==============================] - 1s 146ms/step - loss: 0.1203 - mae: 0.2490 - mse: 0.5955 - msle: 0.0544 - mape: 1535.9489\n",
            "Epoch 245/300\n",
            "9/9 [==============================] - 1s 148ms/step - loss: 0.1202 - mae: 0.2500 - mse: 0.5951 - msle: 0.0546 - mape: 1569.3020\n",
            "Epoch 246/300\n",
            "9/9 [==============================] - 2s 146ms/step - loss: 0.1202 - mae: 0.2487 - mse: 0.5955 - msle: 0.0543 - mape: 1525.5250\n",
            "Epoch 247/300\n",
            "9/9 [==============================] - 2s 146ms/step - loss: 0.1202 - mae: 0.2499 - mse: 0.5950 - msle: 0.0545 - mape: 1565.1831\n",
            "Epoch 248/300\n",
            "9/9 [==============================] - 2s 147ms/step - loss: 0.1202 - mae: 0.2490 - mse: 0.5951 - msle: 0.0544 - mape: 1536.8213\n",
            "Epoch 249/300\n",
            "9/9 [==============================] - 2s 145ms/step - loss: 0.1201 - mae: 0.2496 - mse: 0.5948 - msle: 0.0545 - mape: 1559.1307\n",
            "Epoch 250/300\n",
            "9/9 [==============================] - 1s 146ms/step - loss: 0.1201 - mae: 0.2489 - mse: 0.5950 - msle: 0.0543 - mape: 1535.3837\n",
            "Epoch 251/300\n",
            "9/9 [==============================] - 2s 146ms/step - loss: 0.1201 - mae: 0.2494 - mse: 0.5946 - msle: 0.0544 - mape: 1555.5157\n",
            "Epoch 252/300\n",
            "9/9 [==============================] - 1s 148ms/step - loss: 0.1201 - mae: 0.2489 - mse: 0.5946 - msle: 0.0544 - mape: 1539.4729\n",
            "Epoch 253/300\n",
            "9/9 [==============================] - 2s 148ms/step - loss: 0.1200 - mae: 0.2491 - mse: 0.5945 - msle: 0.0544 - mape: 1547.6962\n",
            "Epoch 254/300\n",
            "9/9 [==============================] - 2s 149ms/step - loss: 0.1200 - mae: 0.2489 - mse: 0.5946 - msle: 0.0543 - mape: 1541.3185\n",
            "Epoch 255/300\n",
            "9/9 [==============================] - 2s 147ms/step - loss: 0.1200 - mae: 0.2497 - mse: 0.5941 - msle: 0.0545 - mape: 1567.9121\n",
            "Epoch 256/300\n",
            "9/9 [==============================] - 1s 147ms/step - loss: 0.1200 - mae: 0.2481 - mse: 0.5945 - msle: 0.0542 - mape: 1518.7986\n",
            "Epoch 257/300\n",
            "9/9 [==============================] - 1s 145ms/step - loss: 0.1199 - mae: 0.2495 - mse: 0.5939 - msle: 0.0545 - mape: 1564.6338\n",
            "Epoch 258/300\n",
            "9/9 [==============================] - 2s 148ms/step - loss: 0.1199 - mae: 0.2486 - mse: 0.5942 - msle: 0.0542 - mape: 1534.4700\n",
            "Epoch 259/300\n",
            "9/9 [==============================] - 2s 153ms/step - loss: 0.1199 - mae: 0.2490 - mse: 0.5939 - msle: 0.0543 - mape: 1552.4210\n",
            "Epoch 260/300\n",
            "9/9 [==============================] - 2s 146ms/step - loss: 0.1199 - mae: 0.2490 - mse: 0.5938 - msle: 0.0543 - mape: 1552.4180\n",
            "Epoch 261/300\n",
            "9/9 [==============================] - 2s 148ms/step - loss: 0.1198 - mae: 0.2483 - mse: 0.5940 - msle: 0.0542 - mape: 1526.7961\n",
            "Epoch 262/300\n",
            "9/9 [==============================] - 2s 150ms/step - loss: 0.1198 - mae: 0.2498 - mse: 0.5934 - msle: 0.0545 - mape: 1578.6135\n",
            "Epoch 263/300\n",
            "9/9 [==============================] - 2s 145ms/step - loss: 0.1198 - mae: 0.2479 - mse: 0.5939 - msle: 0.0541 - mape: 1517.9446\n",
            "Epoch 264/300\n",
            "9/9 [==============================] - 1s 146ms/step - loss: 0.1198 - mae: 0.2491 - mse: 0.5934 - msle: 0.0543 - mape: 1559.5116\n",
            "Epoch 265/300\n",
            "9/9 [==============================] - 2s 151ms/step - loss: 0.1197 - mae: 0.2483 - mse: 0.5935 - msle: 0.0542 - mape: 1533.8545\n",
            "Epoch 266/300\n",
            "9/9 [==============================] - 2s 151ms/step - loss: 0.1197 - mae: 0.2490 - mse: 0.5932 - msle: 0.0543 - mape: 1558.1447\n",
            "Epoch 267/300\n",
            "9/9 [==============================] - 2s 152ms/step - loss: 0.1197 - mae: 0.2483 - mse: 0.5933 - msle: 0.0542 - mape: 1535.3771\n",
            "Epoch 268/300\n",
            "9/9 [==============================] - 2s 152ms/step - loss: 0.1197 - mae: 0.2487 - mse: 0.5930 - msle: 0.0543 - mape: 1550.7391\n",
            "Epoch 269/300\n",
            "9/9 [==============================] - 2s 152ms/step - loss: 0.1196 - mae: 0.2478 - mse: 0.5932 - msle: 0.0541 - mape: 1520.8245\n",
            "Epoch 270/300\n",
            "9/9 [==============================] - 2s 148ms/step - loss: 0.1196 - mae: 0.2489 - mse: 0.5929 - msle: 0.0542 - mape: 1557.9130\n",
            "Epoch 271/300\n",
            "9/9 [==============================] - 2s 149ms/step - loss: 0.1196 - mae: 0.2481 - mse: 0.5931 - msle: 0.0541 - mape: 1532.5604\n",
            "Epoch 272/300\n",
            "9/9 [==============================] - 2s 149ms/step - loss: 0.1196 - mae: 0.2488 - mse: 0.5926 - msle: 0.0542 - mape: 1557.6058\n",
            "Epoch 273/300\n",
            "9/9 [==============================] - 2s 149ms/step - loss: 0.1195 - mae: 0.2481 - mse: 0.5927 - msle: 0.0541 - mape: 1535.7592\n",
            "Epoch 274/300\n",
            "9/9 [==============================] - 2s 149ms/step - loss: 0.1195 - mae: 0.2486 - mse: 0.5925 - msle: 0.0542 - mape: 1553.6770\n",
            "Epoch 275/300\n",
            "9/9 [==============================] - 2s 149ms/step - loss: 0.1195 - mae: 0.2482 - mse: 0.5925 - msle: 0.0541 - mape: 1541.8900\n",
            "Epoch 276/300\n",
            "9/9 [==============================] - 2s 147ms/step - loss: 0.1195 - mae: 0.2478 - mse: 0.5925 - msle: 0.0541 - mape: 1530.5884\n",
            "Epoch 277/300\n",
            "9/9 [==============================] - 2s 148ms/step - loss: 0.1194 - mae: 0.2484 - mse: 0.5922 - msle: 0.0542 - mape: 1552.3651\n",
            "Epoch 278/300\n",
            "9/9 [==============================] - 1s 146ms/step - loss: 0.1194 - mae: 0.2477 - mse: 0.5923 - msle: 0.0540 - mape: 1529.5518\n",
            "Epoch 279/300\n",
            "9/9 [==============================] - 2s 155ms/step - loss: 0.1194 - mae: 0.2488 - mse: 0.5919 - msle: 0.0542 - mape: 1565.0305\n",
            "Epoch 280/300\n",
            "9/9 [==============================] - 1s 148ms/step - loss: 0.1194 - mae: 0.2473 - mse: 0.5923 - msle: 0.0539 - mape: 1516.1353\n",
            "Epoch 281/300\n",
            "9/9 [==============================] - 2s 148ms/step - loss: 0.1193 - mae: 0.2480 - mse: 0.5920 - msle: 0.0540 - mape: 1541.6780\n",
            "Epoch 282/300\n",
            "9/9 [==============================] - 2s 152ms/step - loss: 0.1193 - mae: 0.2484 - mse: 0.5918 - msle: 0.0541 - mape: 1554.3831\n",
            "Epoch 283/300\n",
            "9/9 [==============================] - 2s 147ms/step - loss: 0.1193 - mae: 0.2478 - mse: 0.5918 - msle: 0.0540 - mape: 1536.6284\n",
            "Epoch 284/300\n",
            "9/9 [==============================] - 1s 146ms/step - loss: 0.1193 - mae: 0.2476 - mse: 0.5918 - msle: 0.0539 - mape: 1530.0088\n",
            "Epoch 285/300\n",
            "9/9 [==============================] - 2s 149ms/step - loss: 0.1192 - mae: 0.2482 - mse: 0.5915 - msle: 0.0541 - mape: 1553.8926\n",
            "Epoch 286/300\n",
            "9/9 [==============================] - 2s 149ms/step - loss: 0.1192 - mae: 0.2471 - mse: 0.5917 - msle: 0.0539 - mape: 1519.2513\n",
            "Epoch 287/300\n",
            "9/9 [==============================] - 2s 150ms/step - loss: 0.1192 - mae: 0.2477 - mse: 0.5914 - msle: 0.0540 - mape: 1541.2715\n",
            "Epoch 288/300\n",
            "9/9 [==============================] - 2s 149ms/step - loss: 0.1192 - mae: 0.2473 - mse: 0.5916 - msle: 0.0539 - mape: 1525.3379\n",
            "Epoch 289/300\n",
            "9/9 [==============================] - 2s 150ms/step - loss: 0.1192 - mae: 0.2481 - mse: 0.5911 - msle: 0.0540 - mape: 1554.9218\n",
            "Epoch 290/300\n",
            "9/9 [==============================] - 1s 148ms/step - loss: 0.1191 - mae: 0.2469 - mse: 0.5913 - msle: 0.0539 - mape: 1517.3633\n",
            "Epoch 291/300\n",
            "9/9 [==============================] - 2s 148ms/step - loss: 0.1191 - mae: 0.2475 - mse: 0.5910 - msle: 0.0539 - mape: 1536.0615\n",
            "Epoch 292/300\n",
            "9/9 [==============================] - 2s 152ms/step - loss: 0.1191 - mae: 0.2471 - mse: 0.5911 - msle: 0.0538 - mape: 1524.5647\n",
            "Epoch 293/300\n",
            "9/9 [==============================] - 2s 149ms/step - loss: 0.1191 - mae: 0.2479 - mse: 0.5907 - msle: 0.0540 - mape: 1553.5753\n",
            "Epoch 294/300\n",
            "9/9 [==============================] - 2s 149ms/step - loss: 0.1190 - mae: 0.2467 - mse: 0.5909 - msle: 0.0538 - mape: 1514.8838\n",
            "Epoch 295/300\n",
            "9/9 [==============================] - 2s 147ms/step - loss: 0.1190 - mae: 0.2466 - mse: 0.5909 - msle: 0.0537 - mape: 1511.5884\n",
            "Epoch 296/300\n",
            "9/9 [==============================] - 2s 148ms/step - loss: 0.1190 - mae: 0.2478 - mse: 0.5905 - msle: 0.0539 - mape: 1549.4307\n",
            "Epoch 297/300\n",
            "9/9 [==============================] - 2s 150ms/step - loss: 0.1189 - mae: 0.2467 - mse: 0.5906 - msle: 0.0538 - mape: 1518.3480\n",
            "Epoch 298/300\n",
            "9/9 [==============================] - 2s 150ms/step - loss: 0.1189 - mae: 0.2468 - mse: 0.5905 - msle: 0.0538 - mape: 1521.4250\n",
            "Epoch 299/300\n",
            "9/9 [==============================] - 2s 149ms/step - loss: 0.1189 - mae: 0.2470 - mse: 0.5903 - msle: 0.0538 - mape: 1529.1605\n",
            "Epoch 300/300\n",
            "9/9 [==============================] - 2s 150ms/step - loss: 0.1189 - mae: 0.2466 - mse: 0.5903 - msle: 0.0537 - mape: 1519.5763\n"
          ],
          "name": "stdout"
        }
      ]
    },
    {
      "cell_type": "code",
      "metadata": {
        "colab": {
          "base_uri": "https://localhost:8080/",
          "height": 448
        },
        "id": "LBpX8U4Xz-qe",
        "outputId": "af5396b4-5951-445b-e297-dfa320fab5db"
      },
      "source": [
        "val_loss=history1.history['mae']\n",
        "loss=history.history['mae']\n",
        "epoch=range(len(loss))\n",
        "epochs=range(len(val_loss))\n",
        "\n",
        "#zoomed_loss = loss[30:]\n",
        "#zoomed_epoch = range(30,50)\n",
        "\n",
        "#zoomed_val_loss = loss[30:]\n",
        "#zoomed_epochs = range(30,50)\n",
        "plt.figure(figsize=(10, 6))\n",
        "#plt.xlim(0, 50)\n",
        "plt.ylim(0.1,0.5 )\n",
        "plt.plot(epoch, loss, 'r')\n",
        "#plt.plot(zoomed_epochs, zoomed_loss, 'r')\n",
        "plt.plot(epochs, val_loss, 'b')\n",
        "#plt.plot(zoomed_epochs, zoomed_val_loss, 'r')\n",
        "plt.title('Training loss and testing loss', fontsize=15)\n",
        "plt.xlabel(\"Epochs\", fontsize=15)\n",
        "plt.ylabel(\"Loss\", fontsize=15)\n",
        "plt.legend(['Train', 'Test'], fontsize=15)#, loc='upper left')\n",
        "plt.grid()\n",
        "plt.savefig('train vs test mae.png', dpi = 720) \n",
        "plt.figure()\n",
        "#zoomed_loss = loss[200:]\n",
        "#zoomed_epochs = range(200,300)"
      ],
      "execution_count": 104,
      "outputs": [
        {
          "output_type": "execute_result",
          "data": {
            "text/plain": [
              "<Figure size 432x288 with 0 Axes>"
            ]
          },
          "metadata": {
            "tags": []
          },
          "execution_count": 104
        },
        {
          "output_type": "display_data",
          "data": {
            "image/png": "[encoded data removed]",
            "text/plain": [
              "<Figure size 720x432 with 1 Axes>"
            ]
          },
          "metadata": {
            "tags": [],
            "needs_background": "light"
          }
        },
        {
          "output_type": "display_data",
          "data": {
            "text/plain": [
              "<Figure size 432x288 with 0 Axes>"
            ]
          },
          "metadata": {
            "tags": []
          }
        }
      ]
    },
    {
      "cell_type": "code",
      "metadata": {
        "colab": {
          "base_uri": "https://localhost:8080/",
          "height": 624
        },
        "id": "noSQGJV1z-qe",
        "outputId": "84bed4c0-7629-48da-850f-1e4f304dac19"
      },
      "source": [
        "import matplotlib.image  as mpimg\n",
        "import matplotlib.pyplot as plt\n",
        "\n",
        "#-----------------------------------------------------------\n",
        "# Retrieve a list of list results on training and test data\n",
        "# sets for each training epoch\n",
        "#-----------------------------------------------------------\n",
        "loss=history.history['loss']\n",
        "\n",
        "epochs=range(len(loss)) # Get number of epochs\n",
        "\n",
        "\n",
        "#------------------------------------------------\n",
        "# Plot training and validation loss per epoch\n",
        "#------------------------------------------------\n",
        "plt.plot(epochs, loss, 'r')\n",
        "plt.title('Training loss', fontsize=15)\n",
        "plt.xlabel(\"Epochs\", fontsize=15)\n",
        "plt.ylabel(\"Loss\", fontsize=15)\n",
        "plt.legend([\"Loss\"])\n",
        "plt.savefig('epoch_v_losss.png', dpi = 720) \n",
        "plt.figure()\n",
        "\n",
        "\n",
        "\n",
        "zoomed_loss = loss[150:]\n",
        "zoomed_epochs = range(150,300)\n",
        "\n",
        "\n",
        "#------------------------------------------------\n",
        "# Plot training and validation loss per epoch\n",
        "#------------------------------------------------\n",
        "plt.plot(zoomed_epochs, zoomed_loss, 'r')\n",
        "plt.title('Training loss', fontsize=15)\n",
        "plt.xlabel(\"Epochs\", fontsize=15)\n",
        "plt.ylabel(\"Loss\", fontsize=15)\n",
        "plt.legend([\"Loss\"])\n",
        "\n",
        "plt.figure()"
      ],
      "execution_count": 105,
      "outputs": [
        {
          "output_type": "execute_result",
          "data": {
            "text/plain": [
              "<Figure size 432x288 with 0 Axes>"
            ]
          },
          "metadata": {
            "tags": []
          },
          "execution_count": 105
        },
        {
          "output_type": "display_data",
          "data": {
            "image/png": "[encoded data removed]",
            "text/plain": [
              "<Figure size 432x288 with 1 Axes>"
            ]
          },
          "metadata": {
            "tags": [],
            "needs_background": "light"
          }
        },
        {
          "output_type": "display_data",
          "data": {
            "image/png": "[encoded data removed]",
            "text/plain": [
              "<Figure size 432x288 with 1 Axes>"
            ]
          },
          "metadata": {
            "tags": [],
            "needs_background": "light"
          }
        },
        {
          "output_type": "display_data",
          "data": {
            "text/plain": [
              "<Figure size 432x288 with 0 Axes>"
            ]
          },
          "metadata": {
            "tags": []
          }
        }
      ]
    }
  ]
}